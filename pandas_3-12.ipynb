{
  "metadata": {
    "kernelspec": {
      "name": "python",
      "display_name": "Python (Pyodide)",
      "language": "python"
    },
    "language_info": {
      "codemirror_mode": {
        "name": "python",
        "version": 3
      },
      "file_extension": ".py",
      "mimetype": "text/x-python",
      "name": "python",
      "nbconvert_exporter": "python",
      "pygments_lexer": "ipython3",
      "version": "3.8"
    }
  },
  "nbformat_minor": 4,
  "nbformat": 4,
  "cells": [
    {
      "cell_type": "code",
      "source": "import pandas as pd\nimport numpy as np",
      "metadata": {
        "trusted": true
      },
      "outputs": [],
      "execution_count": 1
    },
    {
      "cell_type": "code",
      "source": "rng = np.random.RandomState(42)\nser = pd.Series(rng.randint(0, 10, 4))\nser",
      "metadata": {
        "trusted": true
      },
      "outputs": [
        {
          "execution_count": 2,
          "output_type": "execute_result",
          "data": {
            "text/plain": "0    6\n1    3\n2    7\n3    4\ndtype: int32"
          },
          "metadata": {}
        }
      ],
      "execution_count": 2
    },
    {
      "cell_type": "code",
      "source": "df = pd.DataFrame(rng.randint(0, 10, (3, 4)),\n                  columns=['A', 'B', 'C', 'D'])\ndf",
      "metadata": {
        "trusted": true
      },
      "outputs": [
        {
          "execution_count": 3,
          "output_type": "execute_result",
          "data": {
            "text/plain": "   A  B  C  D\n0  6  9  2  6\n1  7  4  3  7\n2  7  2  5  4",
            "text/html": "<div>\n<style scoped>\n    .dataframe tbody tr th:only-of-type {\n        vertical-align: middle;\n    }\n\n    .dataframe tbody tr th {\n        vertical-align: top;\n    }\n\n    .dataframe thead th {\n        text-align: right;\n    }\n</style>\n<table border=\"1\" class=\"dataframe\">\n  <thead>\n    <tr style=\"text-align: right;\">\n      <th></th>\n      <th>A</th>\n      <th>B</th>\n      <th>C</th>\n      <th>D</th>\n    </tr>\n  </thead>\n  <tbody>\n    <tr>\n      <th>0</th>\n      <td>6</td>\n      <td>9</td>\n      <td>2</td>\n      <td>6</td>\n    </tr>\n    <tr>\n      <th>1</th>\n      <td>7</td>\n      <td>4</td>\n      <td>3</td>\n      <td>7</td>\n    </tr>\n    <tr>\n      <th>2</th>\n      <td>7</td>\n      <td>2</td>\n      <td>5</td>\n      <td>4</td>\n    </tr>\n  </tbody>\n</table>\n</div>"
          },
          "metadata": {}
        }
      ],
      "execution_count": 3
    },
    {
      "cell_type": "code",
      "source": "np.exp(ser)",
      "metadata": {
        "trusted": true
      },
      "outputs": [
        {
          "execution_count": 4,
          "output_type": "execute_result",
          "data": {
            "text/plain": "0     403.428793\n1      20.085537\n2    1096.633158\n3      54.598150\ndtype: float64"
          },
          "metadata": {}
        }
      ],
      "execution_count": 4
    },
    {
      "cell_type": "code",
      "source": "np.sin(df * np.pi / 4)",
      "metadata": {
        "trusted": true
      },
      "outputs": [
        {
          "execution_count": 5,
          "output_type": "execute_result",
          "data": {
            "text/plain": "          A             B         C             D\n0 -1.000000  7.071068e-01  1.000000 -1.000000e+00\n1 -0.707107  1.224647e-16  0.707107 -7.071068e-01\n2 -0.707107  1.000000e+00 -0.707107  1.224647e-16",
            "text/html": "<div>\n<style scoped>\n    .dataframe tbody tr th:only-of-type {\n        vertical-align: middle;\n    }\n\n    .dataframe tbody tr th {\n        vertical-align: top;\n    }\n\n    .dataframe thead th {\n        text-align: right;\n    }\n</style>\n<table border=\"1\" class=\"dataframe\">\n  <thead>\n    <tr style=\"text-align: right;\">\n      <th></th>\n      <th>A</th>\n      <th>B</th>\n      <th>C</th>\n      <th>D</th>\n    </tr>\n  </thead>\n  <tbody>\n    <tr>\n      <th>0</th>\n      <td>-1.000000</td>\n      <td>7.071068e-01</td>\n      <td>1.000000</td>\n      <td>-1.000000e+00</td>\n    </tr>\n    <tr>\n      <th>1</th>\n      <td>-0.707107</td>\n      <td>1.224647e-16</td>\n      <td>0.707107</td>\n      <td>-7.071068e-01</td>\n    </tr>\n    <tr>\n      <th>2</th>\n      <td>-0.707107</td>\n      <td>1.000000e+00</td>\n      <td>-0.707107</td>\n      <td>1.224647e-16</td>\n    </tr>\n  </tbody>\n</table>\n</div>"
          },
          "metadata": {}
        }
      ],
      "execution_count": 5
    },
    {
      "cell_type": "code",
      "source": "area = pd.Series({'Alaska': 1723337, 'Texas': 695662,\n                  'California': 423967}, name='area')\npopulation = pd.Series({'California': 38332521, 'Texas': 26448193,\n                        'New York': 19651127}, name='population')",
      "metadata": {
        "trusted": true
      },
      "outputs": [],
      "execution_count": 6
    },
    {
      "cell_type": "code",
      "source": "population / area",
      "metadata": {
        "trusted": true
      },
      "outputs": [
        {
          "execution_count": 7,
          "output_type": "execute_result",
          "data": {
            "text/plain": "Alaska              NaN\nCalifornia    90.413926\nNew York            NaN\nTexas         38.018740\ndtype: float64"
          },
          "metadata": {}
        }
      ],
      "execution_count": 7
    },
    {
      "cell_type": "code",
      "source": "area.index | population.index",
      "metadata": {
        "trusted": true
      },
      "outputs": [
        {
          "name": "stderr",
          "text": "<ipython-input-8-ff558a211efb>:1: FutureWarning: Index.__or__ operating as a set operation is deprecated, in the future this will be a logical operation matching Series.__or__.  Use index.union(other) instead.\n  area.index | population.index\n",
          "output_type": "stream"
        },
        {
          "execution_count": 8,
          "output_type": "execute_result",
          "data": {
            "text/plain": "Index(['Alaska', 'California', 'New York', 'Texas'], dtype='object')"
          },
          "metadata": {}
        }
      ],
      "execution_count": 8
    },
    {
      "cell_type": "code",
      "source": "A = pd.Series([2, 4, 6], index=[0, 1, 2])\nB = pd.Series([1, 3, 5], index=[1, 2, 3])\nA + B",
      "metadata": {
        "trusted": true
      },
      "outputs": [
        {
          "execution_count": 9,
          "output_type": "execute_result",
          "data": {
            "text/plain": "0    NaN\n1    5.0\n2    9.0\n3    NaN\ndtype: float64"
          },
          "metadata": {}
        }
      ],
      "execution_count": 9
    },
    {
      "cell_type": "code",
      "source": "A.add(B, fill_value=0)",
      "metadata": {
        "trusted": true
      },
      "outputs": [
        {
          "execution_count": 10,
          "output_type": "execute_result",
          "data": {
            "text/plain": "0    2.0\n1    5.0\n2    9.0\n3    5.0\ndtype: float64"
          },
          "metadata": {}
        }
      ],
      "execution_count": 10
    },
    {
      "cell_type": "code",
      "source": "A = pd.DataFrame(rng.randint(0, 20, (2, 2)),\n                 columns=list('AB'))\nA",
      "metadata": {
        "trusted": true
      },
      "outputs": [
        {
          "execution_count": 11,
          "output_type": "execute_result",
          "data": {
            "text/plain": "   A   B\n0  1  11\n1  5   1",
            "text/html": "<div>\n<style scoped>\n    .dataframe tbody tr th:only-of-type {\n        vertical-align: middle;\n    }\n\n    .dataframe tbody tr th {\n        vertical-align: top;\n    }\n\n    .dataframe thead th {\n        text-align: right;\n    }\n</style>\n<table border=\"1\" class=\"dataframe\">\n  <thead>\n    <tr style=\"text-align: right;\">\n      <th></th>\n      <th>A</th>\n      <th>B</th>\n    </tr>\n  </thead>\n  <tbody>\n    <tr>\n      <th>0</th>\n      <td>1</td>\n      <td>11</td>\n    </tr>\n    <tr>\n      <th>1</th>\n      <td>5</td>\n      <td>1</td>\n    </tr>\n  </tbody>\n</table>\n</div>"
          },
          "metadata": {}
        }
      ],
      "execution_count": 11
    },
    {
      "cell_type": "code",
      "source": "B = pd.DataFrame(rng.randint(0, 10, (3, 3)),\n                 columns=list('BAC'))\nB",
      "metadata": {
        "trusted": true
      },
      "outputs": [
        {
          "execution_count": 12,
          "output_type": "execute_result",
          "data": {
            "text/plain": "   B  A  C\n0  4  0  9\n1  5  8  0\n2  9  2  6",
            "text/html": "<div>\n<style scoped>\n    .dataframe tbody tr th:only-of-type {\n        vertical-align: middle;\n    }\n\n    .dataframe tbody tr th {\n        vertical-align: top;\n    }\n\n    .dataframe thead th {\n        text-align: right;\n    }\n</style>\n<table border=\"1\" class=\"dataframe\">\n  <thead>\n    <tr style=\"text-align: right;\">\n      <th></th>\n      <th>B</th>\n      <th>A</th>\n      <th>C</th>\n    </tr>\n  </thead>\n  <tbody>\n    <tr>\n      <th>0</th>\n      <td>4</td>\n      <td>0</td>\n      <td>9</td>\n    </tr>\n    <tr>\n      <th>1</th>\n      <td>5</td>\n      <td>8</td>\n      <td>0</td>\n    </tr>\n    <tr>\n      <th>2</th>\n      <td>9</td>\n      <td>2</td>\n      <td>6</td>\n    </tr>\n  </tbody>\n</table>\n</div>"
          },
          "metadata": {}
        }
      ],
      "execution_count": 12
    },
    {
      "cell_type": "code",
      "source": "A + B",
      "metadata": {
        "trusted": true
      },
      "outputs": [
        {
          "execution_count": 13,
          "output_type": "execute_result",
          "data": {
            "text/plain": "      A     B   C\n0   1.0  15.0 NaN\n1  13.0   6.0 NaN\n2   NaN   NaN NaN",
            "text/html": "<div>\n<style scoped>\n    .dataframe tbody tr th:only-of-type {\n        vertical-align: middle;\n    }\n\n    .dataframe tbody tr th {\n        vertical-align: top;\n    }\n\n    .dataframe thead th {\n        text-align: right;\n    }\n</style>\n<table border=\"1\" class=\"dataframe\">\n  <thead>\n    <tr style=\"text-align: right;\">\n      <th></th>\n      <th>A</th>\n      <th>B</th>\n      <th>C</th>\n    </tr>\n  </thead>\n  <tbody>\n    <tr>\n      <th>0</th>\n      <td>1.0</td>\n      <td>15.0</td>\n      <td>NaN</td>\n    </tr>\n    <tr>\n      <th>1</th>\n      <td>13.0</td>\n      <td>6.0</td>\n      <td>NaN</td>\n    </tr>\n    <tr>\n      <th>2</th>\n      <td>NaN</td>\n      <td>NaN</td>\n      <td>NaN</td>\n    </tr>\n  </tbody>\n</table>\n</div>"
          },
          "metadata": {}
        }
      ],
      "execution_count": 13
    },
    {
      "cell_type": "code",
      "source": "fill = A.stack().mean()\nA.add(B, fill_value=fill)",
      "metadata": {
        "trusted": true
      },
      "outputs": [
        {
          "execution_count": 14,
          "output_type": "execute_result",
          "data": {
            "text/plain": "      A     B     C\n0   1.0  15.0  13.5\n1  13.0   6.0   4.5\n2   6.5  13.5  10.5",
            "text/html": "<div>\n<style scoped>\n    .dataframe tbody tr th:only-of-type {\n        vertical-align: middle;\n    }\n\n    .dataframe tbody tr th {\n        vertical-align: top;\n    }\n\n    .dataframe thead th {\n        text-align: right;\n    }\n</style>\n<table border=\"1\" class=\"dataframe\">\n  <thead>\n    <tr style=\"text-align: right;\">\n      <th></th>\n      <th>A</th>\n      <th>B</th>\n      <th>C</th>\n    </tr>\n  </thead>\n  <tbody>\n    <tr>\n      <th>0</th>\n      <td>1.0</td>\n      <td>15.0</td>\n      <td>13.5</td>\n    </tr>\n    <tr>\n      <th>1</th>\n      <td>13.0</td>\n      <td>6.0</td>\n      <td>4.5</td>\n    </tr>\n    <tr>\n      <th>2</th>\n      <td>6.5</td>\n      <td>13.5</td>\n      <td>10.5</td>\n    </tr>\n  </tbody>\n</table>\n</div>"
          },
          "metadata": {}
        }
      ],
      "execution_count": 14
    },
    {
      "cell_type": "code",
      "source": "A = rng.randint(10, size=(3, 4))\nA",
      "metadata": {
        "trusted": true
      },
      "outputs": [
        {
          "execution_count": 15,
          "output_type": "execute_result",
          "data": {
            "text/plain": "array([[3, 8, 2, 4],\n       [2, 6, 4, 8],\n       [6, 1, 3, 8]])"
          },
          "metadata": {}
        }
      ],
      "execution_count": 15
    },
    {
      "cell_type": "code",
      "source": "A - A[0]",
      "metadata": {
        "trusted": true
      },
      "outputs": [
        {
          "execution_count": 16,
          "output_type": "execute_result",
          "data": {
            "text/plain": "array([[ 0,  0,  0,  0],\n       [-1, -2,  2,  4],\n       [ 3, -7,  1,  4]])"
          },
          "metadata": {}
        }
      ],
      "execution_count": 16
    },
    {
      "cell_type": "code",
      "source": "df = pd.DataFrame(A, columns=list('QRST'))\ndf - df.iloc[0]",
      "metadata": {
        "trusted": true
      },
      "outputs": [
        {
          "execution_count": 17,
          "output_type": "execute_result",
          "data": {
            "text/plain": "   Q  R  S  T\n0  0  0  0  0\n1 -1 -2  2  4\n2  3 -7  1  4",
            "text/html": "<div>\n<style scoped>\n    .dataframe tbody tr th:only-of-type {\n        vertical-align: middle;\n    }\n\n    .dataframe tbody tr th {\n        vertical-align: top;\n    }\n\n    .dataframe thead th {\n        text-align: right;\n    }\n</style>\n<table border=\"1\" class=\"dataframe\">\n  <thead>\n    <tr style=\"text-align: right;\">\n      <th></th>\n      <th>Q</th>\n      <th>R</th>\n      <th>S</th>\n      <th>T</th>\n    </tr>\n  </thead>\n  <tbody>\n    <tr>\n      <th>0</th>\n      <td>0</td>\n      <td>0</td>\n      <td>0</td>\n      <td>0</td>\n    </tr>\n    <tr>\n      <th>1</th>\n      <td>-1</td>\n      <td>-2</td>\n      <td>2</td>\n      <td>4</td>\n    </tr>\n    <tr>\n      <th>2</th>\n      <td>3</td>\n      <td>-7</td>\n      <td>1</td>\n      <td>4</td>\n    </tr>\n  </tbody>\n</table>\n</div>"
          },
          "metadata": {}
        }
      ],
      "execution_count": 17
    },
    {
      "cell_type": "code",
      "source": "df.subtract(df['R'], axis=0)",
      "metadata": {
        "trusted": true
      },
      "outputs": [
        {
          "execution_count": 18,
          "output_type": "execute_result",
          "data": {
            "text/plain": "   Q  R  S  T\n0 -5  0 -6 -4\n1 -4  0 -2  2\n2  5  0  2  7",
            "text/html": "<div>\n<style scoped>\n    .dataframe tbody tr th:only-of-type {\n        vertical-align: middle;\n    }\n\n    .dataframe tbody tr th {\n        vertical-align: top;\n    }\n\n    .dataframe thead th {\n        text-align: right;\n    }\n</style>\n<table border=\"1\" class=\"dataframe\">\n  <thead>\n    <tr style=\"text-align: right;\">\n      <th></th>\n      <th>Q</th>\n      <th>R</th>\n      <th>S</th>\n      <th>T</th>\n    </tr>\n  </thead>\n  <tbody>\n    <tr>\n      <th>0</th>\n      <td>-5</td>\n      <td>0</td>\n      <td>-6</td>\n      <td>-4</td>\n    </tr>\n    <tr>\n      <th>1</th>\n      <td>-4</td>\n      <td>0</td>\n      <td>-2</td>\n      <td>2</td>\n    </tr>\n    <tr>\n      <th>2</th>\n      <td>5</td>\n      <td>0</td>\n      <td>2</td>\n      <td>7</td>\n    </tr>\n  </tbody>\n</table>\n</div>"
          },
          "metadata": {}
        }
      ],
      "execution_count": 18
    },
    {
      "cell_type": "code",
      "source": "halfrow = df.iloc[0, ::2]\nhalfrow",
      "metadata": {
        "trusted": true
      },
      "outputs": [
        {
          "execution_count": 19,
          "output_type": "execute_result",
          "data": {
            "text/plain": "Q    3\nS    2\nName: 0, dtype: int32"
          },
          "metadata": {}
        }
      ],
      "execution_count": 19
    },
    {
      "cell_type": "code",
      "source": "df - halfrow",
      "metadata": {
        "trusted": true
      },
      "outputs": [
        {
          "execution_count": 20,
          "output_type": "execute_result",
          "data": {
            "text/plain": "     Q   R    S   T\n0  0.0 NaN  0.0 NaN\n1 -1.0 NaN  2.0 NaN\n2  3.0 NaN  1.0 NaN",
            "text/html": "<div>\n<style scoped>\n    .dataframe tbody tr th:only-of-type {\n        vertical-align: middle;\n    }\n\n    .dataframe tbody tr th {\n        vertical-align: top;\n    }\n\n    .dataframe thead th {\n        text-align: right;\n    }\n</style>\n<table border=\"1\" class=\"dataframe\">\n  <thead>\n    <tr style=\"text-align: right;\">\n      <th></th>\n      <th>Q</th>\n      <th>R</th>\n      <th>S</th>\n      <th>T</th>\n    </tr>\n  </thead>\n  <tbody>\n    <tr>\n      <th>0</th>\n      <td>0.0</td>\n      <td>NaN</td>\n      <td>0.0</td>\n      <td>NaN</td>\n    </tr>\n    <tr>\n      <th>1</th>\n      <td>-1.0</td>\n      <td>NaN</td>\n      <td>2.0</td>\n      <td>NaN</td>\n    </tr>\n    <tr>\n      <th>2</th>\n      <td>3.0</td>\n      <td>NaN</td>\n      <td>1.0</td>\n      <td>NaN</td>\n    </tr>\n  </tbody>\n</table>\n</div>"
          },
          "metadata": {}
        }
      ],
      "execution_count": 20
    },
    {
      "cell_type": "code",
      "source": "vals1 = np.array([1, None, 3, 4])\nvals1",
      "metadata": {
        "trusted": true
      },
      "outputs": [
        {
          "execution_count": 21,
          "output_type": "execute_result",
          "data": {
            "text/plain": "array([1, None, 3, 4], dtype=object)"
          },
          "metadata": {}
        }
      ],
      "execution_count": 21
    },
    {
      "cell_type": "code",
      "source": "for dtype in ['object', 'int']:\n    print(\"dtype =\", dtype)\n    %timeit np.arange(1E6, dtype=dtype).sum()\n    print()",
      "metadata": {
        "trusted": true
      },
      "outputs": [
        {
          "name": "stdout",
          "text": "dtype = object\n177 ms ± 7.64 ms per loop (mean ± std. dev. of 7 runs, 10 loops each)\n\ndtype = int\n1.2 ms ± 123 μs per loop (mean ± std. dev. of 7 runs, 1,000 loops each)\n\n",
          "output_type": "stream"
        }
      ],
      "execution_count": 22
    },
    {
      "cell_type": "code",
      "source": "vals1.sum()",
      "metadata": {
        "trusted": true
      },
      "outputs": [
        {
          "ename": "<class 'TypeError'>",
          "evalue": "unsupported operand type(s) for +: 'int' and 'NoneType'",
          "traceback": [
            "\u001b[0;31m---------------------------------------------------------------------------\u001b[0m",
            "\u001b[0;31mTypeError\u001b[0m                                 Traceback (most recent call last)",
            "Cell \u001b[0;32mIn[23], line 1\u001b[0m\n\u001b[0;32m----> 1\u001b[0m \u001b[43mvals1\u001b[49m\u001b[38;5;241;43m.\u001b[39;49m\u001b[43msum\u001b[49m\u001b[43m(\u001b[49m\u001b[43m)\u001b[49m\n",
            "File \u001b[0;32m/lib/python3.11/site-packages/numpy/core/_methods.py:49\u001b[0m, in \u001b[0;36m_sum\u001b[0;34m(a, axis, dtype, out, keepdims, initial, where)\u001b[0m\n\u001b[1;32m     47\u001b[0m \u001b[38;5;28;01mdef\u001b[39;00m \u001b[38;5;21m_sum\u001b[39m(a, axis\u001b[38;5;241m=\u001b[39m\u001b[38;5;28;01mNone\u001b[39;00m, dtype\u001b[38;5;241m=\u001b[39m\u001b[38;5;28;01mNone\u001b[39;00m, out\u001b[38;5;241m=\u001b[39m\u001b[38;5;28;01mNone\u001b[39;00m, keepdims\u001b[38;5;241m=\u001b[39m\u001b[38;5;28;01mFalse\u001b[39;00m,\n\u001b[1;32m     48\u001b[0m          initial\u001b[38;5;241m=\u001b[39m_NoValue, where\u001b[38;5;241m=\u001b[39m\u001b[38;5;28;01mTrue\u001b[39;00m):\n\u001b[0;32m---> 49\u001b[0m     \u001b[38;5;28;01mreturn\u001b[39;00m umr_sum(a, axis, dtype, out, keepdims, initial, where)\n",
            "\u001b[0;31mTypeError\u001b[0m: unsupported operand type(s) for +: 'int' and 'NoneType'"
          ],
          "output_type": "error"
        }
      ],
      "execution_count": 23
    },
    {
      "cell_type": "code",
      "source": "vals2 = np.array([1, np.nan, 3, 4]) \nvals2.dtype",
      "metadata": {
        "trusted": true
      },
      "outputs": [
        {
          "execution_count": 24,
          "output_type": "execute_result",
          "data": {
            "text/plain": "dtype('float64')"
          },
          "metadata": {}
        }
      ],
      "execution_count": 24
    },
    {
      "cell_type": "code",
      "source": "1 + np.nan",
      "metadata": {
        "trusted": true
      },
      "outputs": [
        {
          "execution_count": 25,
          "output_type": "execute_result",
          "data": {
            "text/plain": "nan"
          },
          "metadata": {}
        }
      ],
      "execution_count": 25
    },
    {
      "cell_type": "code",
      "source": "0 *  np.nan",
      "metadata": {
        "trusted": true
      },
      "outputs": [
        {
          "execution_count": 26,
          "output_type": "execute_result",
          "data": {
            "text/plain": "nan"
          },
          "metadata": {}
        }
      ],
      "execution_count": 26
    },
    {
      "cell_type": "code",
      "source": "vals2.sum(), vals2.min(), vals2.max()",
      "metadata": {
        "trusted": true
      },
      "outputs": [
        {
          "execution_count": 27,
          "output_type": "execute_result",
          "data": {
            "text/plain": "(nan, nan, nan)"
          },
          "metadata": {}
        }
      ],
      "execution_count": 27
    },
    {
      "cell_type": "code",
      "source": "np.nansum(vals2), np.nanmin(vals2), np.nanmax(vals2)",
      "metadata": {
        "trusted": true
      },
      "outputs": [
        {
          "execution_count": 28,
          "output_type": "execute_result",
          "data": {
            "text/plain": "(8.0, 1.0, 4.0)"
          },
          "metadata": {}
        }
      ],
      "execution_count": 28
    },
    {
      "cell_type": "code",
      "source": "pd.Series([1, np.nan, 2, None])",
      "metadata": {
        "trusted": true
      },
      "outputs": [
        {
          "execution_count": 29,
          "output_type": "execute_result",
          "data": {
            "text/plain": "0    1.0\n1    NaN\n2    2.0\n3    NaN\ndtype: float64"
          },
          "metadata": {}
        }
      ],
      "execution_count": 29
    },
    {
      "cell_type": "code",
      "source": "x = pd.Series(range(2), dtype=int)\nx",
      "metadata": {
        "trusted": true
      },
      "outputs": [
        {
          "execution_count": 30,
          "output_type": "execute_result",
          "data": {
            "text/plain": "0    0\n1    1\ndtype: int32"
          },
          "metadata": {}
        }
      ],
      "execution_count": 30
    },
    {
      "cell_type": "code",
      "source": "x[0] = None\nx",
      "metadata": {
        "trusted": true
      },
      "outputs": [
        {
          "execution_count": 31,
          "output_type": "execute_result",
          "data": {
            "text/plain": "0    NaN\n1    1.0\ndtype: float64"
          },
          "metadata": {}
        }
      ],
      "execution_count": 31
    },
    {
      "cell_type": "code",
      "source": "data = pd.Series([1, np.nan, 'hello', None])",
      "metadata": {
        "trusted": true
      },
      "outputs": [],
      "execution_count": 32
    },
    {
      "cell_type": "code",
      "source": "data.isnull()",
      "metadata": {
        "trusted": true
      },
      "outputs": [
        {
          "execution_count": 33,
          "output_type": "execute_result",
          "data": {
            "text/plain": "0    False\n1     True\n2    False\n3     True\ndtype: bool"
          },
          "metadata": {}
        }
      ],
      "execution_count": 33
    },
    {
      "cell_type": "code",
      "source": "data[data.notnull()]",
      "metadata": {
        "trusted": true
      },
      "outputs": [
        {
          "execution_count": 34,
          "output_type": "execute_result",
          "data": {
            "text/plain": "0        1\n2    hello\ndtype: object"
          },
          "metadata": {}
        }
      ],
      "execution_count": 34
    },
    {
      "cell_type": "code",
      "source": "data.dropna()",
      "metadata": {
        "trusted": true
      },
      "outputs": [
        {
          "execution_count": 35,
          "output_type": "execute_result",
          "data": {
            "text/plain": "0        1\n2    hello\ndtype: object"
          },
          "metadata": {}
        }
      ],
      "execution_count": 35
    },
    {
      "cell_type": "code",
      "source": "df = pd.DataFrame([[1,      np.nan, 2],\n                   [2,      3,      5],\n                   [np.nan, 4,      6]])\ndf",
      "metadata": {
        "trusted": true
      },
      "outputs": [
        {
          "execution_count": 36,
          "output_type": "execute_result",
          "data": {
            "text/plain": "     0    1  2\n0  1.0  NaN  2\n1  2.0  3.0  5\n2  NaN  4.0  6",
            "text/html": "<div>\n<style scoped>\n    .dataframe tbody tr th:only-of-type {\n        vertical-align: middle;\n    }\n\n    .dataframe tbody tr th {\n        vertical-align: top;\n    }\n\n    .dataframe thead th {\n        text-align: right;\n    }\n</style>\n<table border=\"1\" class=\"dataframe\">\n  <thead>\n    <tr style=\"text-align: right;\">\n      <th></th>\n      <th>0</th>\n      <th>1</th>\n      <th>2</th>\n    </tr>\n  </thead>\n  <tbody>\n    <tr>\n      <th>0</th>\n      <td>1.0</td>\n      <td>NaN</td>\n      <td>2</td>\n    </tr>\n    <tr>\n      <th>1</th>\n      <td>2.0</td>\n      <td>3.0</td>\n      <td>5</td>\n    </tr>\n    <tr>\n      <th>2</th>\n      <td>NaN</td>\n      <td>4.0</td>\n      <td>6</td>\n    </tr>\n  </tbody>\n</table>\n</div>"
          },
          "metadata": {}
        }
      ],
      "execution_count": 36
    },
    {
      "cell_type": "code",
      "source": "df.dropna()",
      "metadata": {
        "trusted": true
      },
      "outputs": [
        {
          "execution_count": 37,
          "output_type": "execute_result",
          "data": {
            "text/plain": "     0    1  2\n1  2.0  3.0  5",
            "text/html": "<div>\n<style scoped>\n    .dataframe tbody tr th:only-of-type {\n        vertical-align: middle;\n    }\n\n    .dataframe tbody tr th {\n        vertical-align: top;\n    }\n\n    .dataframe thead th {\n        text-align: right;\n    }\n</style>\n<table border=\"1\" class=\"dataframe\">\n  <thead>\n    <tr style=\"text-align: right;\">\n      <th></th>\n      <th>0</th>\n      <th>1</th>\n      <th>2</th>\n    </tr>\n  </thead>\n  <tbody>\n    <tr>\n      <th>1</th>\n      <td>2.0</td>\n      <td>3.0</td>\n      <td>5</td>\n    </tr>\n  </tbody>\n</table>\n</div>"
          },
          "metadata": {}
        }
      ],
      "execution_count": 37
    },
    {
      "cell_type": "code",
      "source": "df.dropna(axis='columns')",
      "metadata": {
        "trusted": true
      },
      "outputs": [
        {
          "execution_count": 38,
          "output_type": "execute_result",
          "data": {
            "text/plain": "   2\n0  2\n1  5\n2  6",
            "text/html": "<div>\n<style scoped>\n    .dataframe tbody tr th:only-of-type {\n        vertical-align: middle;\n    }\n\n    .dataframe tbody tr th {\n        vertical-align: top;\n    }\n\n    .dataframe thead th {\n        text-align: right;\n    }\n</style>\n<table border=\"1\" class=\"dataframe\">\n  <thead>\n    <tr style=\"text-align: right;\">\n      <th></th>\n      <th>2</th>\n    </tr>\n  </thead>\n  <tbody>\n    <tr>\n      <th>0</th>\n      <td>2</td>\n    </tr>\n    <tr>\n      <th>1</th>\n      <td>5</td>\n    </tr>\n    <tr>\n      <th>2</th>\n      <td>6</td>\n    </tr>\n  </tbody>\n</table>\n</div>"
          },
          "metadata": {}
        }
      ],
      "execution_count": 38
    },
    {
      "cell_type": "code",
      "source": "df[3] = np.nan\ndf",
      "metadata": {
        "trusted": true
      },
      "outputs": [
        {
          "execution_count": 39,
          "output_type": "execute_result",
          "data": {
            "text/plain": "     0    1  2   3\n0  1.0  NaN  2 NaN\n1  2.0  3.0  5 NaN\n2  NaN  4.0  6 NaN",
            "text/html": "<div>\n<style scoped>\n    .dataframe tbody tr th:only-of-type {\n        vertical-align: middle;\n    }\n\n    .dataframe tbody tr th {\n        vertical-align: top;\n    }\n\n    .dataframe thead th {\n        text-align: right;\n    }\n</style>\n<table border=\"1\" class=\"dataframe\">\n  <thead>\n    <tr style=\"text-align: right;\">\n      <th></th>\n      <th>0</th>\n      <th>1</th>\n      <th>2</th>\n      <th>3</th>\n    </tr>\n  </thead>\n  <tbody>\n    <tr>\n      <th>0</th>\n      <td>1.0</td>\n      <td>NaN</td>\n      <td>2</td>\n      <td>NaN</td>\n    </tr>\n    <tr>\n      <th>1</th>\n      <td>2.0</td>\n      <td>3.0</td>\n      <td>5</td>\n      <td>NaN</td>\n    </tr>\n    <tr>\n      <th>2</th>\n      <td>NaN</td>\n      <td>4.0</td>\n      <td>6</td>\n      <td>NaN</td>\n    </tr>\n  </tbody>\n</table>\n</div>"
          },
          "metadata": {}
        }
      ],
      "execution_count": 39
    },
    {
      "cell_type": "code",
      "source": "df.dropna(axis='columns', how='all')",
      "metadata": {
        "trusted": true
      },
      "outputs": [
        {
          "execution_count": 40,
          "output_type": "execute_result",
          "data": {
            "text/plain": "     0    1  2\n0  1.0  NaN  2\n1  2.0  3.0  5\n2  NaN  4.0  6",
            "text/html": "<div>\n<style scoped>\n    .dataframe tbody tr th:only-of-type {\n        vertical-align: middle;\n    }\n\n    .dataframe tbody tr th {\n        vertical-align: top;\n    }\n\n    .dataframe thead th {\n        text-align: right;\n    }\n</style>\n<table border=\"1\" class=\"dataframe\">\n  <thead>\n    <tr style=\"text-align: right;\">\n      <th></th>\n      <th>0</th>\n      <th>1</th>\n      <th>2</th>\n    </tr>\n  </thead>\n  <tbody>\n    <tr>\n      <th>0</th>\n      <td>1.0</td>\n      <td>NaN</td>\n      <td>2</td>\n    </tr>\n    <tr>\n      <th>1</th>\n      <td>2.0</td>\n      <td>3.0</td>\n      <td>5</td>\n    </tr>\n    <tr>\n      <th>2</th>\n      <td>NaN</td>\n      <td>4.0</td>\n      <td>6</td>\n    </tr>\n  </tbody>\n</table>\n</div>"
          },
          "metadata": {}
        }
      ],
      "execution_count": 40
    },
    {
      "cell_type": "code",
      "source": "df.dropna(axis='rows', thresh=3)",
      "metadata": {
        "trusted": true
      },
      "outputs": [
        {
          "execution_count": 41,
          "output_type": "execute_result",
          "data": {
            "text/plain": "     0    1  2   3\n1  2.0  3.0  5 NaN",
            "text/html": "<div>\n<style scoped>\n    .dataframe tbody tr th:only-of-type {\n        vertical-align: middle;\n    }\n\n    .dataframe tbody tr th {\n        vertical-align: top;\n    }\n\n    .dataframe thead th {\n        text-align: right;\n    }\n</style>\n<table border=\"1\" class=\"dataframe\">\n  <thead>\n    <tr style=\"text-align: right;\">\n      <th></th>\n      <th>0</th>\n      <th>1</th>\n      <th>2</th>\n      <th>3</th>\n    </tr>\n  </thead>\n  <tbody>\n    <tr>\n      <th>1</th>\n      <td>2.0</td>\n      <td>3.0</td>\n      <td>5</td>\n      <td>NaN</td>\n    </tr>\n  </tbody>\n</table>\n</div>"
          },
          "metadata": {}
        }
      ],
      "execution_count": 41
    },
    {
      "cell_type": "code",
      "source": "data = pd.Series([1, np.nan, 2, None, 3], index=list('abcde'))\ndata",
      "metadata": {
        "trusted": true
      },
      "outputs": [
        {
          "execution_count": 42,
          "output_type": "execute_result",
          "data": {
            "text/plain": "a    1.0\nb    NaN\nc    2.0\nd    NaN\ne    3.0\ndtype: float64"
          },
          "metadata": {}
        }
      ],
      "execution_count": 42
    },
    {
      "cell_type": "code",
      "source": "data.fillna(0)",
      "metadata": {
        "trusted": true
      },
      "outputs": [
        {
          "execution_count": 43,
          "output_type": "execute_result",
          "data": {
            "text/plain": "a    1.0\nb    0.0\nc    2.0\nd    0.0\ne    3.0\ndtype: float64"
          },
          "metadata": {}
        }
      ],
      "execution_count": 43
    },
    {
      "cell_type": "code",
      "source": "data.fillna(method='ffill')",
      "metadata": {
        "trusted": true
      },
      "outputs": [
        {
          "execution_count": 44,
          "output_type": "execute_result",
          "data": {
            "text/plain": "a    1.0\nb    1.0\nc    2.0\nd    2.0\ne    3.0\ndtype: float64"
          },
          "metadata": {}
        }
      ],
      "execution_count": 44
    },
    {
      "cell_type": "code",
      "source": "data.fillna(method='bfill')",
      "metadata": {
        "trusted": true
      },
      "outputs": [
        {
          "execution_count": 45,
          "output_type": "execute_result",
          "data": {
            "text/plain": "a    1.0\nb    2.0\nc    2.0\nd    3.0\ne    3.0\ndtype: float64"
          },
          "metadata": {}
        }
      ],
      "execution_count": 45
    },
    {
      "cell_type": "code",
      "source": "df",
      "metadata": {
        "trusted": true
      },
      "outputs": [
        {
          "execution_count": 46,
          "output_type": "execute_result",
          "data": {
            "text/plain": "     0    1  2   3\n0  1.0  NaN  2 NaN\n1  2.0  3.0  5 NaN\n2  NaN  4.0  6 NaN",
            "text/html": "<div>\n<style scoped>\n    .dataframe tbody tr th:only-of-type {\n        vertical-align: middle;\n    }\n\n    .dataframe tbody tr th {\n        vertical-align: top;\n    }\n\n    .dataframe thead th {\n        text-align: right;\n    }\n</style>\n<table border=\"1\" class=\"dataframe\">\n  <thead>\n    <tr style=\"text-align: right;\">\n      <th></th>\n      <th>0</th>\n      <th>1</th>\n      <th>2</th>\n      <th>3</th>\n    </tr>\n  </thead>\n  <tbody>\n    <tr>\n      <th>0</th>\n      <td>1.0</td>\n      <td>NaN</td>\n      <td>2</td>\n      <td>NaN</td>\n    </tr>\n    <tr>\n      <th>1</th>\n      <td>2.0</td>\n      <td>3.0</td>\n      <td>5</td>\n      <td>NaN</td>\n    </tr>\n    <tr>\n      <th>2</th>\n      <td>NaN</td>\n      <td>4.0</td>\n      <td>6</td>\n      <td>NaN</td>\n    </tr>\n  </tbody>\n</table>\n</div>"
          },
          "metadata": {}
        }
      ],
      "execution_count": 46
    },
    {
      "cell_type": "code",
      "source": "df.fillna(method='ffill', axis=1)",
      "metadata": {
        "trusted": true
      },
      "outputs": [
        {
          "execution_count": 47,
          "output_type": "execute_result",
          "data": {
            "text/plain": "     0    1    2    3\n0  1.0  1.0  2.0  2.0\n1  2.0  3.0  5.0  5.0\n2  NaN  4.0  6.0  6.0",
            "text/html": "<div>\n<style scoped>\n    .dataframe tbody tr th:only-of-type {\n        vertical-align: middle;\n    }\n\n    .dataframe tbody tr th {\n        vertical-align: top;\n    }\n\n    .dataframe thead th {\n        text-align: right;\n    }\n</style>\n<table border=\"1\" class=\"dataframe\">\n  <thead>\n    <tr style=\"text-align: right;\">\n      <th></th>\n      <th>0</th>\n      <th>1</th>\n      <th>2</th>\n      <th>3</th>\n    </tr>\n  </thead>\n  <tbody>\n    <tr>\n      <th>0</th>\n      <td>1.0</td>\n      <td>1.0</td>\n      <td>2.0</td>\n      <td>2.0</td>\n    </tr>\n    <tr>\n      <th>1</th>\n      <td>2.0</td>\n      <td>3.0</td>\n      <td>5.0</td>\n      <td>5.0</td>\n    </tr>\n    <tr>\n      <th>2</th>\n      <td>NaN</td>\n      <td>4.0</td>\n      <td>6.0</td>\n      <td>6.0</td>\n    </tr>\n  </tbody>\n</table>\n</div>"
          },
          "metadata": {}
        }
      ],
      "execution_count": 47
    },
    {
      "cell_type": "code",
      "source": "index = [('California', 2000), ('California', 2010),\n         ('New York', 2000), ('New York', 2010),\n         ('Texas', 2000), ('Texas', 2010)]\npopulations = [33871648, 37253956,\n               18976457, 19378102,\n               20851820, 25145561]\npop = pd.Series(populations, index=index)\npop",
      "metadata": {
        "trusted": true
      },
      "outputs": [
        {
          "execution_count": 48,
          "output_type": "execute_result",
          "data": {
            "text/plain": "(California, 2000)    33871648\n(California, 2010)    37253956\n(New York, 2000)      18976457\n(New York, 2010)      19378102\n(Texas, 2000)         20851820\n(Texas, 2010)         25145561\ndtype: int64"
          },
          "metadata": {}
        }
      ],
      "execution_count": 48
    },
    {
      "cell_type": "code",
      "source": "pop[('California', 2010):('Texas', 2000)]",
      "metadata": {
        "trusted": true
      },
      "outputs": [
        {
          "execution_count": 49,
          "output_type": "execute_result",
          "data": {
            "text/plain": "(California, 2010)    37253956\n(New York, 2000)      18976457\n(New York, 2010)      19378102\n(Texas, 2000)         20851820\ndtype: int64"
          },
          "metadata": {}
        }
      ],
      "execution_count": 49
    },
    {
      "cell_type": "code",
      "source": "pop[[i for i in pop.index if i[1] == 2010]]",
      "metadata": {
        "trusted": true
      },
      "outputs": [
        {
          "execution_count": 50,
          "output_type": "execute_result",
          "data": {
            "text/plain": "(California, 2010)    37253956\n(New York, 2010)      19378102\n(Texas, 2010)         25145561\ndtype: int64"
          },
          "metadata": {}
        }
      ],
      "execution_count": 50
    },
    {
      "cell_type": "code",
      "source": "index = pd.MultiIndex.from_tuples(index)\nindex",
      "metadata": {
        "trusted": true
      },
      "outputs": [
        {
          "execution_count": 51,
          "output_type": "execute_result",
          "data": {
            "text/plain": "MultiIndex([('California', 2000),\n            ('California', 2010),\n            (  'New York', 2000),\n            (  'New York', 2010),\n            (     'Texas', 2000),\n            (     'Texas', 2010)],\n           )"
          },
          "metadata": {}
        }
      ],
      "execution_count": 51
    },
    {
      "cell_type": "code",
      "source": "pop = pop.reindex(index)\npop",
      "metadata": {
        "trusted": true
      },
      "outputs": [
        {
          "execution_count": 52,
          "output_type": "execute_result",
          "data": {
            "text/plain": "California  2000    33871648\n            2010    37253956\nNew York    2000    18976457\n            2010    19378102\nTexas       2000    20851820\n            2010    25145561\ndtype: int64"
          },
          "metadata": {}
        }
      ],
      "execution_count": 52
    },
    {
      "cell_type": "code",
      "source": "pop[:, 2010]",
      "metadata": {
        "trusted": true
      },
      "outputs": [
        {
          "execution_count": 53,
          "output_type": "execute_result",
          "data": {
            "text/plain": "California    37253956\nNew York      19378102\nTexas         25145561\ndtype: int64"
          },
          "metadata": {}
        }
      ],
      "execution_count": 53
    },
    {
      "cell_type": "code",
      "source": "pop_df = pop.unstack()\npop_df",
      "metadata": {
        "trusted": true
      },
      "outputs": [
        {
          "execution_count": 54,
          "output_type": "execute_result",
          "data": {
            "text/plain": "                2000      2010\nCalifornia  33871648  37253956\nNew York    18976457  19378102\nTexas       20851820  25145561",
            "text/html": "<div>\n<style scoped>\n    .dataframe tbody tr th:only-of-type {\n        vertical-align: middle;\n    }\n\n    .dataframe tbody tr th {\n        vertical-align: top;\n    }\n\n    .dataframe thead th {\n        text-align: right;\n    }\n</style>\n<table border=\"1\" class=\"dataframe\">\n  <thead>\n    <tr style=\"text-align: right;\">\n      <th></th>\n      <th>2000</th>\n      <th>2010</th>\n    </tr>\n  </thead>\n  <tbody>\n    <tr>\n      <th>California</th>\n      <td>33871648</td>\n      <td>37253956</td>\n    </tr>\n    <tr>\n      <th>New York</th>\n      <td>18976457</td>\n      <td>19378102</td>\n    </tr>\n    <tr>\n      <th>Texas</th>\n      <td>20851820</td>\n      <td>25145561</td>\n    </tr>\n  </tbody>\n</table>\n</div>"
          },
          "metadata": {}
        }
      ],
      "execution_count": 54
    },
    {
      "cell_type": "code",
      "source": "pop_df.stack()",
      "metadata": {
        "trusted": true
      },
      "outputs": [
        {
          "execution_count": 55,
          "output_type": "execute_result",
          "data": {
            "text/plain": "California  2000    33871648\n            2010    37253956\nNew York    2000    18976457\n            2010    19378102\nTexas       2000    20851820\n            2010    25145561\ndtype: int64"
          },
          "metadata": {}
        }
      ],
      "execution_count": 55
    },
    {
      "cell_type": "code",
      "source": "pop_df = pd.DataFrame({'total': pop,\n                       'under18': [9267089, 9284094,\n                                   4687374, 4318033,\n                                   5906301, 6879014]})\npop_df",
      "metadata": {
        "trusted": true
      },
      "outputs": [
        {
          "execution_count": 56,
          "output_type": "execute_result",
          "data": {
            "text/plain": "                    total  under18\nCalifornia 2000  33871648  9267089\n           2010  37253956  9284094\nNew York   2000  18976457  4687374\n           2010  19378102  4318033\nTexas      2000  20851820  5906301\n           2010  25145561  6879014",
            "text/html": "<div>\n<style scoped>\n    .dataframe tbody tr th:only-of-type {\n        vertical-align: middle;\n    }\n\n    .dataframe tbody tr th {\n        vertical-align: top;\n    }\n\n    .dataframe thead th {\n        text-align: right;\n    }\n</style>\n<table border=\"1\" class=\"dataframe\">\n  <thead>\n    <tr style=\"text-align: right;\">\n      <th></th>\n      <th></th>\n      <th>total</th>\n      <th>under18</th>\n    </tr>\n  </thead>\n  <tbody>\n    <tr>\n      <th rowspan=\"2\" valign=\"top\">California</th>\n      <th>2000</th>\n      <td>33871648</td>\n      <td>9267089</td>\n    </tr>\n    <tr>\n      <th>2010</th>\n      <td>37253956</td>\n      <td>9284094</td>\n    </tr>\n    <tr>\n      <th rowspan=\"2\" valign=\"top\">New York</th>\n      <th>2000</th>\n      <td>18976457</td>\n      <td>4687374</td>\n    </tr>\n    <tr>\n      <th>2010</th>\n      <td>19378102</td>\n      <td>4318033</td>\n    </tr>\n    <tr>\n      <th rowspan=\"2\" valign=\"top\">Texas</th>\n      <th>2000</th>\n      <td>20851820</td>\n      <td>5906301</td>\n    </tr>\n    <tr>\n      <th>2010</th>\n      <td>25145561</td>\n      <td>6879014</td>\n    </tr>\n  </tbody>\n</table>\n</div>"
          },
          "metadata": {}
        }
      ],
      "execution_count": 56
    },
    {
      "cell_type": "code",
      "source": "f_u18 = pop_df['under18'] / pop_df['total']\nf_u18.unstack()",
      "metadata": {
        "trusted": true
      },
      "outputs": [
        {
          "execution_count": 57,
          "output_type": "execute_result",
          "data": {
            "text/plain": "                2000      2010\nCalifornia  0.273594  0.249211\nNew York    0.247010  0.222831\nTexas       0.283251  0.273568",
            "text/html": "<div>\n<style scoped>\n    .dataframe tbody tr th:only-of-type {\n        vertical-align: middle;\n    }\n\n    .dataframe tbody tr th {\n        vertical-align: top;\n    }\n\n    .dataframe thead th {\n        text-align: right;\n    }\n</style>\n<table border=\"1\" class=\"dataframe\">\n  <thead>\n    <tr style=\"text-align: right;\">\n      <th></th>\n      <th>2000</th>\n      <th>2010</th>\n    </tr>\n  </thead>\n  <tbody>\n    <tr>\n      <th>California</th>\n      <td>0.273594</td>\n      <td>0.249211</td>\n    </tr>\n    <tr>\n      <th>New York</th>\n      <td>0.247010</td>\n      <td>0.222831</td>\n    </tr>\n    <tr>\n      <th>Texas</th>\n      <td>0.283251</td>\n      <td>0.273568</td>\n    </tr>\n  </tbody>\n</table>\n</div>"
          },
          "metadata": {}
        }
      ],
      "execution_count": 57
    },
    {
      "cell_type": "code",
      "source": "df = pd.DataFrame(np.random.rand(4, 2),\n                  index=[['a', 'a', 'b', 'b'], [1, 2, 1, 2]],\n                  columns=['data1', 'data2'])\ndf",
      "metadata": {
        "trusted": true
      },
      "outputs": [
        {
          "execution_count": 58,
          "output_type": "execute_result",
          "data": {
            "text/plain": "        data1     data2\na 1  0.004955  0.442716\n  2  0.696946  0.715963\nb 1  0.308894  0.714096\n  2  0.997037  0.286157",
            "text/html": "<div>\n<style scoped>\n    .dataframe tbody tr th:only-of-type {\n        vertical-align: middle;\n    }\n\n    .dataframe tbody tr th {\n        vertical-align: top;\n    }\n\n    .dataframe thead th {\n        text-align: right;\n    }\n</style>\n<table border=\"1\" class=\"dataframe\">\n  <thead>\n    <tr style=\"text-align: right;\">\n      <th></th>\n      <th></th>\n      <th>data1</th>\n      <th>data2</th>\n    </tr>\n  </thead>\n  <tbody>\n    <tr>\n      <th rowspan=\"2\" valign=\"top\">a</th>\n      <th>1</th>\n      <td>0.004955</td>\n      <td>0.442716</td>\n    </tr>\n    <tr>\n      <th>2</th>\n      <td>0.696946</td>\n      <td>0.715963</td>\n    </tr>\n    <tr>\n      <th rowspan=\"2\" valign=\"top\">b</th>\n      <th>1</th>\n      <td>0.308894</td>\n      <td>0.714096</td>\n    </tr>\n    <tr>\n      <th>2</th>\n      <td>0.997037</td>\n      <td>0.286157</td>\n    </tr>\n  </tbody>\n</table>\n</div>"
          },
          "metadata": {}
        }
      ],
      "execution_count": 58
    },
    {
      "cell_type": "code",
      "source": "data = {('California', 2000): 33871648,\n        ('California', 2010): 37253956,\n        ('Texas', 2000): 20851820,\n        ('Texas', 2010): 25145561,\n        ('New York', 2000): 18976457,\n        ('New York', 2010): 19378102}\npd.Series(data)",
      "metadata": {
        "trusted": true
      },
      "outputs": [
        {
          "execution_count": 59,
          "output_type": "execute_result",
          "data": {
            "text/plain": "California  2000    33871648\n            2010    37253956\nTexas       2000    20851820\n            2010    25145561\nNew York    2000    18976457\n            2010    19378102\ndtype: int64"
          },
          "metadata": {}
        }
      ],
      "execution_count": 59
    },
    {
      "cell_type": "code",
      "source": "pd.MultiIndex.from_arrays([['a', 'a', 'b', 'b'], [1, 2, 1, 2]])",
      "metadata": {
        "trusted": true
      },
      "outputs": [
        {
          "execution_count": 60,
          "output_type": "execute_result",
          "data": {
            "text/plain": "MultiIndex([('a', 1),\n            ('a', 2),\n            ('b', 1),\n            ('b', 2)],\n           )"
          },
          "metadata": {}
        }
      ],
      "execution_count": 60
    },
    {
      "cell_type": "code",
      "source": "pd.MultiIndex.from_tuples([('a', 1), ('a', 2), ('b', 1), ('b', 2)])",
      "metadata": {
        "trusted": true
      },
      "outputs": [
        {
          "execution_count": 61,
          "output_type": "execute_result",
          "data": {
            "text/plain": "MultiIndex([('a', 1),\n            ('a', 2),\n            ('b', 1),\n            ('b', 2)],\n           )"
          },
          "metadata": {}
        }
      ],
      "execution_count": 61
    },
    {
      "cell_type": "code",
      "source": "pd.MultiIndex.from_product([['a', 'b'], [1, 2]])",
      "metadata": {
        "trusted": true
      },
      "outputs": [
        {
          "execution_count": 62,
          "output_type": "execute_result",
          "data": {
            "text/plain": "MultiIndex([('a', 1),\n            ('a', 2),\n            ('b', 1),\n            ('b', 2)],\n           )"
          },
          "metadata": {}
        }
      ],
      "execution_count": 62
    },
    {
      "cell_type": "code",
      "source": "pd.MultiIndex(levels=[['a', 'b'], [1, 2]],\n              labels=[[0, 0, 1, 1], [0, 1, 0, 1]])",
      "metadata": {
        "trusted": true
      },
      "outputs": [
        {
          "ename": "<class 'TypeError'>",
          "evalue": "MultiIndex.__new__() got an unexpected keyword argument 'labels'",
          "traceback": [
            "\u001b[0;31m---------------------------------------------------------------------------\u001b[0m",
            "\u001b[0;31mTypeError\u001b[0m                                 Traceback (most recent call last)",
            "Cell \u001b[0;32mIn[63], line 1\u001b[0m\n\u001b[0;32m----> 1\u001b[0m \u001b[43mpd\u001b[49m\u001b[38;5;241;43m.\u001b[39;49m\u001b[43mMultiIndex\u001b[49m\u001b[43m(\u001b[49m\u001b[43mlevels\u001b[49m\u001b[38;5;241;43m=\u001b[39;49m\u001b[43m[\u001b[49m\u001b[43m[\u001b[49m\u001b[38;5;124;43m'\u001b[39;49m\u001b[38;5;124;43ma\u001b[39;49m\u001b[38;5;124;43m'\u001b[39;49m\u001b[43m,\u001b[49m\u001b[43m \u001b[49m\u001b[38;5;124;43m'\u001b[39;49m\u001b[38;5;124;43mb\u001b[39;49m\u001b[38;5;124;43m'\u001b[39;49m\u001b[43m]\u001b[49m\u001b[43m,\u001b[49m\u001b[43m \u001b[49m\u001b[43m[\u001b[49m\u001b[38;5;241;43m1\u001b[39;49m\u001b[43m,\u001b[49m\u001b[43m \u001b[49m\u001b[38;5;241;43m2\u001b[39;49m\u001b[43m]\u001b[49m\u001b[43m]\u001b[49m\u001b[43m,\u001b[49m\n\u001b[1;32m      2\u001b[0m \u001b[43m              \u001b[49m\u001b[43mlabels\u001b[49m\u001b[38;5;241;43m=\u001b[39;49m\u001b[43m[\u001b[49m\u001b[43m[\u001b[49m\u001b[38;5;241;43m0\u001b[39;49m\u001b[43m,\u001b[49m\u001b[43m \u001b[49m\u001b[38;5;241;43m0\u001b[39;49m\u001b[43m,\u001b[49m\u001b[43m \u001b[49m\u001b[38;5;241;43m1\u001b[39;49m\u001b[43m,\u001b[49m\u001b[43m \u001b[49m\u001b[38;5;241;43m1\u001b[39;49m\u001b[43m]\u001b[49m\u001b[43m,\u001b[49m\u001b[43m \u001b[49m\u001b[43m[\u001b[49m\u001b[38;5;241;43m0\u001b[39;49m\u001b[43m,\u001b[49m\u001b[43m \u001b[49m\u001b[38;5;241;43m1\u001b[39;49m\u001b[43m,\u001b[49m\u001b[43m \u001b[49m\u001b[38;5;241;43m0\u001b[39;49m\u001b[43m,\u001b[49m\u001b[43m \u001b[49m\u001b[38;5;241;43m1\u001b[39;49m\u001b[43m]\u001b[49m\u001b[43m]\u001b[49m\u001b[43m)\u001b[49m\n",
            "\u001b[0;31mTypeError\u001b[0m: MultiIndex.__new__() got an unexpected keyword argument 'labels'"
          ],
          "output_type": "error"
        }
      ],
      "execution_count": 63
    },
    {
      "cell_type": "code",
      "source": "pop.index.names = ['state', 'year']\npop",
      "metadata": {
        "trusted": true
      },
      "outputs": [
        {
          "execution_count": 64,
          "output_type": "execute_result",
          "data": {
            "text/plain": "state       year\nCalifornia  2000    33871648\n            2010    37253956\nNew York    2000    18976457\n            2010    19378102\nTexas       2000    20851820\n            2010    25145561\ndtype: int64"
          },
          "metadata": {}
        }
      ],
      "execution_count": 64
    },
    {
      "cell_type": "code",
      "source": "# hierarchical indices and columns\nindex = pd.MultiIndex.from_product([[2013, 2014], [1, 2]],\n                                   names=['year', 'visit'])\ncolumns = pd.MultiIndex.from_product([['Bob', 'Guido', 'Sue'], ['HR', 'Temp']],\n                                     names=['subject', 'type'])\n\n# mock some data\ndata = np.round(np.random.randn(4, 6), 1)\ndata[:, ::2] *= 10\ndata += 37\n\n# create the DataFrame\nhealth_data = pd.DataFrame(data, index=index, columns=columns)\nhealth_data",
      "metadata": {
        "trusted": true
      },
      "outputs": [
        {
          "execution_count": 65,
          "output_type": "execute_result",
          "data": {
            "text/plain": "subject      Bob       Guido         Sue      \ntype          HR  Temp    HR  Temp    HR  Temp\nyear visit                                    \n2013 1      35.0  34.0  34.0  38.0  41.0  37.7\n     2      58.0  38.1  34.0  37.7  36.0  37.9\n2014 1      58.0  36.2  39.0  36.9  25.0  34.2\n     2      31.0  36.1  28.0  35.0  18.0  36.4",
            "text/html": "<div>\n<style scoped>\n    .dataframe tbody tr th:only-of-type {\n        vertical-align: middle;\n    }\n\n    .dataframe tbody tr th {\n        vertical-align: top;\n    }\n\n    .dataframe thead tr th {\n        text-align: left;\n    }\n\n    .dataframe thead tr:last-of-type th {\n        text-align: right;\n    }\n</style>\n<table border=\"1\" class=\"dataframe\">\n  <thead>\n    <tr>\n      <th></th>\n      <th>subject</th>\n      <th colspan=\"2\" halign=\"left\">Bob</th>\n      <th colspan=\"2\" halign=\"left\">Guido</th>\n      <th colspan=\"2\" halign=\"left\">Sue</th>\n    </tr>\n    <tr>\n      <th></th>\n      <th>type</th>\n      <th>HR</th>\n      <th>Temp</th>\n      <th>HR</th>\n      <th>Temp</th>\n      <th>HR</th>\n      <th>Temp</th>\n    </tr>\n    <tr>\n      <th>year</th>\n      <th>visit</th>\n      <th></th>\n      <th></th>\n      <th></th>\n      <th></th>\n      <th></th>\n      <th></th>\n    </tr>\n  </thead>\n  <tbody>\n    <tr>\n      <th rowspan=\"2\" valign=\"top\">2013</th>\n      <th>1</th>\n      <td>35.0</td>\n      <td>34.0</td>\n      <td>34.0</td>\n      <td>38.0</td>\n      <td>41.0</td>\n      <td>37.7</td>\n    </tr>\n    <tr>\n      <th>2</th>\n      <td>58.0</td>\n      <td>38.1</td>\n      <td>34.0</td>\n      <td>37.7</td>\n      <td>36.0</td>\n      <td>37.9</td>\n    </tr>\n    <tr>\n      <th rowspan=\"2\" valign=\"top\">2014</th>\n      <th>1</th>\n      <td>58.0</td>\n      <td>36.2</td>\n      <td>39.0</td>\n      <td>36.9</td>\n      <td>25.0</td>\n      <td>34.2</td>\n    </tr>\n    <tr>\n      <th>2</th>\n      <td>31.0</td>\n      <td>36.1</td>\n      <td>28.0</td>\n      <td>35.0</td>\n      <td>18.0</td>\n      <td>36.4</td>\n    </tr>\n  </tbody>\n</table>\n</div>"
          },
          "metadata": {}
        }
      ],
      "execution_count": 65
    },
    {
      "cell_type": "code",
      "source": "health_data['Guido']",
      "metadata": {
        "trusted": true
      },
      "outputs": [
        {
          "execution_count": 66,
          "output_type": "execute_result",
          "data": {
            "text/plain": "type          HR  Temp\nyear visit            \n2013 1      34.0  38.0\n     2      34.0  37.7\n2014 1      39.0  36.9\n     2      28.0  35.0",
            "text/html": "<div>\n<style scoped>\n    .dataframe tbody tr th:only-of-type {\n        vertical-align: middle;\n    }\n\n    .dataframe tbody tr th {\n        vertical-align: top;\n    }\n\n    .dataframe thead th {\n        text-align: right;\n    }\n</style>\n<table border=\"1\" class=\"dataframe\">\n  <thead>\n    <tr style=\"text-align: right;\">\n      <th></th>\n      <th>type</th>\n      <th>HR</th>\n      <th>Temp</th>\n    </tr>\n    <tr>\n      <th>year</th>\n      <th>visit</th>\n      <th></th>\n      <th></th>\n    </tr>\n  </thead>\n  <tbody>\n    <tr>\n      <th rowspan=\"2\" valign=\"top\">2013</th>\n      <th>1</th>\n      <td>34.0</td>\n      <td>38.0</td>\n    </tr>\n    <tr>\n      <th>2</th>\n      <td>34.0</td>\n      <td>37.7</td>\n    </tr>\n    <tr>\n      <th rowspan=\"2\" valign=\"top\">2014</th>\n      <th>1</th>\n      <td>39.0</td>\n      <td>36.9</td>\n    </tr>\n    <tr>\n      <th>2</th>\n      <td>28.0</td>\n      <td>35.0</td>\n    </tr>\n  </tbody>\n</table>\n</div>"
          },
          "metadata": {}
        }
      ],
      "execution_count": 66
    },
    {
      "cell_type": "code",
      "source": "pop",
      "metadata": {
        "trusted": true
      },
      "outputs": [
        {
          "execution_count": 67,
          "output_type": "execute_result",
          "data": {
            "text/plain": "state       year\nCalifornia  2000    33871648\n            2010    37253956\nNew York    2000    18976457\n            2010    19378102\nTexas       2000    20851820\n            2010    25145561\ndtype: int64"
          },
          "metadata": {}
        }
      ],
      "execution_count": 67
    },
    {
      "cell_type": "code",
      "source": "pop['California', 2000]",
      "metadata": {
        "trusted": true
      },
      "outputs": [
        {
          "execution_count": 68,
          "output_type": "execute_result",
          "data": {
            "text/plain": "33871648"
          },
          "metadata": {}
        }
      ],
      "execution_count": 68
    },
    {
      "cell_type": "code",
      "source": "pop['California']",
      "metadata": {
        "trusted": true
      },
      "outputs": [
        {
          "execution_count": 69,
          "output_type": "execute_result",
          "data": {
            "text/plain": "year\n2000    33871648\n2010    37253956\ndtype: int64"
          },
          "metadata": {}
        }
      ],
      "execution_count": 69
    },
    {
      "cell_type": "code",
      "source": "pop.loc['California':'New York']",
      "metadata": {
        "trusted": true
      },
      "outputs": [
        {
          "execution_count": 70,
          "output_type": "execute_result",
          "data": {
            "text/plain": "state       year\nCalifornia  2000    33871648\n            2010    37253956\nNew York    2000    18976457\n            2010    19378102\ndtype: int64"
          },
          "metadata": {}
        }
      ],
      "execution_count": 70
    },
    {
      "cell_type": "code",
      "source": "pop[:, 2000]",
      "metadata": {
        "trusted": true
      },
      "outputs": [
        {
          "execution_count": 71,
          "output_type": "execute_result",
          "data": {
            "text/plain": "state\nCalifornia    33871648\nNew York      18976457\nTexas         20851820\ndtype: int64"
          },
          "metadata": {}
        }
      ],
      "execution_count": 71
    },
    {
      "cell_type": "code",
      "source": "pop[pop > 22000000]",
      "metadata": {
        "trusted": true
      },
      "outputs": [
        {
          "execution_count": 72,
          "output_type": "execute_result",
          "data": {
            "text/plain": "state       year\nCalifornia  2000    33871648\n            2010    37253956\nTexas       2010    25145561\ndtype: int64"
          },
          "metadata": {}
        }
      ],
      "execution_count": 72
    },
    {
      "cell_type": "code",
      "source": "pop[['California', 'Texas']]",
      "metadata": {
        "trusted": true
      },
      "outputs": [
        {
          "execution_count": 73,
          "output_type": "execute_result",
          "data": {
            "text/plain": "state       year\nCalifornia  2000    33871648\n            2010    37253956\nTexas       2000    20851820\n            2010    25145561\ndtype: int64"
          },
          "metadata": {}
        }
      ],
      "execution_count": 73
    },
    {
      "cell_type": "code",
      "source": "health_data",
      "metadata": {
        "trusted": true
      },
      "outputs": [
        {
          "execution_count": 74,
          "output_type": "execute_result",
          "data": {
            "text/plain": "subject      Bob       Guido         Sue      \ntype          HR  Temp    HR  Temp    HR  Temp\nyear visit                                    \n2013 1      35.0  34.0  34.0  38.0  41.0  37.7\n     2      58.0  38.1  34.0  37.7  36.0  37.9\n2014 1      58.0  36.2  39.0  36.9  25.0  34.2\n     2      31.0  36.1  28.0  35.0  18.0  36.4",
            "text/html": "<div>\n<style scoped>\n    .dataframe tbody tr th:only-of-type {\n        vertical-align: middle;\n    }\n\n    .dataframe tbody tr th {\n        vertical-align: top;\n    }\n\n    .dataframe thead tr th {\n        text-align: left;\n    }\n\n    .dataframe thead tr:last-of-type th {\n        text-align: right;\n    }\n</style>\n<table border=\"1\" class=\"dataframe\">\n  <thead>\n    <tr>\n      <th></th>\n      <th>subject</th>\n      <th colspan=\"2\" halign=\"left\">Bob</th>\n      <th colspan=\"2\" halign=\"left\">Guido</th>\n      <th colspan=\"2\" halign=\"left\">Sue</th>\n    </tr>\n    <tr>\n      <th></th>\n      <th>type</th>\n      <th>HR</th>\n      <th>Temp</th>\n      <th>HR</th>\n      <th>Temp</th>\n      <th>HR</th>\n      <th>Temp</th>\n    </tr>\n    <tr>\n      <th>year</th>\n      <th>visit</th>\n      <th></th>\n      <th></th>\n      <th></th>\n      <th></th>\n      <th></th>\n      <th></th>\n    </tr>\n  </thead>\n  <tbody>\n    <tr>\n      <th rowspan=\"2\" valign=\"top\">2013</th>\n      <th>1</th>\n      <td>35.0</td>\n      <td>34.0</td>\n      <td>34.0</td>\n      <td>38.0</td>\n      <td>41.0</td>\n      <td>37.7</td>\n    </tr>\n    <tr>\n      <th>2</th>\n      <td>58.0</td>\n      <td>38.1</td>\n      <td>34.0</td>\n      <td>37.7</td>\n      <td>36.0</td>\n      <td>37.9</td>\n    </tr>\n    <tr>\n      <th rowspan=\"2\" valign=\"top\">2014</th>\n      <th>1</th>\n      <td>58.0</td>\n      <td>36.2</td>\n      <td>39.0</td>\n      <td>36.9</td>\n      <td>25.0</td>\n      <td>34.2</td>\n    </tr>\n    <tr>\n      <th>2</th>\n      <td>31.0</td>\n      <td>36.1</td>\n      <td>28.0</td>\n      <td>35.0</td>\n      <td>18.0</td>\n      <td>36.4</td>\n    </tr>\n  </tbody>\n</table>\n</div>"
          },
          "metadata": {}
        }
      ],
      "execution_count": 74
    },
    {
      "cell_type": "code",
      "source": "health_data['Guido', 'HR']",
      "metadata": {
        "trusted": true
      },
      "outputs": [
        {
          "execution_count": 75,
          "output_type": "execute_result",
          "data": {
            "text/plain": "year  visit\n2013  1        34.0\n      2        34.0\n2014  1        39.0\n      2        28.0\nName: (Guido, HR), dtype: float64"
          },
          "metadata": {}
        }
      ],
      "execution_count": 75
    },
    {
      "cell_type": "code",
      "source": "health_data.iloc[:2, :2]",
      "metadata": {
        "trusted": true
      },
      "outputs": [
        {
          "execution_count": 76,
          "output_type": "execute_result",
          "data": {
            "text/plain": "subject      Bob      \ntype          HR  Temp\nyear visit            \n2013 1      35.0  34.0\n     2      58.0  38.1",
            "text/html": "<div>\n<style scoped>\n    .dataframe tbody tr th:only-of-type {\n        vertical-align: middle;\n    }\n\n    .dataframe tbody tr th {\n        vertical-align: top;\n    }\n\n    .dataframe thead tr th {\n        text-align: left;\n    }\n\n    .dataframe thead tr:last-of-type th {\n        text-align: right;\n    }\n</style>\n<table border=\"1\" class=\"dataframe\">\n  <thead>\n    <tr>\n      <th></th>\n      <th>subject</th>\n      <th colspan=\"2\" halign=\"left\">Bob</th>\n    </tr>\n    <tr>\n      <th></th>\n      <th>type</th>\n      <th>HR</th>\n      <th>Temp</th>\n    </tr>\n    <tr>\n      <th>year</th>\n      <th>visit</th>\n      <th></th>\n      <th></th>\n    </tr>\n  </thead>\n  <tbody>\n    <tr>\n      <th rowspan=\"2\" valign=\"top\">2013</th>\n      <th>1</th>\n      <td>35.0</td>\n      <td>34.0</td>\n    </tr>\n    <tr>\n      <th>2</th>\n      <td>58.0</td>\n      <td>38.1</td>\n    </tr>\n  </tbody>\n</table>\n</div>"
          },
          "metadata": {}
        }
      ],
      "execution_count": 76
    },
    {
      "cell_type": "code",
      "source": "health_data.loc[:, ('Bob', 'HR')]",
      "metadata": {
        "trusted": true
      },
      "outputs": [
        {
          "execution_count": 77,
          "output_type": "execute_result",
          "data": {
            "text/plain": "year  visit\n2013  1        35.0\n      2        58.0\n2014  1        58.0\n      2        31.0\nName: (Bob, HR), dtype: float64"
          },
          "metadata": {}
        }
      ],
      "execution_count": 77
    },
    {
      "cell_type": "code",
      "source": "health_data.loc[(:, 1), (:, 'HR')]",
      "metadata": {
        "trusted": true
      },
      "outputs": [
        {
          "ename": "<class 'SyntaxError'>",
          "evalue": "invalid syntax (<ipython-input-78-fb34fa30ac09>, line 1)",
          "traceback": [
            "\u001b[0;36m  Cell \u001b[0;32mIn[78], line 1\u001b[0;36m\u001b[0m\n\u001b[0;31m    health_data.loc[(:, 1), (:, 'HR')]\u001b[0m\n\u001b[0m                     ^\u001b[0m\n\u001b[0;31mSyntaxError\u001b[0m\u001b[0;31m:\u001b[0m invalid syntax\n"
          ],
          "output_type": "error"
        }
      ],
      "execution_count": 78
    },
    {
      "cell_type": "code",
      "source": "idx = pd.IndexSlice\nhealth_data.loc[idx[:, 1], idx[:, 'HR']]",
      "metadata": {
        "trusted": true
      },
      "outputs": [
        {
          "execution_count": 79,
          "output_type": "execute_result",
          "data": {
            "text/plain": "subject      Bob Guido   Sue\ntype          HR    HR    HR\nyear visit                  \n2013 1      35.0  34.0  41.0\n2014 1      58.0  39.0  25.0",
            "text/html": "<div>\n<style scoped>\n    .dataframe tbody tr th:only-of-type {\n        vertical-align: middle;\n    }\n\n    .dataframe tbody tr th {\n        vertical-align: top;\n    }\n\n    .dataframe thead tr th {\n        text-align: left;\n    }\n\n    .dataframe thead tr:last-of-type th {\n        text-align: right;\n    }\n</style>\n<table border=\"1\" class=\"dataframe\">\n  <thead>\n    <tr>\n      <th></th>\n      <th>subject</th>\n      <th>Bob</th>\n      <th>Guido</th>\n      <th>Sue</th>\n    </tr>\n    <tr>\n      <th></th>\n      <th>type</th>\n      <th>HR</th>\n      <th>HR</th>\n      <th>HR</th>\n    </tr>\n    <tr>\n      <th>year</th>\n      <th>visit</th>\n      <th></th>\n      <th></th>\n      <th></th>\n    </tr>\n  </thead>\n  <tbody>\n    <tr>\n      <th>2013</th>\n      <th>1</th>\n      <td>35.0</td>\n      <td>34.0</td>\n      <td>41.0</td>\n    </tr>\n    <tr>\n      <th>2014</th>\n      <th>1</th>\n      <td>58.0</td>\n      <td>39.0</td>\n      <td>25.0</td>\n    </tr>\n  </tbody>\n</table>\n</div>"
          },
          "metadata": {}
        }
      ],
      "execution_count": 79
    },
    {
      "cell_type": "code",
      "source": "index = pd.MultiIndex.from_product([['a', 'c', 'b'], [1, 2]])\ndata = pd.Series(np.random.rand(6), index=index)\ndata.index.names = ['char', 'int']\ndata",
      "metadata": {
        "trusted": true
      },
      "outputs": [
        {
          "execution_count": 80,
          "output_type": "execute_result",
          "data": {
            "text/plain": "char  int\na     1      0.997334\n      2      0.282093\nc     1      0.289105\n      2      0.359529\nb     1      0.791226\n      2      0.726017\ndtype: float64"
          },
          "metadata": {}
        }
      ],
      "execution_count": 80
    },
    {
      "cell_type": "code",
      "source": "try:\n    data['a':'b']\nexcept KeyError as e:\n    print(type(e))\n    print(e)",
      "metadata": {
        "trusted": true
      },
      "outputs": [
        {
          "name": "stdout",
          "text": "<class 'pandas.errors.UnsortedIndexError'>\n'Key length (1) was greater than MultiIndex lexsort depth (0)'\n",
          "output_type": "stream"
        }
      ],
      "execution_count": 81
    },
    {
      "cell_type": "code",
      "source": "data = data.sort_index()\ndata",
      "metadata": {
        "trusted": true
      },
      "outputs": [
        {
          "execution_count": 82,
          "output_type": "execute_result",
          "data": {
            "text/plain": "char  int\na     1      0.997334\n      2      0.282093\nb     1      0.791226\n      2      0.726017\nc     1      0.289105\n      2      0.359529\ndtype: float64"
          },
          "metadata": {}
        }
      ],
      "execution_count": 82
    },
    {
      "cell_type": "code",
      "source": "data['a':'b']",
      "metadata": {
        "trusted": true
      },
      "outputs": [
        {
          "execution_count": 83,
          "output_type": "execute_result",
          "data": {
            "text/plain": "char  int\na     1      0.997334\n      2      0.282093\nb     1      0.791226\n      2      0.726017\ndtype: float64"
          },
          "metadata": {}
        }
      ],
      "execution_count": 83
    },
    {
      "cell_type": "code",
      "source": "pop.unstack(level=0)",
      "metadata": {
        "trusted": true
      },
      "outputs": [
        {
          "execution_count": 84,
          "output_type": "execute_result",
          "data": {
            "text/plain": "state  California  New York     Texas\nyear                                 \n2000     33871648  18976457  20851820\n2010     37253956  19378102  25145561",
            "text/html": "<div>\n<style scoped>\n    .dataframe tbody tr th:only-of-type {\n        vertical-align: middle;\n    }\n\n    .dataframe tbody tr th {\n        vertical-align: top;\n    }\n\n    .dataframe thead th {\n        text-align: right;\n    }\n</style>\n<table border=\"1\" class=\"dataframe\">\n  <thead>\n    <tr style=\"text-align: right;\">\n      <th>state</th>\n      <th>California</th>\n      <th>New York</th>\n      <th>Texas</th>\n    </tr>\n    <tr>\n      <th>year</th>\n      <th></th>\n      <th></th>\n      <th></th>\n    </tr>\n  </thead>\n  <tbody>\n    <tr>\n      <th>2000</th>\n      <td>33871648</td>\n      <td>18976457</td>\n      <td>20851820</td>\n    </tr>\n    <tr>\n      <th>2010</th>\n      <td>37253956</td>\n      <td>19378102</td>\n      <td>25145561</td>\n    </tr>\n  </tbody>\n</table>\n</div>"
          },
          "metadata": {}
        }
      ],
      "execution_count": 84
    },
    {
      "cell_type": "code",
      "source": "pop.unstack(level=1)",
      "metadata": {
        "trusted": true
      },
      "outputs": [
        {
          "execution_count": 85,
          "output_type": "execute_result",
          "data": {
            "text/plain": "year            2000      2010\nstate                         \nCalifornia  33871648  37253956\nNew York    18976457  19378102\nTexas       20851820  25145561",
            "text/html": "<div>\n<style scoped>\n    .dataframe tbody tr th:only-of-type {\n        vertical-align: middle;\n    }\n\n    .dataframe tbody tr th {\n        vertical-align: top;\n    }\n\n    .dataframe thead th {\n        text-align: right;\n    }\n</style>\n<table border=\"1\" class=\"dataframe\">\n  <thead>\n    <tr style=\"text-align: right;\">\n      <th>year</th>\n      <th>2000</th>\n      <th>2010</th>\n    </tr>\n    <tr>\n      <th>state</th>\n      <th></th>\n      <th></th>\n    </tr>\n  </thead>\n  <tbody>\n    <tr>\n      <th>California</th>\n      <td>33871648</td>\n      <td>37253956</td>\n    </tr>\n    <tr>\n      <th>New York</th>\n      <td>18976457</td>\n      <td>19378102</td>\n    </tr>\n    <tr>\n      <th>Texas</th>\n      <td>20851820</td>\n      <td>25145561</td>\n    </tr>\n  </tbody>\n</table>\n</div>"
          },
          "metadata": {}
        }
      ],
      "execution_count": 85
    },
    {
      "cell_type": "code",
      "source": "pop.unstack().stack()",
      "metadata": {
        "trusted": true
      },
      "outputs": [
        {
          "execution_count": 86,
          "output_type": "execute_result",
          "data": {
            "text/plain": "state       year\nCalifornia  2000    33871648\n            2010    37253956\nNew York    2000    18976457\n            2010    19378102\nTexas       2000    20851820\n            2010    25145561\ndtype: int64"
          },
          "metadata": {}
        }
      ],
      "execution_count": 86
    },
    {
      "cell_type": "code",
      "source": "pop_flat = pop.reset_index(name='population')\npop_flat",
      "metadata": {
        "trusted": true
      },
      "outputs": [
        {
          "execution_count": 87,
          "output_type": "execute_result",
          "data": {
            "text/plain": "        state  year  population\n0  California  2000    33871648\n1  California  2010    37253956\n2    New York  2000    18976457\n3    New York  2010    19378102\n4       Texas  2000    20851820\n5       Texas  2010    25145561",
            "text/html": "<div>\n<style scoped>\n    .dataframe tbody tr th:only-of-type {\n        vertical-align: middle;\n    }\n\n    .dataframe tbody tr th {\n        vertical-align: top;\n    }\n\n    .dataframe thead th {\n        text-align: right;\n    }\n</style>\n<table border=\"1\" class=\"dataframe\">\n  <thead>\n    <tr style=\"text-align: right;\">\n      <th></th>\n      <th>state</th>\n      <th>year</th>\n      <th>population</th>\n    </tr>\n  </thead>\n  <tbody>\n    <tr>\n      <th>0</th>\n      <td>California</td>\n      <td>2000</td>\n      <td>33871648</td>\n    </tr>\n    <tr>\n      <th>1</th>\n      <td>California</td>\n      <td>2010</td>\n      <td>37253956</td>\n    </tr>\n    <tr>\n      <th>2</th>\n      <td>New York</td>\n      <td>2000</td>\n      <td>18976457</td>\n    </tr>\n    <tr>\n      <th>3</th>\n      <td>New York</td>\n      <td>2010</td>\n      <td>19378102</td>\n    </tr>\n    <tr>\n      <th>4</th>\n      <td>Texas</td>\n      <td>2000</td>\n      <td>20851820</td>\n    </tr>\n    <tr>\n      <th>5</th>\n      <td>Texas</td>\n      <td>2010</td>\n      <td>25145561</td>\n    </tr>\n  </tbody>\n</table>\n</div>"
          },
          "metadata": {}
        }
      ],
      "execution_count": 87
    },
    {
      "cell_type": "code",
      "source": "pop_flat.set_index(['state', 'year'])",
      "metadata": {
        "trusted": true
      },
      "outputs": [
        {
          "execution_count": 88,
          "output_type": "execute_result",
          "data": {
            "text/plain": "                 population\nstate      year            \nCalifornia 2000    33871648\n           2010    37253956\nNew York   2000    18976457\n           2010    19378102\nTexas      2000    20851820\n           2010    25145561",
            "text/html": "<div>\n<style scoped>\n    .dataframe tbody tr th:only-of-type {\n        vertical-align: middle;\n    }\n\n    .dataframe tbody tr th {\n        vertical-align: top;\n    }\n\n    .dataframe thead th {\n        text-align: right;\n    }\n</style>\n<table border=\"1\" class=\"dataframe\">\n  <thead>\n    <tr style=\"text-align: right;\">\n      <th></th>\n      <th></th>\n      <th>population</th>\n    </tr>\n    <tr>\n      <th>state</th>\n      <th>year</th>\n      <th></th>\n    </tr>\n  </thead>\n  <tbody>\n    <tr>\n      <th rowspan=\"2\" valign=\"top\">California</th>\n      <th>2000</th>\n      <td>33871648</td>\n    </tr>\n    <tr>\n      <th>2010</th>\n      <td>37253956</td>\n    </tr>\n    <tr>\n      <th rowspan=\"2\" valign=\"top\">New York</th>\n      <th>2000</th>\n      <td>18976457</td>\n    </tr>\n    <tr>\n      <th>2010</th>\n      <td>19378102</td>\n    </tr>\n    <tr>\n      <th rowspan=\"2\" valign=\"top\">Texas</th>\n      <th>2000</th>\n      <td>20851820</td>\n    </tr>\n    <tr>\n      <th>2010</th>\n      <td>25145561</td>\n    </tr>\n  </tbody>\n</table>\n</div>"
          },
          "metadata": {}
        }
      ],
      "execution_count": 88
    },
    {
      "cell_type": "code",
      "source": "health_data",
      "metadata": {
        "trusted": true
      },
      "outputs": [
        {
          "execution_count": 89,
          "output_type": "execute_result",
          "data": {
            "text/plain": "subject      Bob       Guido         Sue      \ntype          HR  Temp    HR  Temp    HR  Temp\nyear visit                                    \n2013 1      35.0  34.0  34.0  38.0  41.0  37.7\n     2      58.0  38.1  34.0  37.7  36.0  37.9\n2014 1      58.0  36.2  39.0  36.9  25.0  34.2\n     2      31.0  36.1  28.0  35.0  18.0  36.4",
            "text/html": "<div>\n<style scoped>\n    .dataframe tbody tr th:only-of-type {\n        vertical-align: middle;\n    }\n\n    .dataframe tbody tr th {\n        vertical-align: top;\n    }\n\n    .dataframe thead tr th {\n        text-align: left;\n    }\n\n    .dataframe thead tr:last-of-type th {\n        text-align: right;\n    }\n</style>\n<table border=\"1\" class=\"dataframe\">\n  <thead>\n    <tr>\n      <th></th>\n      <th>subject</th>\n      <th colspan=\"2\" halign=\"left\">Bob</th>\n      <th colspan=\"2\" halign=\"left\">Guido</th>\n      <th colspan=\"2\" halign=\"left\">Sue</th>\n    </tr>\n    <tr>\n      <th></th>\n      <th>type</th>\n      <th>HR</th>\n      <th>Temp</th>\n      <th>HR</th>\n      <th>Temp</th>\n      <th>HR</th>\n      <th>Temp</th>\n    </tr>\n    <tr>\n      <th>year</th>\n      <th>visit</th>\n      <th></th>\n      <th></th>\n      <th></th>\n      <th></th>\n      <th></th>\n      <th></th>\n    </tr>\n  </thead>\n  <tbody>\n    <tr>\n      <th rowspan=\"2\" valign=\"top\">2013</th>\n      <th>1</th>\n      <td>35.0</td>\n      <td>34.0</td>\n      <td>34.0</td>\n      <td>38.0</td>\n      <td>41.0</td>\n      <td>37.7</td>\n    </tr>\n    <tr>\n      <th>2</th>\n      <td>58.0</td>\n      <td>38.1</td>\n      <td>34.0</td>\n      <td>37.7</td>\n      <td>36.0</td>\n      <td>37.9</td>\n    </tr>\n    <tr>\n      <th rowspan=\"2\" valign=\"top\">2014</th>\n      <th>1</th>\n      <td>58.0</td>\n      <td>36.2</td>\n      <td>39.0</td>\n      <td>36.9</td>\n      <td>25.0</td>\n      <td>34.2</td>\n    </tr>\n    <tr>\n      <th>2</th>\n      <td>31.0</td>\n      <td>36.1</td>\n      <td>28.0</td>\n      <td>35.0</td>\n      <td>18.0</td>\n      <td>36.4</td>\n    </tr>\n  </tbody>\n</table>\n</div>"
          },
          "metadata": {}
        }
      ],
      "execution_count": 89
    },
    {
      "cell_type": "code",
      "source": "data_mean = health_data.mean(level='year')\ndata_mean",
      "metadata": {
        "trusted": true
      },
      "outputs": [
        {
          "name": "stderr",
          "text": "<ipython-input-90-af3ae0440116>:1: FutureWarning: Using the level keyword in DataFrame and Series aggregations is deprecated and will be removed in a future version. Use groupby instead. df.median(level=1) should use df.groupby(level=1).median().\n  data_mean = health_data.mean(level='year')\n",
          "output_type": "stream"
        },
        {
          "execution_count": 90,
          "output_type": "execute_result",
          "data": {
            "text/plain": "subject   Bob        Guido          Sue      \ntype       HR   Temp    HR   Temp    HR  Temp\nyear                                         \n2013     46.5  36.05  34.0  37.85  38.5  37.8\n2014     44.5  36.15  33.5  35.95  21.5  35.3",
            "text/html": "<div>\n<style scoped>\n    .dataframe tbody tr th:only-of-type {\n        vertical-align: middle;\n    }\n\n    .dataframe tbody tr th {\n        vertical-align: top;\n    }\n\n    .dataframe thead tr th {\n        text-align: left;\n    }\n\n    .dataframe thead tr:last-of-type th {\n        text-align: right;\n    }\n</style>\n<table border=\"1\" class=\"dataframe\">\n  <thead>\n    <tr>\n      <th>subject</th>\n      <th colspan=\"2\" halign=\"left\">Bob</th>\n      <th colspan=\"2\" halign=\"left\">Guido</th>\n      <th colspan=\"2\" halign=\"left\">Sue</th>\n    </tr>\n    <tr>\n      <th>type</th>\n      <th>HR</th>\n      <th>Temp</th>\n      <th>HR</th>\n      <th>Temp</th>\n      <th>HR</th>\n      <th>Temp</th>\n    </tr>\n    <tr>\n      <th>year</th>\n      <th></th>\n      <th></th>\n      <th></th>\n      <th></th>\n      <th></th>\n      <th></th>\n    </tr>\n  </thead>\n  <tbody>\n    <tr>\n      <th>2013</th>\n      <td>46.5</td>\n      <td>36.05</td>\n      <td>34.0</td>\n      <td>37.85</td>\n      <td>38.5</td>\n      <td>37.8</td>\n    </tr>\n    <tr>\n      <th>2014</th>\n      <td>44.5</td>\n      <td>36.15</td>\n      <td>33.5</td>\n      <td>35.95</td>\n      <td>21.5</td>\n      <td>35.3</td>\n    </tr>\n  </tbody>\n</table>\n</div>"
          },
          "metadata": {}
        }
      ],
      "execution_count": 90
    },
    {
      "cell_type": "code",
      "source": "data_mean.mean(axis=1, level='type')",
      "metadata": {
        "trusted": true
      },
      "outputs": [
        {
          "name": "stderr",
          "text": "<ipython-input-91-e9f5c76486ab>:1: FutureWarning: Using the level keyword in DataFrame and Series aggregations is deprecated and will be removed in a future version. Use groupby instead. df.median(level=1) should use df.groupby(level=1).median().\n  data_mean.mean(axis=1, level='type')\n",
          "output_type": "stream"
        },
        {
          "execution_count": 91,
          "output_type": "execute_result",
          "data": {
            "text/plain": "type         HR       Temp\nyear                      \n2013  39.666667  37.233333\n2014  33.166667  35.800000",
            "text/html": "<div>\n<style scoped>\n    .dataframe tbody tr th:only-of-type {\n        vertical-align: middle;\n    }\n\n    .dataframe tbody tr th {\n        vertical-align: top;\n    }\n\n    .dataframe thead th {\n        text-align: right;\n    }\n</style>\n<table border=\"1\" class=\"dataframe\">\n  <thead>\n    <tr style=\"text-align: right;\">\n      <th>type</th>\n      <th>HR</th>\n      <th>Temp</th>\n    </tr>\n    <tr>\n      <th>year</th>\n      <th></th>\n      <th></th>\n    </tr>\n  </thead>\n  <tbody>\n    <tr>\n      <th>2013</th>\n      <td>39.666667</td>\n      <td>37.233333</td>\n    </tr>\n    <tr>\n      <th>2014</th>\n      <td>33.166667</td>\n      <td>35.800000</td>\n    </tr>\n  </tbody>\n</table>\n</div>"
          },
          "metadata": {}
        }
      ],
      "execution_count": 91
    },
    {
      "cell_type": "code",
      "source": "def make_df(cols, ind):\n    \"\"\"Quickly make a DataFrame\"\"\"\n    data = {c: [str(c) + str(i) for i in ind]\n            for c in cols}\n    return pd.DataFrame(data, ind)\n\nmake_df('ABC', range(3))",
      "metadata": {
        "trusted": true
      },
      "outputs": [
        {
          "execution_count": 92,
          "output_type": "execute_result",
          "data": {
            "text/plain": "    A   B   C\n0  A0  B0  C0\n1  A1  B1  C1\n2  A2  B2  C2",
            "text/html": "<div>\n<style scoped>\n    .dataframe tbody tr th:only-of-type {\n        vertical-align: middle;\n    }\n\n    .dataframe tbody tr th {\n        vertical-align: top;\n    }\n\n    .dataframe thead th {\n        text-align: right;\n    }\n</style>\n<table border=\"1\" class=\"dataframe\">\n  <thead>\n    <tr style=\"text-align: right;\">\n      <th></th>\n      <th>A</th>\n      <th>B</th>\n      <th>C</th>\n    </tr>\n  </thead>\n  <tbody>\n    <tr>\n      <th>0</th>\n      <td>A0</td>\n      <td>B0</td>\n      <td>C0</td>\n    </tr>\n    <tr>\n      <th>1</th>\n      <td>A1</td>\n      <td>B1</td>\n      <td>C1</td>\n    </tr>\n    <tr>\n      <th>2</th>\n      <td>A2</td>\n      <td>B2</td>\n      <td>C2</td>\n    </tr>\n  </tbody>\n</table>\n</div>"
          },
          "metadata": {}
        }
      ],
      "execution_count": 92
    },
    {
      "cell_type": "code",
      "source": "class display(object):\n    \"\"\"Display HTML representation of multiple objects\"\"\"\n    template = \"\"\"<div style=\"float: left; padding: 10px;\">\n    <p style='font-family:\"Courier New\", Courier, monospace'>{0}</p>{1}\n    </div>\"\"\"\n    def __init__(self, *args):\n        self.args = args\n        \n    def _repr_html_(self):\n        return '\\n'.join(self.template.format(a, eval(a)._repr_html_())\n                         for a in self.args)\n    \n    def __repr__(self):\n        return '\\n\\n'.join(a + '\\n' + repr(eval(a))\n                           for a in self.args)\n    ",
      "metadata": {
        "trusted": true
      },
      "outputs": [],
      "execution_count": 93
    },
    {
      "cell_type": "code",
      "source": "x = [1, 2, 3]\ny = [4, 5, 6]\nz = [7, 8, 9]\nnp.concatenate([x, y, z])",
      "metadata": {
        "trusted": true
      },
      "outputs": [
        {
          "execution_count": 94,
          "output_type": "execute_result",
          "data": {
            "text/plain": "array([1, 2, 3, 4, 5, 6, 7, 8, 9])"
          },
          "metadata": {}
        }
      ],
      "execution_count": 94
    },
    {
      "cell_type": "code",
      "source": "x = [[1, 2],\n     [3, 4]]\nnp.concatenate([x, x], axis=1)",
      "metadata": {
        "trusted": true
      },
      "outputs": [
        {
          "execution_count": 95,
          "output_type": "execute_result",
          "data": {
            "text/plain": "array([[1, 2, 1, 2],\n       [3, 4, 3, 4]])"
          },
          "metadata": {}
        }
      ],
      "execution_count": 95
    },
    {
      "cell_type": "code",
      "source": "ser1 = pd.Series(['A', 'B', 'C'], index=[1, 2, 3])\nser2 = pd.Series(['D', 'E', 'F'], index=[4, 5, 6])\npd.concat([ser1, ser2])",
      "metadata": {
        "trusted": true
      },
      "outputs": [
        {
          "execution_count": 96,
          "output_type": "execute_result",
          "data": {
            "text/plain": "1    A\n2    B\n3    C\n4    D\n5    E\n6    F\ndtype: object"
          },
          "metadata": {}
        }
      ],
      "execution_count": 96
    },
    {
      "cell_type": "code",
      "source": "df1 = make_df('AB', [1, 2])\ndf2 = make_df('AB', [3, 4])\ndisplay('df1', 'df2', 'pd.concat([df1, df2])')",
      "metadata": {
        "trusted": true
      },
      "outputs": [
        {
          "execution_count": 97,
          "output_type": "execute_result",
          "data": {
            "text/plain": "df1\n    A   B\n1  A1  B1\n2  A2  B2\n\ndf2\n    A   B\n3  A3  B3\n4  A4  B4\n\npd.concat([df1, df2])\n    A   B\n1  A1  B1\n2  A2  B2\n3  A3  B3\n4  A4  B4",
            "text/html": "<div style=\"float: left; padding: 10px;\">\n    <p style='font-family:\"Courier New\", Courier, monospace'>df1</p><div>\n<style scoped>\n    .dataframe tbody tr th:only-of-type {\n        vertical-align: middle;\n    }\n\n    .dataframe tbody tr th {\n        vertical-align: top;\n    }\n\n    .dataframe thead th {\n        text-align: right;\n    }\n</style>\n<table border=\"1\" class=\"dataframe\">\n  <thead>\n    <tr style=\"text-align: right;\">\n      <th></th>\n      <th>A</th>\n      <th>B</th>\n    </tr>\n  </thead>\n  <tbody>\n    <tr>\n      <th>1</th>\n      <td>A1</td>\n      <td>B1</td>\n    </tr>\n    <tr>\n      <th>2</th>\n      <td>A2</td>\n      <td>B2</td>\n    </tr>\n  </tbody>\n</table>\n</div>\n    </div>\n<div style=\"float: left; padding: 10px;\">\n    <p style='font-family:\"Courier New\", Courier, monospace'>df2</p><div>\n<style scoped>\n    .dataframe tbody tr th:only-of-type {\n        vertical-align: middle;\n    }\n\n    .dataframe tbody tr th {\n        vertical-align: top;\n    }\n\n    .dataframe thead th {\n        text-align: right;\n    }\n</style>\n<table border=\"1\" class=\"dataframe\">\n  <thead>\n    <tr style=\"text-align: right;\">\n      <th></th>\n      <th>A</th>\n      <th>B</th>\n    </tr>\n  </thead>\n  <tbody>\n    <tr>\n      <th>3</th>\n      <td>A3</td>\n      <td>B3</td>\n    </tr>\n    <tr>\n      <th>4</th>\n      <td>A4</td>\n      <td>B4</td>\n    </tr>\n  </tbody>\n</table>\n</div>\n    </div>\n<div style=\"float: left; padding: 10px;\">\n    <p style='font-family:\"Courier New\", Courier, monospace'>pd.concat([df1, df2])</p><div>\n<style scoped>\n    .dataframe tbody tr th:only-of-type {\n        vertical-align: middle;\n    }\n\n    .dataframe tbody tr th {\n        vertical-align: top;\n    }\n\n    .dataframe thead th {\n        text-align: right;\n    }\n</style>\n<table border=\"1\" class=\"dataframe\">\n  <thead>\n    <tr style=\"text-align: right;\">\n      <th></th>\n      <th>A</th>\n      <th>B</th>\n    </tr>\n  </thead>\n  <tbody>\n    <tr>\n      <th>1</th>\n      <td>A1</td>\n      <td>B1</td>\n    </tr>\n    <tr>\n      <th>2</th>\n      <td>A2</td>\n      <td>B2</td>\n    </tr>\n    <tr>\n      <th>3</th>\n      <td>A3</td>\n      <td>B3</td>\n    </tr>\n    <tr>\n      <th>4</th>\n      <td>A4</td>\n      <td>B4</td>\n    </tr>\n  </tbody>\n</table>\n</div>\n    </div>"
          },
          "metadata": {}
        }
      ],
      "execution_count": 97
    },
    {
      "cell_type": "code",
      "source": "x = make_df('AB', [0, 1])\ny = make_df('AB', [2, 3])\ny.index = x.index  \ndisplay('x', 'y', 'pd.concat([x, y])')",
      "metadata": {
        "trusted": true
      },
      "outputs": [
        {
          "execution_count": 99,
          "output_type": "execute_result",
          "data": {
            "text/plain": "x\n    A   B\n0  A0  B0\n1  A1  B1\n\ny\n    A   B\n0  A2  B2\n1  A3  B3\n\npd.concat([x, y])\n    A   B\n0  A0  B0\n1  A1  B1\n0  A2  B2\n1  A3  B3",
            "text/html": "<div style=\"float: left; padding: 10px;\">\n    <p style='font-family:\"Courier New\", Courier, monospace'>x</p><div>\n<style scoped>\n    .dataframe tbody tr th:only-of-type {\n        vertical-align: middle;\n    }\n\n    .dataframe tbody tr th {\n        vertical-align: top;\n    }\n\n    .dataframe thead th {\n        text-align: right;\n    }\n</style>\n<table border=\"1\" class=\"dataframe\">\n  <thead>\n    <tr style=\"text-align: right;\">\n      <th></th>\n      <th>A</th>\n      <th>B</th>\n    </tr>\n  </thead>\n  <tbody>\n    <tr>\n      <th>0</th>\n      <td>A0</td>\n      <td>B0</td>\n    </tr>\n    <tr>\n      <th>1</th>\n      <td>A1</td>\n      <td>B1</td>\n    </tr>\n  </tbody>\n</table>\n</div>\n    </div>\n<div style=\"float: left; padding: 10px;\">\n    <p style='font-family:\"Courier New\", Courier, monospace'>y</p><div>\n<style scoped>\n    .dataframe tbody tr th:only-of-type {\n        vertical-align: middle;\n    }\n\n    .dataframe tbody tr th {\n        vertical-align: top;\n    }\n\n    .dataframe thead th {\n        text-align: right;\n    }\n</style>\n<table border=\"1\" class=\"dataframe\">\n  <thead>\n    <tr style=\"text-align: right;\">\n      <th></th>\n      <th>A</th>\n      <th>B</th>\n    </tr>\n  </thead>\n  <tbody>\n    <tr>\n      <th>0</th>\n      <td>A2</td>\n      <td>B2</td>\n    </tr>\n    <tr>\n      <th>1</th>\n      <td>A3</td>\n      <td>B3</td>\n    </tr>\n  </tbody>\n</table>\n</div>\n    </div>\n<div style=\"float: left; padding: 10px;\">\n    <p style='font-family:\"Courier New\", Courier, monospace'>pd.concat([x, y])</p><div>\n<style scoped>\n    .dataframe tbody tr th:only-of-type {\n        vertical-align: middle;\n    }\n\n    .dataframe tbody tr th {\n        vertical-align: top;\n    }\n\n    .dataframe thead th {\n        text-align: right;\n    }\n</style>\n<table border=\"1\" class=\"dataframe\">\n  <thead>\n    <tr style=\"text-align: right;\">\n      <th></th>\n      <th>A</th>\n      <th>B</th>\n    </tr>\n  </thead>\n  <tbody>\n    <tr>\n      <th>0</th>\n      <td>A0</td>\n      <td>B0</td>\n    </tr>\n    <tr>\n      <th>1</th>\n      <td>A1</td>\n      <td>B1</td>\n    </tr>\n    <tr>\n      <th>0</th>\n      <td>A2</td>\n      <td>B2</td>\n    </tr>\n    <tr>\n      <th>1</th>\n      <td>A3</td>\n      <td>B3</td>\n    </tr>\n  </tbody>\n</table>\n</div>\n    </div>"
          },
          "metadata": {}
        }
      ],
      "execution_count": 99
    },
    {
      "cell_type": "code",
      "source": "try:\n    pd.concat([x, y], verify_integrity=True)\nexcept ValueError as e:\n    print(\"ValueError:\", e)",
      "metadata": {
        "trusted": true
      },
      "outputs": [
        {
          "name": "stdout",
          "text": "ValueError: Indexes have overlapping values: Int64Index([0, 1], dtype='int64')\n",
          "output_type": "stream"
        }
      ],
      "execution_count": 100
    },
    {
      "cell_type": "code",
      "source": "display('x', 'y', 'pd.concat([x, y], ignore_index=True)')",
      "metadata": {
        "trusted": true
      },
      "outputs": [
        {
          "execution_count": 101,
          "output_type": "execute_result",
          "data": {
            "text/plain": "x\n    A   B\n0  A0  B0\n1  A1  B1\n\ny\n    A   B\n0  A2  B2\n1  A3  B3\n\npd.concat([x, y], ignore_index=True)\n    A   B\n0  A0  B0\n1  A1  B1\n2  A2  B2\n3  A3  B3",
            "text/html": "<div style=\"float: left; padding: 10px;\">\n    <p style='font-family:\"Courier New\", Courier, monospace'>x</p><div>\n<style scoped>\n    .dataframe tbody tr th:only-of-type {\n        vertical-align: middle;\n    }\n\n    .dataframe tbody tr th {\n        vertical-align: top;\n    }\n\n    .dataframe thead th {\n        text-align: right;\n    }\n</style>\n<table border=\"1\" class=\"dataframe\">\n  <thead>\n    <tr style=\"text-align: right;\">\n      <th></th>\n      <th>A</th>\n      <th>B</th>\n    </tr>\n  </thead>\n  <tbody>\n    <tr>\n      <th>0</th>\n      <td>A0</td>\n      <td>B0</td>\n    </tr>\n    <tr>\n      <th>1</th>\n      <td>A1</td>\n      <td>B1</td>\n    </tr>\n  </tbody>\n</table>\n</div>\n    </div>\n<div style=\"float: left; padding: 10px;\">\n    <p style='font-family:\"Courier New\", Courier, monospace'>y</p><div>\n<style scoped>\n    .dataframe tbody tr th:only-of-type {\n        vertical-align: middle;\n    }\n\n    .dataframe tbody tr th {\n        vertical-align: top;\n    }\n\n    .dataframe thead th {\n        text-align: right;\n    }\n</style>\n<table border=\"1\" class=\"dataframe\">\n  <thead>\n    <tr style=\"text-align: right;\">\n      <th></th>\n      <th>A</th>\n      <th>B</th>\n    </tr>\n  </thead>\n  <tbody>\n    <tr>\n      <th>0</th>\n      <td>A2</td>\n      <td>B2</td>\n    </tr>\n    <tr>\n      <th>1</th>\n      <td>A3</td>\n      <td>B3</td>\n    </tr>\n  </tbody>\n</table>\n</div>\n    </div>\n<div style=\"float: left; padding: 10px;\">\n    <p style='font-family:\"Courier New\", Courier, monospace'>pd.concat([x, y], ignore_index=True)</p><div>\n<style scoped>\n    .dataframe tbody tr th:only-of-type {\n        vertical-align: middle;\n    }\n\n    .dataframe tbody tr th {\n        vertical-align: top;\n    }\n\n    .dataframe thead th {\n        text-align: right;\n    }\n</style>\n<table border=\"1\" class=\"dataframe\">\n  <thead>\n    <tr style=\"text-align: right;\">\n      <th></th>\n      <th>A</th>\n      <th>B</th>\n    </tr>\n  </thead>\n  <tbody>\n    <tr>\n      <th>0</th>\n      <td>A0</td>\n      <td>B0</td>\n    </tr>\n    <tr>\n      <th>1</th>\n      <td>A1</td>\n      <td>B1</td>\n    </tr>\n    <tr>\n      <th>2</th>\n      <td>A2</td>\n      <td>B2</td>\n    </tr>\n    <tr>\n      <th>3</th>\n      <td>A3</td>\n      <td>B3</td>\n    </tr>\n  </tbody>\n</table>\n</div>\n    </div>"
          },
          "metadata": {}
        }
      ],
      "execution_count": 101
    },
    {
      "cell_type": "code",
      "source": "display('x', 'y', \"pd.concat([x, y], keys=['x', 'y'])\")",
      "metadata": {
        "trusted": true
      },
      "outputs": [
        {
          "execution_count": 102,
          "output_type": "execute_result",
          "data": {
            "text/plain": "x\n    A   B\n0  A0  B0\n1  A1  B1\n\ny\n    A   B\n0  A2  B2\n1  A3  B3\n\npd.concat([x, y], keys=['x', 'y'])\n      A   B\nx 0  A0  B0\n  1  A1  B1\ny 0  A2  B2\n  1  A3  B3",
            "text/html": "<div style=\"float: left; padding: 10px;\">\n    <p style='font-family:\"Courier New\", Courier, monospace'>x</p><div>\n<style scoped>\n    .dataframe tbody tr th:only-of-type {\n        vertical-align: middle;\n    }\n\n    .dataframe tbody tr th {\n        vertical-align: top;\n    }\n\n    .dataframe thead th {\n        text-align: right;\n    }\n</style>\n<table border=\"1\" class=\"dataframe\">\n  <thead>\n    <tr style=\"text-align: right;\">\n      <th></th>\n      <th>A</th>\n      <th>B</th>\n    </tr>\n  </thead>\n  <tbody>\n    <tr>\n      <th>0</th>\n      <td>A0</td>\n      <td>B0</td>\n    </tr>\n    <tr>\n      <th>1</th>\n      <td>A1</td>\n      <td>B1</td>\n    </tr>\n  </tbody>\n</table>\n</div>\n    </div>\n<div style=\"float: left; padding: 10px;\">\n    <p style='font-family:\"Courier New\", Courier, monospace'>y</p><div>\n<style scoped>\n    .dataframe tbody tr th:only-of-type {\n        vertical-align: middle;\n    }\n\n    .dataframe tbody tr th {\n        vertical-align: top;\n    }\n\n    .dataframe thead th {\n        text-align: right;\n    }\n</style>\n<table border=\"1\" class=\"dataframe\">\n  <thead>\n    <tr style=\"text-align: right;\">\n      <th></th>\n      <th>A</th>\n      <th>B</th>\n    </tr>\n  </thead>\n  <tbody>\n    <tr>\n      <th>0</th>\n      <td>A2</td>\n      <td>B2</td>\n    </tr>\n    <tr>\n      <th>1</th>\n      <td>A3</td>\n      <td>B3</td>\n    </tr>\n  </tbody>\n</table>\n</div>\n    </div>\n<div style=\"float: left; padding: 10px;\">\n    <p style='font-family:\"Courier New\", Courier, monospace'>pd.concat([x, y], keys=['x', 'y'])</p><div>\n<style scoped>\n    .dataframe tbody tr th:only-of-type {\n        vertical-align: middle;\n    }\n\n    .dataframe tbody tr th {\n        vertical-align: top;\n    }\n\n    .dataframe thead th {\n        text-align: right;\n    }\n</style>\n<table border=\"1\" class=\"dataframe\">\n  <thead>\n    <tr style=\"text-align: right;\">\n      <th></th>\n      <th></th>\n      <th>A</th>\n      <th>B</th>\n    </tr>\n  </thead>\n  <tbody>\n    <tr>\n      <th rowspan=\"2\" valign=\"top\">x</th>\n      <th>0</th>\n      <td>A0</td>\n      <td>B0</td>\n    </tr>\n    <tr>\n      <th>1</th>\n      <td>A1</td>\n      <td>B1</td>\n    </tr>\n    <tr>\n      <th rowspan=\"2\" valign=\"top\">y</th>\n      <th>0</th>\n      <td>A2</td>\n      <td>B2</td>\n    </tr>\n    <tr>\n      <th>1</th>\n      <td>A3</td>\n      <td>B3</td>\n    </tr>\n  </tbody>\n</table>\n</div>\n    </div>"
          },
          "metadata": {}
        }
      ],
      "execution_count": 102
    },
    {
      "cell_type": "code",
      "source": "df5 = make_df('ABC', [1, 2])\ndf6 = make_df('BCD', [3, 4])\ndisplay('df5', 'df6', 'pd.concat([df5, df6])')",
      "metadata": {
        "trusted": true
      },
      "outputs": [
        {
          "execution_count": 103,
          "output_type": "execute_result",
          "data": {
            "text/plain": "df5\n    A   B   C\n1  A1  B1  C1\n2  A2  B2  C2\n\ndf6\n    B   C   D\n3  B3  C3  D3\n4  B4  C4  D4\n\npd.concat([df5, df6])\n     A   B   C    D\n1   A1  B1  C1  NaN\n2   A2  B2  C2  NaN\n3  NaN  B3  C3   D3\n4  NaN  B4  C4   D4",
            "text/html": "<div style=\"float: left; padding: 10px;\">\n    <p style='font-family:\"Courier New\", Courier, monospace'>df5</p><div>\n<style scoped>\n    .dataframe tbody tr th:only-of-type {\n        vertical-align: middle;\n    }\n\n    .dataframe tbody tr th {\n        vertical-align: top;\n    }\n\n    .dataframe thead th {\n        text-align: right;\n    }\n</style>\n<table border=\"1\" class=\"dataframe\">\n  <thead>\n    <tr style=\"text-align: right;\">\n      <th></th>\n      <th>A</th>\n      <th>B</th>\n      <th>C</th>\n    </tr>\n  </thead>\n  <tbody>\n    <tr>\n      <th>1</th>\n      <td>A1</td>\n      <td>B1</td>\n      <td>C1</td>\n    </tr>\n    <tr>\n      <th>2</th>\n      <td>A2</td>\n      <td>B2</td>\n      <td>C2</td>\n    </tr>\n  </tbody>\n</table>\n</div>\n    </div>\n<div style=\"float: left; padding: 10px;\">\n    <p style='font-family:\"Courier New\", Courier, monospace'>df6</p><div>\n<style scoped>\n    .dataframe tbody tr th:only-of-type {\n        vertical-align: middle;\n    }\n\n    .dataframe tbody tr th {\n        vertical-align: top;\n    }\n\n    .dataframe thead th {\n        text-align: right;\n    }\n</style>\n<table border=\"1\" class=\"dataframe\">\n  <thead>\n    <tr style=\"text-align: right;\">\n      <th></th>\n      <th>B</th>\n      <th>C</th>\n      <th>D</th>\n    </tr>\n  </thead>\n  <tbody>\n    <tr>\n      <th>3</th>\n      <td>B3</td>\n      <td>C3</td>\n      <td>D3</td>\n    </tr>\n    <tr>\n      <th>4</th>\n      <td>B4</td>\n      <td>C4</td>\n      <td>D4</td>\n    </tr>\n  </tbody>\n</table>\n</div>\n    </div>\n<div style=\"float: left; padding: 10px;\">\n    <p style='font-family:\"Courier New\", Courier, monospace'>pd.concat([df5, df6])</p><div>\n<style scoped>\n    .dataframe tbody tr th:only-of-type {\n        vertical-align: middle;\n    }\n\n    .dataframe tbody tr th {\n        vertical-align: top;\n    }\n\n    .dataframe thead th {\n        text-align: right;\n    }\n</style>\n<table border=\"1\" class=\"dataframe\">\n  <thead>\n    <tr style=\"text-align: right;\">\n      <th></th>\n      <th>A</th>\n      <th>B</th>\n      <th>C</th>\n      <th>D</th>\n    </tr>\n  </thead>\n  <tbody>\n    <tr>\n      <th>1</th>\n      <td>A1</td>\n      <td>B1</td>\n      <td>C1</td>\n      <td>NaN</td>\n    </tr>\n    <tr>\n      <th>2</th>\n      <td>A2</td>\n      <td>B2</td>\n      <td>C2</td>\n      <td>NaN</td>\n    </tr>\n    <tr>\n      <th>3</th>\n      <td>NaN</td>\n      <td>B3</td>\n      <td>C3</td>\n      <td>D3</td>\n    </tr>\n    <tr>\n      <th>4</th>\n      <td>NaN</td>\n      <td>B4</td>\n      <td>C4</td>\n      <td>D4</td>\n    </tr>\n  </tbody>\n</table>\n</div>\n    </div>"
          },
          "metadata": {}
        }
      ],
      "execution_count": 103
    },
    {
      "cell_type": "code",
      "source": "display('df5', 'df6',\n        \"pd.concat([df5, df6], join='inner')\")",
      "metadata": {
        "trusted": true
      },
      "outputs": [
        {
          "execution_count": 104,
          "output_type": "execute_result",
          "data": {
            "text/plain": "df5\n    A   B   C\n1  A1  B1  C1\n2  A2  B2  C2\n\ndf6\n    B   C   D\n3  B3  C3  D3\n4  B4  C4  D4\n\npd.concat([df5, df6], join='inner')\n    B   C\n1  B1  C1\n2  B2  C2\n3  B3  C3\n4  B4  C4",
            "text/html": "<div style=\"float: left; padding: 10px;\">\n    <p style='font-family:\"Courier New\", Courier, monospace'>df5</p><div>\n<style scoped>\n    .dataframe tbody tr th:only-of-type {\n        vertical-align: middle;\n    }\n\n    .dataframe tbody tr th {\n        vertical-align: top;\n    }\n\n    .dataframe thead th {\n        text-align: right;\n    }\n</style>\n<table border=\"1\" class=\"dataframe\">\n  <thead>\n    <tr style=\"text-align: right;\">\n      <th></th>\n      <th>A</th>\n      <th>B</th>\n      <th>C</th>\n    </tr>\n  </thead>\n  <tbody>\n    <tr>\n      <th>1</th>\n      <td>A1</td>\n      <td>B1</td>\n      <td>C1</td>\n    </tr>\n    <tr>\n      <th>2</th>\n      <td>A2</td>\n      <td>B2</td>\n      <td>C2</td>\n    </tr>\n  </tbody>\n</table>\n</div>\n    </div>\n<div style=\"float: left; padding: 10px;\">\n    <p style='font-family:\"Courier New\", Courier, monospace'>df6</p><div>\n<style scoped>\n    .dataframe tbody tr th:only-of-type {\n        vertical-align: middle;\n    }\n\n    .dataframe tbody tr th {\n        vertical-align: top;\n    }\n\n    .dataframe thead th {\n        text-align: right;\n    }\n</style>\n<table border=\"1\" class=\"dataframe\">\n  <thead>\n    <tr style=\"text-align: right;\">\n      <th></th>\n      <th>B</th>\n      <th>C</th>\n      <th>D</th>\n    </tr>\n  </thead>\n  <tbody>\n    <tr>\n      <th>3</th>\n      <td>B3</td>\n      <td>C3</td>\n      <td>D3</td>\n    </tr>\n    <tr>\n      <th>4</th>\n      <td>B4</td>\n      <td>C4</td>\n      <td>D4</td>\n    </tr>\n  </tbody>\n</table>\n</div>\n    </div>\n<div style=\"float: left; padding: 10px;\">\n    <p style='font-family:\"Courier New\", Courier, monospace'>pd.concat([df5, df6], join='inner')</p><div>\n<style scoped>\n    .dataframe tbody tr th:only-of-type {\n        vertical-align: middle;\n    }\n\n    .dataframe tbody tr th {\n        vertical-align: top;\n    }\n\n    .dataframe thead th {\n        text-align: right;\n    }\n</style>\n<table border=\"1\" class=\"dataframe\">\n  <thead>\n    <tr style=\"text-align: right;\">\n      <th></th>\n      <th>B</th>\n      <th>C</th>\n    </tr>\n  </thead>\n  <tbody>\n    <tr>\n      <th>1</th>\n      <td>B1</td>\n      <td>C1</td>\n    </tr>\n    <tr>\n      <th>2</th>\n      <td>B2</td>\n      <td>C2</td>\n    </tr>\n    <tr>\n      <th>3</th>\n      <td>B3</td>\n      <td>C3</td>\n    </tr>\n    <tr>\n      <th>4</th>\n      <td>B4</td>\n      <td>C4</td>\n    </tr>\n  </tbody>\n</table>\n</div>\n    </div>"
          },
          "metadata": {}
        }
      ],
      "execution_count": 104
    },
    {
      "cell_type": "code",
      "source": "display('df1', 'df2', 'df1.append(df2)')",
      "metadata": {
        "trusted": true
      },
      "outputs": [
        {
          "name": "stderr",
          "text": "<string>:1: FutureWarning: The frame.append method is deprecated and will be removed from pandas in a future version. Use pandas.concat instead.\n<string>:1: FutureWarning: The frame.append method is deprecated and will be removed from pandas in a future version. Use pandas.concat instead.\n",
          "output_type": "stream"
        },
        {
          "execution_count": 106,
          "output_type": "execute_result",
          "data": {
            "text/plain": "df1\n    A   B\n1  A1  B1\n2  A2  B2\n\ndf2\n    A   B\n3  A3  B3\n4  A4  B4\n\ndf1.append(df2)\n    A   B\n1  A1  B1\n2  A2  B2\n3  A3  B3\n4  A4  B4",
            "text/html": "<div style=\"float: left; padding: 10px;\">\n    <p style='font-family:\"Courier New\", Courier, monospace'>df1</p><div>\n<style scoped>\n    .dataframe tbody tr th:only-of-type {\n        vertical-align: middle;\n    }\n\n    .dataframe tbody tr th {\n        vertical-align: top;\n    }\n\n    .dataframe thead th {\n        text-align: right;\n    }\n</style>\n<table border=\"1\" class=\"dataframe\">\n  <thead>\n    <tr style=\"text-align: right;\">\n      <th></th>\n      <th>A</th>\n      <th>B</th>\n    </tr>\n  </thead>\n  <tbody>\n    <tr>\n      <th>1</th>\n      <td>A1</td>\n      <td>B1</td>\n    </tr>\n    <tr>\n      <th>2</th>\n      <td>A2</td>\n      <td>B2</td>\n    </tr>\n  </tbody>\n</table>\n</div>\n    </div>\n<div style=\"float: left; padding: 10px;\">\n    <p style='font-family:\"Courier New\", Courier, monospace'>df2</p><div>\n<style scoped>\n    .dataframe tbody tr th:only-of-type {\n        vertical-align: middle;\n    }\n\n    .dataframe tbody tr th {\n        vertical-align: top;\n    }\n\n    .dataframe thead th {\n        text-align: right;\n    }\n</style>\n<table border=\"1\" class=\"dataframe\">\n  <thead>\n    <tr style=\"text-align: right;\">\n      <th></th>\n      <th>A</th>\n      <th>B</th>\n    </tr>\n  </thead>\n  <tbody>\n    <tr>\n      <th>3</th>\n      <td>A3</td>\n      <td>B3</td>\n    </tr>\n    <tr>\n      <th>4</th>\n      <td>A4</td>\n      <td>B4</td>\n    </tr>\n  </tbody>\n</table>\n</div>\n    </div>\n<div style=\"float: left; padding: 10px;\">\n    <p style='font-family:\"Courier New\", Courier, monospace'>df1.append(df2)</p><div>\n<style scoped>\n    .dataframe tbody tr th:only-of-type {\n        vertical-align: middle;\n    }\n\n    .dataframe tbody tr th {\n        vertical-align: top;\n    }\n\n    .dataframe thead th {\n        text-align: right;\n    }\n</style>\n<table border=\"1\" class=\"dataframe\">\n  <thead>\n    <tr style=\"text-align: right;\">\n      <th></th>\n      <th>A</th>\n      <th>B</th>\n    </tr>\n  </thead>\n  <tbody>\n    <tr>\n      <th>1</th>\n      <td>A1</td>\n      <td>B1</td>\n    </tr>\n    <tr>\n      <th>2</th>\n      <td>A2</td>\n      <td>B2</td>\n    </tr>\n    <tr>\n      <th>3</th>\n      <td>A3</td>\n      <td>B3</td>\n    </tr>\n    <tr>\n      <th>4</th>\n      <td>A4</td>\n      <td>B4</td>\n    </tr>\n  </tbody>\n</table>\n</div>\n    </div>"
          },
          "metadata": {}
        }
      ],
      "execution_count": 106
    },
    {
      "cell_type": "code",
      "source": "import pandas as pd\nimport numpy as np\n\nclass display(object):\n    \"\"\"Display HTML representation of multiple objects\"\"\"\n    template = \"\"\"<div style=\"float: left; padding: 10px;\">\n    <p style='font-family:\"Courier New\", Courier, monospace'>{0}</p>{1}\n    </div>\"\"\"\n    def __init__(self, *args):\n        self.args = args\n        \n    def _repr_html_(self):\n        return '\\n'.join(self.template.format(a, eval(a)._repr_html_())\n                         for a in self.args)\n    \n    def __repr__(self):\n        return '\\n\\n'.join(a + '\\n' + repr(eval(a))\n                           for a in self.args)",
      "metadata": {
        "trusted": true
      },
      "outputs": [],
      "execution_count": 107
    },
    {
      "cell_type": "code",
      "source": "df1 = pd.DataFrame({'employee': ['Bob', 'Jake', 'Lisa', 'Sue'],\n                    'group': ['Accounting', 'Engineering', 'Engineering', 'HR']})\ndf2 = pd.DataFrame({'employee': ['Lisa', 'Bob', 'Jake', 'Sue'],\n                    'hire_date': [2004, 2008, 2012, 2014]})\ndisplay('df1', 'df2')",
      "metadata": {
        "trusted": true
      },
      "outputs": [
        {
          "execution_count": 108,
          "output_type": "execute_result",
          "data": {
            "text/plain": "df1\n  employee        group\n0      Bob   Accounting\n1     Jake  Engineering\n2     Lisa  Engineering\n3      Sue           HR\n\ndf2\n  employee  hire_date\n0     Lisa       2004\n1      Bob       2008\n2     Jake       2012\n3      Sue       2014",
            "text/html": "<div style=\"float: left; padding: 10px;\">\n    <p style='font-family:\"Courier New\", Courier, monospace'>df1</p><div>\n<style scoped>\n    .dataframe tbody tr th:only-of-type {\n        vertical-align: middle;\n    }\n\n    .dataframe tbody tr th {\n        vertical-align: top;\n    }\n\n    .dataframe thead th {\n        text-align: right;\n    }\n</style>\n<table border=\"1\" class=\"dataframe\">\n  <thead>\n    <tr style=\"text-align: right;\">\n      <th></th>\n      <th>employee</th>\n      <th>group</th>\n    </tr>\n  </thead>\n  <tbody>\n    <tr>\n      <th>0</th>\n      <td>Bob</td>\n      <td>Accounting</td>\n    </tr>\n    <tr>\n      <th>1</th>\n      <td>Jake</td>\n      <td>Engineering</td>\n    </tr>\n    <tr>\n      <th>2</th>\n      <td>Lisa</td>\n      <td>Engineering</td>\n    </tr>\n    <tr>\n      <th>3</th>\n      <td>Sue</td>\n      <td>HR</td>\n    </tr>\n  </tbody>\n</table>\n</div>\n    </div>\n<div style=\"float: left; padding: 10px;\">\n    <p style='font-family:\"Courier New\", Courier, monospace'>df2</p><div>\n<style scoped>\n    .dataframe tbody tr th:only-of-type {\n        vertical-align: middle;\n    }\n\n    .dataframe tbody tr th {\n        vertical-align: top;\n    }\n\n    .dataframe thead th {\n        text-align: right;\n    }\n</style>\n<table border=\"1\" class=\"dataframe\">\n  <thead>\n    <tr style=\"text-align: right;\">\n      <th></th>\n      <th>employee</th>\n      <th>hire_date</th>\n    </tr>\n  </thead>\n  <tbody>\n    <tr>\n      <th>0</th>\n      <td>Lisa</td>\n      <td>2004</td>\n    </tr>\n    <tr>\n      <th>1</th>\n      <td>Bob</td>\n      <td>2008</td>\n    </tr>\n    <tr>\n      <th>2</th>\n      <td>Jake</td>\n      <td>2012</td>\n    </tr>\n    <tr>\n      <th>3</th>\n      <td>Sue</td>\n      <td>2014</td>\n    </tr>\n  </tbody>\n</table>\n</div>\n    </div>"
          },
          "metadata": {}
        }
      ],
      "execution_count": 108
    },
    {
      "cell_type": "code",
      "source": "df3 = pd.merge(df1, df2)\ndf3",
      "metadata": {
        "trusted": true
      },
      "outputs": [
        {
          "execution_count": 109,
          "output_type": "execute_result",
          "data": {
            "text/plain": "  employee        group  hire_date\n0      Bob   Accounting       2008\n1     Jake  Engineering       2012\n2     Lisa  Engineering       2004\n3      Sue           HR       2014",
            "text/html": "<div>\n<style scoped>\n    .dataframe tbody tr th:only-of-type {\n        vertical-align: middle;\n    }\n\n    .dataframe tbody tr th {\n        vertical-align: top;\n    }\n\n    .dataframe thead th {\n        text-align: right;\n    }\n</style>\n<table border=\"1\" class=\"dataframe\">\n  <thead>\n    <tr style=\"text-align: right;\">\n      <th></th>\n      <th>employee</th>\n      <th>group</th>\n      <th>hire_date</th>\n    </tr>\n  </thead>\n  <tbody>\n    <tr>\n      <th>0</th>\n      <td>Bob</td>\n      <td>Accounting</td>\n      <td>2008</td>\n    </tr>\n    <tr>\n      <th>1</th>\n      <td>Jake</td>\n      <td>Engineering</td>\n      <td>2012</td>\n    </tr>\n    <tr>\n      <th>2</th>\n      <td>Lisa</td>\n      <td>Engineering</td>\n      <td>2004</td>\n    </tr>\n    <tr>\n      <th>3</th>\n      <td>Sue</td>\n      <td>HR</td>\n      <td>2014</td>\n    </tr>\n  </tbody>\n</table>\n</div>"
          },
          "metadata": {}
        }
      ],
      "execution_count": 109
    },
    {
      "cell_type": "code",
      "source": "df4 = pd.DataFrame({'group': ['Accounting', 'Engineering', 'HR'],\n                    'supervisor': ['Carly', 'Guido', 'Steve']})\ndisplay('df3', 'df4', 'pd.merge(df3, df4)')",
      "metadata": {
        "trusted": true
      },
      "outputs": [
        {
          "execution_count": 110,
          "output_type": "execute_result",
          "data": {
            "text/plain": "df3\n  employee        group  hire_date\n0      Bob   Accounting       2008\n1     Jake  Engineering       2012\n2     Lisa  Engineering       2004\n3      Sue           HR       2014\n\ndf4\n         group supervisor\n0   Accounting      Carly\n1  Engineering      Guido\n2           HR      Steve\n\npd.merge(df3, df4)\n  employee        group  hire_date supervisor\n0      Bob   Accounting       2008      Carly\n1     Jake  Engineering       2012      Guido\n2     Lisa  Engineering       2004      Guido\n3      Sue           HR       2014      Steve",
            "text/html": "<div style=\"float: left; padding: 10px;\">\n    <p style='font-family:\"Courier New\", Courier, monospace'>df3</p><div>\n<style scoped>\n    .dataframe tbody tr th:only-of-type {\n        vertical-align: middle;\n    }\n\n    .dataframe tbody tr th {\n        vertical-align: top;\n    }\n\n    .dataframe thead th {\n        text-align: right;\n    }\n</style>\n<table border=\"1\" class=\"dataframe\">\n  <thead>\n    <tr style=\"text-align: right;\">\n      <th></th>\n      <th>employee</th>\n      <th>group</th>\n      <th>hire_date</th>\n    </tr>\n  </thead>\n  <tbody>\n    <tr>\n      <th>0</th>\n      <td>Bob</td>\n      <td>Accounting</td>\n      <td>2008</td>\n    </tr>\n    <tr>\n      <th>1</th>\n      <td>Jake</td>\n      <td>Engineering</td>\n      <td>2012</td>\n    </tr>\n    <tr>\n      <th>2</th>\n      <td>Lisa</td>\n      <td>Engineering</td>\n      <td>2004</td>\n    </tr>\n    <tr>\n      <th>3</th>\n      <td>Sue</td>\n      <td>HR</td>\n      <td>2014</td>\n    </tr>\n  </tbody>\n</table>\n</div>\n    </div>\n<div style=\"float: left; padding: 10px;\">\n    <p style='font-family:\"Courier New\", Courier, monospace'>df4</p><div>\n<style scoped>\n    .dataframe tbody tr th:only-of-type {\n        vertical-align: middle;\n    }\n\n    .dataframe tbody tr th {\n        vertical-align: top;\n    }\n\n    .dataframe thead th {\n        text-align: right;\n    }\n</style>\n<table border=\"1\" class=\"dataframe\">\n  <thead>\n    <tr style=\"text-align: right;\">\n      <th></th>\n      <th>group</th>\n      <th>supervisor</th>\n    </tr>\n  </thead>\n  <tbody>\n    <tr>\n      <th>0</th>\n      <td>Accounting</td>\n      <td>Carly</td>\n    </tr>\n    <tr>\n      <th>1</th>\n      <td>Engineering</td>\n      <td>Guido</td>\n    </tr>\n    <tr>\n      <th>2</th>\n      <td>HR</td>\n      <td>Steve</td>\n    </tr>\n  </tbody>\n</table>\n</div>\n    </div>\n<div style=\"float: left; padding: 10px;\">\n    <p style='font-family:\"Courier New\", Courier, monospace'>pd.merge(df3, df4)</p><div>\n<style scoped>\n    .dataframe tbody tr th:only-of-type {\n        vertical-align: middle;\n    }\n\n    .dataframe tbody tr th {\n        vertical-align: top;\n    }\n\n    .dataframe thead th {\n        text-align: right;\n    }\n</style>\n<table border=\"1\" class=\"dataframe\">\n  <thead>\n    <tr style=\"text-align: right;\">\n      <th></th>\n      <th>employee</th>\n      <th>group</th>\n      <th>hire_date</th>\n      <th>supervisor</th>\n    </tr>\n  </thead>\n  <tbody>\n    <tr>\n      <th>0</th>\n      <td>Bob</td>\n      <td>Accounting</td>\n      <td>2008</td>\n      <td>Carly</td>\n    </tr>\n    <tr>\n      <th>1</th>\n      <td>Jake</td>\n      <td>Engineering</td>\n      <td>2012</td>\n      <td>Guido</td>\n    </tr>\n    <tr>\n      <th>2</th>\n      <td>Lisa</td>\n      <td>Engineering</td>\n      <td>2004</td>\n      <td>Guido</td>\n    </tr>\n    <tr>\n      <th>3</th>\n      <td>Sue</td>\n      <td>HR</td>\n      <td>2014</td>\n      <td>Steve</td>\n    </tr>\n  </tbody>\n</table>\n</div>\n    </div>"
          },
          "metadata": {}
        }
      ],
      "execution_count": 110
    },
    {
      "cell_type": "code",
      "source": "df5 = pd.DataFrame({'group': ['Accounting', 'Accounting',\n                              'Engineering', 'Engineering', 'HR', 'HR'],\n                    'skills': ['math', 'spreadsheets', 'coding', 'linux',\n                               'spreadsheets', 'organization']})\ndisplay('df1', 'df5', \"pd.merge(df1, df5)\")",
      "metadata": {
        "trusted": true
      },
      "outputs": [
        {
          "execution_count": 111,
          "output_type": "execute_result",
          "data": {
            "text/plain": "df1\n  employee        group\n0      Bob   Accounting\n1     Jake  Engineering\n2     Lisa  Engineering\n3      Sue           HR\n\ndf5\n         group        skills\n0   Accounting          math\n1   Accounting  spreadsheets\n2  Engineering        coding\n3  Engineering         linux\n4           HR  spreadsheets\n5           HR  organization\n\npd.merge(df1, df5)\n  employee        group        skills\n0      Bob   Accounting          math\n1      Bob   Accounting  spreadsheets\n2     Jake  Engineering        coding\n3     Jake  Engineering         linux\n4     Lisa  Engineering        coding\n5     Lisa  Engineering         linux\n6      Sue           HR  spreadsheets\n7      Sue           HR  organization",
            "text/html": "<div style=\"float: left; padding: 10px;\">\n    <p style='font-family:\"Courier New\", Courier, monospace'>df1</p><div>\n<style scoped>\n    .dataframe tbody tr th:only-of-type {\n        vertical-align: middle;\n    }\n\n    .dataframe tbody tr th {\n        vertical-align: top;\n    }\n\n    .dataframe thead th {\n        text-align: right;\n    }\n</style>\n<table border=\"1\" class=\"dataframe\">\n  <thead>\n    <tr style=\"text-align: right;\">\n      <th></th>\n      <th>employee</th>\n      <th>group</th>\n    </tr>\n  </thead>\n  <tbody>\n    <tr>\n      <th>0</th>\n      <td>Bob</td>\n      <td>Accounting</td>\n    </tr>\n    <tr>\n      <th>1</th>\n      <td>Jake</td>\n      <td>Engineering</td>\n    </tr>\n    <tr>\n      <th>2</th>\n      <td>Lisa</td>\n      <td>Engineering</td>\n    </tr>\n    <tr>\n      <th>3</th>\n      <td>Sue</td>\n      <td>HR</td>\n    </tr>\n  </tbody>\n</table>\n</div>\n    </div>\n<div style=\"float: left; padding: 10px;\">\n    <p style='font-family:\"Courier New\", Courier, monospace'>df5</p><div>\n<style scoped>\n    .dataframe tbody tr th:only-of-type {\n        vertical-align: middle;\n    }\n\n    .dataframe tbody tr th {\n        vertical-align: top;\n    }\n\n    .dataframe thead th {\n        text-align: right;\n    }\n</style>\n<table border=\"1\" class=\"dataframe\">\n  <thead>\n    <tr style=\"text-align: right;\">\n      <th></th>\n      <th>group</th>\n      <th>skills</th>\n    </tr>\n  </thead>\n  <tbody>\n    <tr>\n      <th>0</th>\n      <td>Accounting</td>\n      <td>math</td>\n    </tr>\n    <tr>\n      <th>1</th>\n      <td>Accounting</td>\n      <td>spreadsheets</td>\n    </tr>\n    <tr>\n      <th>2</th>\n      <td>Engineering</td>\n      <td>coding</td>\n    </tr>\n    <tr>\n      <th>3</th>\n      <td>Engineering</td>\n      <td>linux</td>\n    </tr>\n    <tr>\n      <th>4</th>\n      <td>HR</td>\n      <td>spreadsheets</td>\n    </tr>\n    <tr>\n      <th>5</th>\n      <td>HR</td>\n      <td>organization</td>\n    </tr>\n  </tbody>\n</table>\n</div>\n    </div>\n<div style=\"float: left; padding: 10px;\">\n    <p style='font-family:\"Courier New\", Courier, monospace'>pd.merge(df1, df5)</p><div>\n<style scoped>\n    .dataframe tbody tr th:only-of-type {\n        vertical-align: middle;\n    }\n\n    .dataframe tbody tr th {\n        vertical-align: top;\n    }\n\n    .dataframe thead th {\n        text-align: right;\n    }\n</style>\n<table border=\"1\" class=\"dataframe\">\n  <thead>\n    <tr style=\"text-align: right;\">\n      <th></th>\n      <th>employee</th>\n      <th>group</th>\n      <th>skills</th>\n    </tr>\n  </thead>\n  <tbody>\n    <tr>\n      <th>0</th>\n      <td>Bob</td>\n      <td>Accounting</td>\n      <td>math</td>\n    </tr>\n    <tr>\n      <th>1</th>\n      <td>Bob</td>\n      <td>Accounting</td>\n      <td>spreadsheets</td>\n    </tr>\n    <tr>\n      <th>2</th>\n      <td>Jake</td>\n      <td>Engineering</td>\n      <td>coding</td>\n    </tr>\n    <tr>\n      <th>3</th>\n      <td>Jake</td>\n      <td>Engineering</td>\n      <td>linux</td>\n    </tr>\n    <tr>\n      <th>4</th>\n      <td>Lisa</td>\n      <td>Engineering</td>\n      <td>coding</td>\n    </tr>\n    <tr>\n      <th>5</th>\n      <td>Lisa</td>\n      <td>Engineering</td>\n      <td>linux</td>\n    </tr>\n    <tr>\n      <th>6</th>\n      <td>Sue</td>\n      <td>HR</td>\n      <td>spreadsheets</td>\n    </tr>\n    <tr>\n      <th>7</th>\n      <td>Sue</td>\n      <td>HR</td>\n      <td>organization</td>\n    </tr>\n  </tbody>\n</table>\n</div>\n    </div>"
          },
          "metadata": {}
        }
      ],
      "execution_count": 111
    },
    {
      "cell_type": "code",
      "source": "display('df1', 'df2', \"pd.merge(df1, df2, on='employee')\")",
      "metadata": {
        "trusted": true
      },
      "outputs": [
        {
          "execution_count": 112,
          "output_type": "execute_result",
          "data": {
            "text/plain": "df1\n  employee        group\n0      Bob   Accounting\n1     Jake  Engineering\n2     Lisa  Engineering\n3      Sue           HR\n\ndf2\n  employee  hire_date\n0     Lisa       2004\n1      Bob       2008\n2     Jake       2012\n3      Sue       2014\n\npd.merge(df1, df2, on='employee')\n  employee        group  hire_date\n0      Bob   Accounting       2008\n1     Jake  Engineering       2012\n2     Lisa  Engineering       2004\n3      Sue           HR       2014",
            "text/html": "<div style=\"float: left; padding: 10px;\">\n    <p style='font-family:\"Courier New\", Courier, monospace'>df1</p><div>\n<style scoped>\n    .dataframe tbody tr th:only-of-type {\n        vertical-align: middle;\n    }\n\n    .dataframe tbody tr th {\n        vertical-align: top;\n    }\n\n    .dataframe thead th {\n        text-align: right;\n    }\n</style>\n<table border=\"1\" class=\"dataframe\">\n  <thead>\n    <tr style=\"text-align: right;\">\n      <th></th>\n      <th>employee</th>\n      <th>group</th>\n    </tr>\n  </thead>\n  <tbody>\n    <tr>\n      <th>0</th>\n      <td>Bob</td>\n      <td>Accounting</td>\n    </tr>\n    <tr>\n      <th>1</th>\n      <td>Jake</td>\n      <td>Engineering</td>\n    </tr>\n    <tr>\n      <th>2</th>\n      <td>Lisa</td>\n      <td>Engineering</td>\n    </tr>\n    <tr>\n      <th>3</th>\n      <td>Sue</td>\n      <td>HR</td>\n    </tr>\n  </tbody>\n</table>\n</div>\n    </div>\n<div style=\"float: left; padding: 10px;\">\n    <p style='font-family:\"Courier New\", Courier, monospace'>df2</p><div>\n<style scoped>\n    .dataframe tbody tr th:only-of-type {\n        vertical-align: middle;\n    }\n\n    .dataframe tbody tr th {\n        vertical-align: top;\n    }\n\n    .dataframe thead th {\n        text-align: right;\n    }\n</style>\n<table border=\"1\" class=\"dataframe\">\n  <thead>\n    <tr style=\"text-align: right;\">\n      <th></th>\n      <th>employee</th>\n      <th>hire_date</th>\n    </tr>\n  </thead>\n  <tbody>\n    <tr>\n      <th>0</th>\n      <td>Lisa</td>\n      <td>2004</td>\n    </tr>\n    <tr>\n      <th>1</th>\n      <td>Bob</td>\n      <td>2008</td>\n    </tr>\n    <tr>\n      <th>2</th>\n      <td>Jake</td>\n      <td>2012</td>\n    </tr>\n    <tr>\n      <th>3</th>\n      <td>Sue</td>\n      <td>2014</td>\n    </tr>\n  </tbody>\n</table>\n</div>\n    </div>\n<div style=\"float: left; padding: 10px;\">\n    <p style='font-family:\"Courier New\", Courier, monospace'>pd.merge(df1, df2, on='employee')</p><div>\n<style scoped>\n    .dataframe tbody tr th:only-of-type {\n        vertical-align: middle;\n    }\n\n    .dataframe tbody tr th {\n        vertical-align: top;\n    }\n\n    .dataframe thead th {\n        text-align: right;\n    }\n</style>\n<table border=\"1\" class=\"dataframe\">\n  <thead>\n    <tr style=\"text-align: right;\">\n      <th></th>\n      <th>employee</th>\n      <th>group</th>\n      <th>hire_date</th>\n    </tr>\n  </thead>\n  <tbody>\n    <tr>\n      <th>0</th>\n      <td>Bob</td>\n      <td>Accounting</td>\n      <td>2008</td>\n    </tr>\n    <tr>\n      <th>1</th>\n      <td>Jake</td>\n      <td>Engineering</td>\n      <td>2012</td>\n    </tr>\n    <tr>\n      <th>2</th>\n      <td>Lisa</td>\n      <td>Engineering</td>\n      <td>2004</td>\n    </tr>\n    <tr>\n      <th>3</th>\n      <td>Sue</td>\n      <td>HR</td>\n      <td>2014</td>\n    </tr>\n  </tbody>\n</table>\n</div>\n    </div>"
          },
          "metadata": {}
        }
      ],
      "execution_count": 112
    },
    {
      "cell_type": "code",
      "source": "df3 = pd.DataFrame({'name': ['Bob', 'Jake', 'Lisa', 'Sue'],\n                    'salary': [70000, 80000, 120000, 90000]})\ndisplay('df1', 'df3', 'pd.merge(df1, df3, left_on=\"employee\", right_on=\"name\")')",
      "metadata": {
        "trusted": true
      },
      "outputs": [
        {
          "execution_count": 113,
          "output_type": "execute_result",
          "data": {
            "text/plain": "df1\n  employee        group\n0      Bob   Accounting\n1     Jake  Engineering\n2     Lisa  Engineering\n3      Sue           HR\n\ndf3\n   name  salary\n0   Bob   70000\n1  Jake   80000\n2  Lisa  120000\n3   Sue   90000\n\npd.merge(df1, df3, left_on=\"employee\", right_on=\"name\")\n  employee        group  name  salary\n0      Bob   Accounting   Bob   70000\n1     Jake  Engineering  Jake   80000\n2     Lisa  Engineering  Lisa  120000\n3      Sue           HR   Sue   90000",
            "text/html": "<div style=\"float: left; padding: 10px;\">\n    <p style='font-family:\"Courier New\", Courier, monospace'>df1</p><div>\n<style scoped>\n    .dataframe tbody tr th:only-of-type {\n        vertical-align: middle;\n    }\n\n    .dataframe tbody tr th {\n        vertical-align: top;\n    }\n\n    .dataframe thead th {\n        text-align: right;\n    }\n</style>\n<table border=\"1\" class=\"dataframe\">\n  <thead>\n    <tr style=\"text-align: right;\">\n      <th></th>\n      <th>employee</th>\n      <th>group</th>\n    </tr>\n  </thead>\n  <tbody>\n    <tr>\n      <th>0</th>\n      <td>Bob</td>\n      <td>Accounting</td>\n    </tr>\n    <tr>\n      <th>1</th>\n      <td>Jake</td>\n      <td>Engineering</td>\n    </tr>\n    <tr>\n      <th>2</th>\n      <td>Lisa</td>\n      <td>Engineering</td>\n    </tr>\n    <tr>\n      <th>3</th>\n      <td>Sue</td>\n      <td>HR</td>\n    </tr>\n  </tbody>\n</table>\n</div>\n    </div>\n<div style=\"float: left; padding: 10px;\">\n    <p style='font-family:\"Courier New\", Courier, monospace'>df3</p><div>\n<style scoped>\n    .dataframe tbody tr th:only-of-type {\n        vertical-align: middle;\n    }\n\n    .dataframe tbody tr th {\n        vertical-align: top;\n    }\n\n    .dataframe thead th {\n        text-align: right;\n    }\n</style>\n<table border=\"1\" class=\"dataframe\">\n  <thead>\n    <tr style=\"text-align: right;\">\n      <th></th>\n      <th>name</th>\n      <th>salary</th>\n    </tr>\n  </thead>\n  <tbody>\n    <tr>\n      <th>0</th>\n      <td>Bob</td>\n      <td>70000</td>\n    </tr>\n    <tr>\n      <th>1</th>\n      <td>Jake</td>\n      <td>80000</td>\n    </tr>\n    <tr>\n      <th>2</th>\n      <td>Lisa</td>\n      <td>120000</td>\n    </tr>\n    <tr>\n      <th>3</th>\n      <td>Sue</td>\n      <td>90000</td>\n    </tr>\n  </tbody>\n</table>\n</div>\n    </div>\n<div style=\"float: left; padding: 10px;\">\n    <p style='font-family:\"Courier New\", Courier, monospace'>pd.merge(df1, df3, left_on=\"employee\", right_on=\"name\")</p><div>\n<style scoped>\n    .dataframe tbody tr th:only-of-type {\n        vertical-align: middle;\n    }\n\n    .dataframe tbody tr th {\n        vertical-align: top;\n    }\n\n    .dataframe thead th {\n        text-align: right;\n    }\n</style>\n<table border=\"1\" class=\"dataframe\">\n  <thead>\n    <tr style=\"text-align: right;\">\n      <th></th>\n      <th>employee</th>\n      <th>group</th>\n      <th>name</th>\n      <th>salary</th>\n    </tr>\n  </thead>\n  <tbody>\n    <tr>\n      <th>0</th>\n      <td>Bob</td>\n      <td>Accounting</td>\n      <td>Bob</td>\n      <td>70000</td>\n    </tr>\n    <tr>\n      <th>1</th>\n      <td>Jake</td>\n      <td>Engineering</td>\n      <td>Jake</td>\n      <td>80000</td>\n    </tr>\n    <tr>\n      <th>2</th>\n      <td>Lisa</td>\n      <td>Engineering</td>\n      <td>Lisa</td>\n      <td>120000</td>\n    </tr>\n    <tr>\n      <th>3</th>\n      <td>Sue</td>\n      <td>HR</td>\n      <td>Sue</td>\n      <td>90000</td>\n    </tr>\n  </tbody>\n</table>\n</div>\n    </div>"
          },
          "metadata": {}
        }
      ],
      "execution_count": 113
    },
    {
      "cell_type": "code",
      "source": "pd.merge(df1, df3, left_on=\"employee\", right_on=\"name\").drop('name', axis=1)",
      "metadata": {
        "trusted": true
      },
      "outputs": [
        {
          "execution_count": 114,
          "output_type": "execute_result",
          "data": {
            "text/plain": "  employee        group  salary\n0      Bob   Accounting   70000\n1     Jake  Engineering   80000\n2     Lisa  Engineering  120000\n3      Sue           HR   90000",
            "text/html": "<div>\n<style scoped>\n    .dataframe tbody tr th:only-of-type {\n        vertical-align: middle;\n    }\n\n    .dataframe tbody tr th {\n        vertical-align: top;\n    }\n\n    .dataframe thead th {\n        text-align: right;\n    }\n</style>\n<table border=\"1\" class=\"dataframe\">\n  <thead>\n    <tr style=\"text-align: right;\">\n      <th></th>\n      <th>employee</th>\n      <th>group</th>\n      <th>salary</th>\n    </tr>\n  </thead>\n  <tbody>\n    <tr>\n      <th>0</th>\n      <td>Bob</td>\n      <td>Accounting</td>\n      <td>70000</td>\n    </tr>\n    <tr>\n      <th>1</th>\n      <td>Jake</td>\n      <td>Engineering</td>\n      <td>80000</td>\n    </tr>\n    <tr>\n      <th>2</th>\n      <td>Lisa</td>\n      <td>Engineering</td>\n      <td>120000</td>\n    </tr>\n    <tr>\n      <th>3</th>\n      <td>Sue</td>\n      <td>HR</td>\n      <td>90000</td>\n    </tr>\n  </tbody>\n</table>\n</div>"
          },
          "metadata": {}
        }
      ],
      "execution_count": 114
    },
    {
      "cell_type": "code",
      "source": "df1a = df1.set_index('employee')\ndf2a = df2.set_index('employee')\ndisplay('df1a', 'df2a')",
      "metadata": {
        "trusted": true
      },
      "outputs": [
        {
          "execution_count": 115,
          "output_type": "execute_result",
          "data": {
            "text/plain": "df1a\n                group\nemployee             \nBob        Accounting\nJake      Engineering\nLisa      Engineering\nSue                HR\n\ndf2a\n          hire_date\nemployee           \nLisa           2004\nBob            2008\nJake           2012\nSue            2014",
            "text/html": "<div style=\"float: left; padding: 10px;\">\n    <p style='font-family:\"Courier New\", Courier, monospace'>df1a</p><div>\n<style scoped>\n    .dataframe tbody tr th:only-of-type {\n        vertical-align: middle;\n    }\n\n    .dataframe tbody tr th {\n        vertical-align: top;\n    }\n\n    .dataframe thead th {\n        text-align: right;\n    }\n</style>\n<table border=\"1\" class=\"dataframe\">\n  <thead>\n    <tr style=\"text-align: right;\">\n      <th></th>\n      <th>group</th>\n    </tr>\n    <tr>\n      <th>employee</th>\n      <th></th>\n    </tr>\n  </thead>\n  <tbody>\n    <tr>\n      <th>Bob</th>\n      <td>Accounting</td>\n    </tr>\n    <tr>\n      <th>Jake</th>\n      <td>Engineering</td>\n    </tr>\n    <tr>\n      <th>Lisa</th>\n      <td>Engineering</td>\n    </tr>\n    <tr>\n      <th>Sue</th>\n      <td>HR</td>\n    </tr>\n  </tbody>\n</table>\n</div>\n    </div>\n<div style=\"float: left; padding: 10px;\">\n    <p style='font-family:\"Courier New\", Courier, monospace'>df2a</p><div>\n<style scoped>\n    .dataframe tbody tr th:only-of-type {\n        vertical-align: middle;\n    }\n\n    .dataframe tbody tr th {\n        vertical-align: top;\n    }\n\n    .dataframe thead th {\n        text-align: right;\n    }\n</style>\n<table border=\"1\" class=\"dataframe\">\n  <thead>\n    <tr style=\"text-align: right;\">\n      <th></th>\n      <th>hire_date</th>\n    </tr>\n    <tr>\n      <th>employee</th>\n      <th></th>\n    </tr>\n  </thead>\n  <tbody>\n    <tr>\n      <th>Lisa</th>\n      <td>2004</td>\n    </tr>\n    <tr>\n      <th>Bob</th>\n      <td>2008</td>\n    </tr>\n    <tr>\n      <th>Jake</th>\n      <td>2012</td>\n    </tr>\n    <tr>\n      <th>Sue</th>\n      <td>2014</td>\n    </tr>\n  </tbody>\n</table>\n</div>\n    </div>"
          },
          "metadata": {}
        }
      ],
      "execution_count": 115
    },
    {
      "cell_type": "code",
      "source": "display('df1a', 'df2a',\n        \"pd.merge(df1a, df2a, left_index=True, right_index=True)\")",
      "metadata": {
        "trusted": true
      },
      "outputs": [
        {
          "execution_count": 116,
          "output_type": "execute_result",
          "data": {
            "text/plain": "df1a\n                group\nemployee             \nBob        Accounting\nJake      Engineering\nLisa      Engineering\nSue                HR\n\ndf2a\n          hire_date\nemployee           \nLisa           2004\nBob            2008\nJake           2012\nSue            2014\n\npd.merge(df1a, df2a, left_index=True, right_index=True)\n                group  hire_date\nemployee                        \nBob        Accounting       2008\nJake      Engineering       2012\nLisa      Engineering       2004\nSue                HR       2014",
            "text/html": "<div style=\"float: left; padding: 10px;\">\n    <p style='font-family:\"Courier New\", Courier, monospace'>df1a</p><div>\n<style scoped>\n    .dataframe tbody tr th:only-of-type {\n        vertical-align: middle;\n    }\n\n    .dataframe tbody tr th {\n        vertical-align: top;\n    }\n\n    .dataframe thead th {\n        text-align: right;\n    }\n</style>\n<table border=\"1\" class=\"dataframe\">\n  <thead>\n    <tr style=\"text-align: right;\">\n      <th></th>\n      <th>group</th>\n    </tr>\n    <tr>\n      <th>employee</th>\n      <th></th>\n    </tr>\n  </thead>\n  <tbody>\n    <tr>\n      <th>Bob</th>\n      <td>Accounting</td>\n    </tr>\n    <tr>\n      <th>Jake</th>\n      <td>Engineering</td>\n    </tr>\n    <tr>\n      <th>Lisa</th>\n      <td>Engineering</td>\n    </tr>\n    <tr>\n      <th>Sue</th>\n      <td>HR</td>\n    </tr>\n  </tbody>\n</table>\n</div>\n    </div>\n<div style=\"float: left; padding: 10px;\">\n    <p style='font-family:\"Courier New\", Courier, monospace'>df2a</p><div>\n<style scoped>\n    .dataframe tbody tr th:only-of-type {\n        vertical-align: middle;\n    }\n\n    .dataframe tbody tr th {\n        vertical-align: top;\n    }\n\n    .dataframe thead th {\n        text-align: right;\n    }\n</style>\n<table border=\"1\" class=\"dataframe\">\n  <thead>\n    <tr style=\"text-align: right;\">\n      <th></th>\n      <th>hire_date</th>\n    </tr>\n    <tr>\n      <th>employee</th>\n      <th></th>\n    </tr>\n  </thead>\n  <tbody>\n    <tr>\n      <th>Lisa</th>\n      <td>2004</td>\n    </tr>\n    <tr>\n      <th>Bob</th>\n      <td>2008</td>\n    </tr>\n    <tr>\n      <th>Jake</th>\n      <td>2012</td>\n    </tr>\n    <tr>\n      <th>Sue</th>\n      <td>2014</td>\n    </tr>\n  </tbody>\n</table>\n</div>\n    </div>\n<div style=\"float: left; padding: 10px;\">\n    <p style='font-family:\"Courier New\", Courier, monospace'>pd.merge(df1a, df2a, left_index=True, right_index=True)</p><div>\n<style scoped>\n    .dataframe tbody tr th:only-of-type {\n        vertical-align: middle;\n    }\n\n    .dataframe tbody tr th {\n        vertical-align: top;\n    }\n\n    .dataframe thead th {\n        text-align: right;\n    }\n</style>\n<table border=\"1\" class=\"dataframe\">\n  <thead>\n    <tr style=\"text-align: right;\">\n      <th></th>\n      <th>group</th>\n      <th>hire_date</th>\n    </tr>\n    <tr>\n      <th>employee</th>\n      <th></th>\n      <th></th>\n    </tr>\n  </thead>\n  <tbody>\n    <tr>\n      <th>Bob</th>\n      <td>Accounting</td>\n      <td>2008</td>\n    </tr>\n    <tr>\n      <th>Jake</th>\n      <td>Engineering</td>\n      <td>2012</td>\n    </tr>\n    <tr>\n      <th>Lisa</th>\n      <td>Engineering</td>\n      <td>2004</td>\n    </tr>\n    <tr>\n      <th>Sue</th>\n      <td>HR</td>\n      <td>2014</td>\n    </tr>\n  </tbody>\n</table>\n</div>\n    </div>"
          },
          "metadata": {}
        }
      ],
      "execution_count": 116
    },
    {
      "cell_type": "code",
      "source": "display('df1a', 'df2a', 'df1a.join(df2a)')",
      "metadata": {
        "trusted": true
      },
      "outputs": [
        {
          "execution_count": 117,
          "output_type": "execute_result",
          "data": {
            "text/plain": "df1a\n                group\nemployee             \nBob        Accounting\nJake      Engineering\nLisa      Engineering\nSue                HR\n\ndf2a\n          hire_date\nemployee           \nLisa           2004\nBob            2008\nJake           2012\nSue            2014\n\ndf1a.join(df2a)\n                group  hire_date\nemployee                        \nBob        Accounting       2008\nJake      Engineering       2012\nLisa      Engineering       2004\nSue                HR       2014",
            "text/html": "<div style=\"float: left; padding: 10px;\">\n    <p style='font-family:\"Courier New\", Courier, monospace'>df1a</p><div>\n<style scoped>\n    .dataframe tbody tr th:only-of-type {\n        vertical-align: middle;\n    }\n\n    .dataframe tbody tr th {\n        vertical-align: top;\n    }\n\n    .dataframe thead th {\n        text-align: right;\n    }\n</style>\n<table border=\"1\" class=\"dataframe\">\n  <thead>\n    <tr style=\"text-align: right;\">\n      <th></th>\n      <th>group</th>\n    </tr>\n    <tr>\n      <th>employee</th>\n      <th></th>\n    </tr>\n  </thead>\n  <tbody>\n    <tr>\n      <th>Bob</th>\n      <td>Accounting</td>\n    </tr>\n    <tr>\n      <th>Jake</th>\n      <td>Engineering</td>\n    </tr>\n    <tr>\n      <th>Lisa</th>\n      <td>Engineering</td>\n    </tr>\n    <tr>\n      <th>Sue</th>\n      <td>HR</td>\n    </tr>\n  </tbody>\n</table>\n</div>\n    </div>\n<div style=\"float: left; padding: 10px;\">\n    <p style='font-family:\"Courier New\", Courier, monospace'>df2a</p><div>\n<style scoped>\n    .dataframe tbody tr th:only-of-type {\n        vertical-align: middle;\n    }\n\n    .dataframe tbody tr th {\n        vertical-align: top;\n    }\n\n    .dataframe thead th {\n        text-align: right;\n    }\n</style>\n<table border=\"1\" class=\"dataframe\">\n  <thead>\n    <tr style=\"text-align: right;\">\n      <th></th>\n      <th>hire_date</th>\n    </tr>\n    <tr>\n      <th>employee</th>\n      <th></th>\n    </tr>\n  </thead>\n  <tbody>\n    <tr>\n      <th>Lisa</th>\n      <td>2004</td>\n    </tr>\n    <tr>\n      <th>Bob</th>\n      <td>2008</td>\n    </tr>\n    <tr>\n      <th>Jake</th>\n      <td>2012</td>\n    </tr>\n    <tr>\n      <th>Sue</th>\n      <td>2014</td>\n    </tr>\n  </tbody>\n</table>\n</div>\n    </div>\n<div style=\"float: left; padding: 10px;\">\n    <p style='font-family:\"Courier New\", Courier, monospace'>df1a.join(df2a)</p><div>\n<style scoped>\n    .dataframe tbody tr th:only-of-type {\n        vertical-align: middle;\n    }\n\n    .dataframe tbody tr th {\n        vertical-align: top;\n    }\n\n    .dataframe thead th {\n        text-align: right;\n    }\n</style>\n<table border=\"1\" class=\"dataframe\">\n  <thead>\n    <tr style=\"text-align: right;\">\n      <th></th>\n      <th>group</th>\n      <th>hire_date</th>\n    </tr>\n    <tr>\n      <th>employee</th>\n      <th></th>\n      <th></th>\n    </tr>\n  </thead>\n  <tbody>\n    <tr>\n      <th>Bob</th>\n      <td>Accounting</td>\n      <td>2008</td>\n    </tr>\n    <tr>\n      <th>Jake</th>\n      <td>Engineering</td>\n      <td>2012</td>\n    </tr>\n    <tr>\n      <th>Lisa</th>\n      <td>Engineering</td>\n      <td>2004</td>\n    </tr>\n    <tr>\n      <th>Sue</th>\n      <td>HR</td>\n      <td>2014</td>\n    </tr>\n  </tbody>\n</table>\n</div>\n    </div>"
          },
          "metadata": {}
        }
      ],
      "execution_count": 117
    },
    {
      "cell_type": "code",
      "source": "display('df1a', 'df3', \"pd.merge(df1a, df3, left_index=True, right_on='name')\")",
      "metadata": {
        "trusted": true
      },
      "outputs": [
        {
          "execution_count": 118,
          "output_type": "execute_result",
          "data": {
            "text/plain": "df1a\n                group\nemployee             \nBob        Accounting\nJake      Engineering\nLisa      Engineering\nSue                HR\n\ndf3\n   name  salary\n0   Bob   70000\n1  Jake   80000\n2  Lisa  120000\n3   Sue   90000\n\npd.merge(df1a, df3, left_index=True, right_on='name')\n         group  name  salary\n0   Accounting   Bob   70000\n1  Engineering  Jake   80000\n2  Engineering  Lisa  120000\n3           HR   Sue   90000",
            "text/html": "<div style=\"float: left; padding: 10px;\">\n    <p style='font-family:\"Courier New\", Courier, monospace'>df1a</p><div>\n<style scoped>\n    .dataframe tbody tr th:only-of-type {\n        vertical-align: middle;\n    }\n\n    .dataframe tbody tr th {\n        vertical-align: top;\n    }\n\n    .dataframe thead th {\n        text-align: right;\n    }\n</style>\n<table border=\"1\" class=\"dataframe\">\n  <thead>\n    <tr style=\"text-align: right;\">\n      <th></th>\n      <th>group</th>\n    </tr>\n    <tr>\n      <th>employee</th>\n      <th></th>\n    </tr>\n  </thead>\n  <tbody>\n    <tr>\n      <th>Bob</th>\n      <td>Accounting</td>\n    </tr>\n    <tr>\n      <th>Jake</th>\n      <td>Engineering</td>\n    </tr>\n    <tr>\n      <th>Lisa</th>\n      <td>Engineering</td>\n    </tr>\n    <tr>\n      <th>Sue</th>\n      <td>HR</td>\n    </tr>\n  </tbody>\n</table>\n</div>\n    </div>\n<div style=\"float: left; padding: 10px;\">\n    <p style='font-family:\"Courier New\", Courier, monospace'>df3</p><div>\n<style scoped>\n    .dataframe tbody tr th:only-of-type {\n        vertical-align: middle;\n    }\n\n    .dataframe tbody tr th {\n        vertical-align: top;\n    }\n\n    .dataframe thead th {\n        text-align: right;\n    }\n</style>\n<table border=\"1\" class=\"dataframe\">\n  <thead>\n    <tr style=\"text-align: right;\">\n      <th></th>\n      <th>name</th>\n      <th>salary</th>\n    </tr>\n  </thead>\n  <tbody>\n    <tr>\n      <th>0</th>\n      <td>Bob</td>\n      <td>70000</td>\n    </tr>\n    <tr>\n      <th>1</th>\n      <td>Jake</td>\n      <td>80000</td>\n    </tr>\n    <tr>\n      <th>2</th>\n      <td>Lisa</td>\n      <td>120000</td>\n    </tr>\n    <tr>\n      <th>3</th>\n      <td>Sue</td>\n      <td>90000</td>\n    </tr>\n  </tbody>\n</table>\n</div>\n    </div>\n<div style=\"float: left; padding: 10px;\">\n    <p style='font-family:\"Courier New\", Courier, monospace'>pd.merge(df1a, df3, left_index=True, right_on='name')</p><div>\n<style scoped>\n    .dataframe tbody tr th:only-of-type {\n        vertical-align: middle;\n    }\n\n    .dataframe tbody tr th {\n        vertical-align: top;\n    }\n\n    .dataframe thead th {\n        text-align: right;\n    }\n</style>\n<table border=\"1\" class=\"dataframe\">\n  <thead>\n    <tr style=\"text-align: right;\">\n      <th></th>\n      <th>group</th>\n      <th>name</th>\n      <th>salary</th>\n    </tr>\n  </thead>\n  <tbody>\n    <tr>\n      <th>0</th>\n      <td>Accounting</td>\n      <td>Bob</td>\n      <td>70000</td>\n    </tr>\n    <tr>\n      <th>1</th>\n      <td>Engineering</td>\n      <td>Jake</td>\n      <td>80000</td>\n    </tr>\n    <tr>\n      <th>2</th>\n      <td>Engineering</td>\n      <td>Lisa</td>\n      <td>120000</td>\n    </tr>\n    <tr>\n      <th>3</th>\n      <td>HR</td>\n      <td>Sue</td>\n      <td>90000</td>\n    </tr>\n  </tbody>\n</table>\n</div>\n    </div>"
          },
          "metadata": {}
        }
      ],
      "execution_count": 118
    },
    {
      "cell_type": "code",
      "source": "df6 = pd.DataFrame({'name': ['Peter', 'Paul', 'Mary'],\n                    'food': ['fish', 'beans', 'bread']},\n                   columns=['name', 'food'])\ndf7 = pd.DataFrame({'name': ['Mary', 'Joseph'],\n                    'drink': ['wine', 'beer']},\n                   columns=['name', 'drink'])\ndisplay('df6', 'df7', 'pd.merge(df6, df7)')",
      "metadata": {
        "trusted": true
      },
      "outputs": [
        {
          "execution_count": 119,
          "output_type": "execute_result",
          "data": {
            "text/plain": "df6\n    name   food\n0  Peter   fish\n1   Paul  beans\n2   Mary  bread\n\ndf7\n     name drink\n0    Mary  wine\n1  Joseph  beer\n\npd.merge(df6, df7)\n   name   food drink\n0  Mary  bread  wine",
            "text/html": "<div style=\"float: left; padding: 10px;\">\n    <p style='font-family:\"Courier New\", Courier, monospace'>df6</p><div>\n<style scoped>\n    .dataframe tbody tr th:only-of-type {\n        vertical-align: middle;\n    }\n\n    .dataframe tbody tr th {\n        vertical-align: top;\n    }\n\n    .dataframe thead th {\n        text-align: right;\n    }\n</style>\n<table border=\"1\" class=\"dataframe\">\n  <thead>\n    <tr style=\"text-align: right;\">\n      <th></th>\n      <th>name</th>\n      <th>food</th>\n    </tr>\n  </thead>\n  <tbody>\n    <tr>\n      <th>0</th>\n      <td>Peter</td>\n      <td>fish</td>\n    </tr>\n    <tr>\n      <th>1</th>\n      <td>Paul</td>\n      <td>beans</td>\n    </tr>\n    <tr>\n      <th>2</th>\n      <td>Mary</td>\n      <td>bread</td>\n    </tr>\n  </tbody>\n</table>\n</div>\n    </div>\n<div style=\"float: left; padding: 10px;\">\n    <p style='font-family:\"Courier New\", Courier, monospace'>df7</p><div>\n<style scoped>\n    .dataframe tbody tr th:only-of-type {\n        vertical-align: middle;\n    }\n\n    .dataframe tbody tr th {\n        vertical-align: top;\n    }\n\n    .dataframe thead th {\n        text-align: right;\n    }\n</style>\n<table border=\"1\" class=\"dataframe\">\n  <thead>\n    <tr style=\"text-align: right;\">\n      <th></th>\n      <th>name</th>\n      <th>drink</th>\n    </tr>\n  </thead>\n  <tbody>\n    <tr>\n      <th>0</th>\n      <td>Mary</td>\n      <td>wine</td>\n    </tr>\n    <tr>\n      <th>1</th>\n      <td>Joseph</td>\n      <td>beer</td>\n    </tr>\n  </tbody>\n</table>\n</div>\n    </div>\n<div style=\"float: left; padding: 10px;\">\n    <p style='font-family:\"Courier New\", Courier, monospace'>pd.merge(df6, df7)</p><div>\n<style scoped>\n    .dataframe tbody tr th:only-of-type {\n        vertical-align: middle;\n    }\n\n    .dataframe tbody tr th {\n        vertical-align: top;\n    }\n\n    .dataframe thead th {\n        text-align: right;\n    }\n</style>\n<table border=\"1\" class=\"dataframe\">\n  <thead>\n    <tr style=\"text-align: right;\">\n      <th></th>\n      <th>name</th>\n      <th>food</th>\n      <th>drink</th>\n    </tr>\n  </thead>\n  <tbody>\n    <tr>\n      <th>0</th>\n      <td>Mary</td>\n      <td>bread</td>\n      <td>wine</td>\n    </tr>\n  </tbody>\n</table>\n</div>\n    </div>"
          },
          "metadata": {}
        }
      ],
      "execution_count": 119
    },
    {
      "cell_type": "code",
      "source": "pd.merge(df6, df7, how='inner')",
      "metadata": {
        "trusted": true
      },
      "outputs": [
        {
          "execution_count": 120,
          "output_type": "execute_result",
          "data": {
            "text/plain": "   name   food drink\n0  Mary  bread  wine",
            "text/html": "<div>\n<style scoped>\n    .dataframe tbody tr th:only-of-type {\n        vertical-align: middle;\n    }\n\n    .dataframe tbody tr th {\n        vertical-align: top;\n    }\n\n    .dataframe thead th {\n        text-align: right;\n    }\n</style>\n<table border=\"1\" class=\"dataframe\">\n  <thead>\n    <tr style=\"text-align: right;\">\n      <th></th>\n      <th>name</th>\n      <th>food</th>\n      <th>drink</th>\n    </tr>\n  </thead>\n  <tbody>\n    <tr>\n      <th>0</th>\n      <td>Mary</td>\n      <td>bread</td>\n      <td>wine</td>\n    </tr>\n  </tbody>\n</table>\n</div>"
          },
          "metadata": {}
        }
      ],
      "execution_count": 120
    },
    {
      "cell_type": "code",
      "source": "display('df6', 'df7', \"pd.merge(df6, df7, how='outer')\")",
      "metadata": {
        "trusted": true
      },
      "outputs": [
        {
          "execution_count": 121,
          "output_type": "execute_result",
          "data": {
            "text/plain": "df6\n    name   food\n0  Peter   fish\n1   Paul  beans\n2   Mary  bread\n\ndf7\n     name drink\n0    Mary  wine\n1  Joseph  beer\n\npd.merge(df6, df7, how='outer')\n     name   food drink\n0   Peter   fish   NaN\n1    Paul  beans   NaN\n2    Mary  bread  wine\n3  Joseph    NaN  beer",
            "text/html": "<div style=\"float: left; padding: 10px;\">\n    <p style='font-family:\"Courier New\", Courier, monospace'>df6</p><div>\n<style scoped>\n    .dataframe tbody tr th:only-of-type {\n        vertical-align: middle;\n    }\n\n    .dataframe tbody tr th {\n        vertical-align: top;\n    }\n\n    .dataframe thead th {\n        text-align: right;\n    }\n</style>\n<table border=\"1\" class=\"dataframe\">\n  <thead>\n    <tr style=\"text-align: right;\">\n      <th></th>\n      <th>name</th>\n      <th>food</th>\n    </tr>\n  </thead>\n  <tbody>\n    <tr>\n      <th>0</th>\n      <td>Peter</td>\n      <td>fish</td>\n    </tr>\n    <tr>\n      <th>1</th>\n      <td>Paul</td>\n      <td>beans</td>\n    </tr>\n    <tr>\n      <th>2</th>\n      <td>Mary</td>\n      <td>bread</td>\n    </tr>\n  </tbody>\n</table>\n</div>\n    </div>\n<div style=\"float: left; padding: 10px;\">\n    <p style='font-family:\"Courier New\", Courier, monospace'>df7</p><div>\n<style scoped>\n    .dataframe tbody tr th:only-of-type {\n        vertical-align: middle;\n    }\n\n    .dataframe tbody tr th {\n        vertical-align: top;\n    }\n\n    .dataframe thead th {\n        text-align: right;\n    }\n</style>\n<table border=\"1\" class=\"dataframe\">\n  <thead>\n    <tr style=\"text-align: right;\">\n      <th></th>\n      <th>name</th>\n      <th>drink</th>\n    </tr>\n  </thead>\n  <tbody>\n    <tr>\n      <th>0</th>\n      <td>Mary</td>\n      <td>wine</td>\n    </tr>\n    <tr>\n      <th>1</th>\n      <td>Joseph</td>\n      <td>beer</td>\n    </tr>\n  </tbody>\n</table>\n</div>\n    </div>\n<div style=\"float: left; padding: 10px;\">\n    <p style='font-family:\"Courier New\", Courier, monospace'>pd.merge(df6, df7, how='outer')</p><div>\n<style scoped>\n    .dataframe tbody tr th:only-of-type {\n        vertical-align: middle;\n    }\n\n    .dataframe tbody tr th {\n        vertical-align: top;\n    }\n\n    .dataframe thead th {\n        text-align: right;\n    }\n</style>\n<table border=\"1\" class=\"dataframe\">\n  <thead>\n    <tr style=\"text-align: right;\">\n      <th></th>\n      <th>name</th>\n      <th>food</th>\n      <th>drink</th>\n    </tr>\n  </thead>\n  <tbody>\n    <tr>\n      <th>0</th>\n      <td>Peter</td>\n      <td>fish</td>\n      <td>NaN</td>\n    </tr>\n    <tr>\n      <th>1</th>\n      <td>Paul</td>\n      <td>beans</td>\n      <td>NaN</td>\n    </tr>\n    <tr>\n      <th>2</th>\n      <td>Mary</td>\n      <td>bread</td>\n      <td>wine</td>\n    </tr>\n    <tr>\n      <th>3</th>\n      <td>Joseph</td>\n      <td>NaN</td>\n      <td>beer</td>\n    </tr>\n  </tbody>\n</table>\n</div>\n    </div>"
          },
          "metadata": {}
        }
      ],
      "execution_count": 121
    },
    {
      "cell_type": "code",
      "source": "display('df6', 'df7', \"pd.merge(df6, df7, how='left')\")",
      "metadata": {
        "trusted": true
      },
      "outputs": [
        {
          "execution_count": 122,
          "output_type": "execute_result",
          "data": {
            "text/plain": "df6\n    name   food\n0  Peter   fish\n1   Paul  beans\n2   Mary  bread\n\ndf7\n     name drink\n0    Mary  wine\n1  Joseph  beer\n\npd.merge(df6, df7, how='left')\n    name   food drink\n0  Peter   fish   NaN\n1   Paul  beans   NaN\n2   Mary  bread  wine",
            "text/html": "<div style=\"float: left; padding: 10px;\">\n    <p style='font-family:\"Courier New\", Courier, monospace'>df6</p><div>\n<style scoped>\n    .dataframe tbody tr th:only-of-type {\n        vertical-align: middle;\n    }\n\n    .dataframe tbody tr th {\n        vertical-align: top;\n    }\n\n    .dataframe thead th {\n        text-align: right;\n    }\n</style>\n<table border=\"1\" class=\"dataframe\">\n  <thead>\n    <tr style=\"text-align: right;\">\n      <th></th>\n      <th>name</th>\n      <th>food</th>\n    </tr>\n  </thead>\n  <tbody>\n    <tr>\n      <th>0</th>\n      <td>Peter</td>\n      <td>fish</td>\n    </tr>\n    <tr>\n      <th>1</th>\n      <td>Paul</td>\n      <td>beans</td>\n    </tr>\n    <tr>\n      <th>2</th>\n      <td>Mary</td>\n      <td>bread</td>\n    </tr>\n  </tbody>\n</table>\n</div>\n    </div>\n<div style=\"float: left; padding: 10px;\">\n    <p style='font-family:\"Courier New\", Courier, monospace'>df7</p><div>\n<style scoped>\n    .dataframe tbody tr th:only-of-type {\n        vertical-align: middle;\n    }\n\n    .dataframe tbody tr th {\n        vertical-align: top;\n    }\n\n    .dataframe thead th {\n        text-align: right;\n    }\n</style>\n<table border=\"1\" class=\"dataframe\">\n  <thead>\n    <tr style=\"text-align: right;\">\n      <th></th>\n      <th>name</th>\n      <th>drink</th>\n    </tr>\n  </thead>\n  <tbody>\n    <tr>\n      <th>0</th>\n      <td>Mary</td>\n      <td>wine</td>\n    </tr>\n    <tr>\n      <th>1</th>\n      <td>Joseph</td>\n      <td>beer</td>\n    </tr>\n  </tbody>\n</table>\n</div>\n    </div>\n<div style=\"float: left; padding: 10px;\">\n    <p style='font-family:\"Courier New\", Courier, monospace'>pd.merge(df6, df7, how='left')</p><div>\n<style scoped>\n    .dataframe tbody tr th:only-of-type {\n        vertical-align: middle;\n    }\n\n    .dataframe tbody tr th {\n        vertical-align: top;\n    }\n\n    .dataframe thead th {\n        text-align: right;\n    }\n</style>\n<table border=\"1\" class=\"dataframe\">\n  <thead>\n    <tr style=\"text-align: right;\">\n      <th></th>\n      <th>name</th>\n      <th>food</th>\n      <th>drink</th>\n    </tr>\n  </thead>\n  <tbody>\n    <tr>\n      <th>0</th>\n      <td>Peter</td>\n      <td>fish</td>\n      <td>NaN</td>\n    </tr>\n    <tr>\n      <th>1</th>\n      <td>Paul</td>\n      <td>beans</td>\n      <td>NaN</td>\n    </tr>\n    <tr>\n      <th>2</th>\n      <td>Mary</td>\n      <td>bread</td>\n      <td>wine</td>\n    </tr>\n  </tbody>\n</table>\n</div>\n    </div>"
          },
          "metadata": {}
        }
      ],
      "execution_count": 122
    },
    {
      "cell_type": "code",
      "source": "df8 = pd.DataFrame({'name': ['Bob', 'Jake', 'Lisa', 'Sue'],\n                    'rank': [1, 2, 3, 4]})\ndf9 = pd.DataFrame({'name': ['Bob', 'Jake', 'Lisa', 'Sue'],\n                    'rank': [3, 1, 4, 2]})\ndisplay('df8', 'df9', 'pd.merge(df8, df9, on=\"name\")')",
      "metadata": {
        "trusted": true
      },
      "outputs": [
        {
          "execution_count": 123,
          "output_type": "execute_result",
          "data": {
            "text/plain": "df8\n   name  rank\n0   Bob     1\n1  Jake     2\n2  Lisa     3\n3   Sue     4\n\ndf9\n   name  rank\n0   Bob     3\n1  Jake     1\n2  Lisa     4\n3   Sue     2\n\npd.merge(df8, df9, on=\"name\")\n   name  rank_x  rank_y\n0   Bob       1       3\n1  Jake       2       1\n2  Lisa       3       4\n3   Sue       4       2",
            "text/html": "<div style=\"float: left; padding: 10px;\">\n    <p style='font-family:\"Courier New\", Courier, monospace'>df8</p><div>\n<style scoped>\n    .dataframe tbody tr th:only-of-type {\n        vertical-align: middle;\n    }\n\n    .dataframe tbody tr th {\n        vertical-align: top;\n    }\n\n    .dataframe thead th {\n        text-align: right;\n    }\n</style>\n<table border=\"1\" class=\"dataframe\">\n  <thead>\n    <tr style=\"text-align: right;\">\n      <th></th>\n      <th>name</th>\n      <th>rank</th>\n    </tr>\n  </thead>\n  <tbody>\n    <tr>\n      <th>0</th>\n      <td>Bob</td>\n      <td>1</td>\n    </tr>\n    <tr>\n      <th>1</th>\n      <td>Jake</td>\n      <td>2</td>\n    </tr>\n    <tr>\n      <th>2</th>\n      <td>Lisa</td>\n      <td>3</td>\n    </tr>\n    <tr>\n      <th>3</th>\n      <td>Sue</td>\n      <td>4</td>\n    </tr>\n  </tbody>\n</table>\n</div>\n    </div>\n<div style=\"float: left; padding: 10px;\">\n    <p style='font-family:\"Courier New\", Courier, monospace'>df9</p><div>\n<style scoped>\n    .dataframe tbody tr th:only-of-type {\n        vertical-align: middle;\n    }\n\n    .dataframe tbody tr th {\n        vertical-align: top;\n    }\n\n    .dataframe thead th {\n        text-align: right;\n    }\n</style>\n<table border=\"1\" class=\"dataframe\">\n  <thead>\n    <tr style=\"text-align: right;\">\n      <th></th>\n      <th>name</th>\n      <th>rank</th>\n    </tr>\n  </thead>\n  <tbody>\n    <tr>\n      <th>0</th>\n      <td>Bob</td>\n      <td>3</td>\n    </tr>\n    <tr>\n      <th>1</th>\n      <td>Jake</td>\n      <td>1</td>\n    </tr>\n    <tr>\n      <th>2</th>\n      <td>Lisa</td>\n      <td>4</td>\n    </tr>\n    <tr>\n      <th>3</th>\n      <td>Sue</td>\n      <td>2</td>\n    </tr>\n  </tbody>\n</table>\n</div>\n    </div>\n<div style=\"float: left; padding: 10px;\">\n    <p style='font-family:\"Courier New\", Courier, monospace'>pd.merge(df8, df9, on=\"name\")</p><div>\n<style scoped>\n    .dataframe tbody tr th:only-of-type {\n        vertical-align: middle;\n    }\n\n    .dataframe tbody tr th {\n        vertical-align: top;\n    }\n\n    .dataframe thead th {\n        text-align: right;\n    }\n</style>\n<table border=\"1\" class=\"dataframe\">\n  <thead>\n    <tr style=\"text-align: right;\">\n      <th></th>\n      <th>name</th>\n      <th>rank_x</th>\n      <th>rank_y</th>\n    </tr>\n  </thead>\n  <tbody>\n    <tr>\n      <th>0</th>\n      <td>Bob</td>\n      <td>1</td>\n      <td>3</td>\n    </tr>\n    <tr>\n      <th>1</th>\n      <td>Jake</td>\n      <td>2</td>\n      <td>1</td>\n    </tr>\n    <tr>\n      <th>2</th>\n      <td>Lisa</td>\n      <td>3</td>\n      <td>4</td>\n    </tr>\n    <tr>\n      <th>3</th>\n      <td>Sue</td>\n      <td>4</td>\n      <td>2</td>\n    </tr>\n  </tbody>\n</table>\n</div>\n    </div>"
          },
          "metadata": {}
        }
      ],
      "execution_count": 123
    },
    {
      "cell_type": "code",
      "source": "display('df8', 'df9', 'pd.merge(df8, df9, on=\"name\", suffixes=[\"_L\", \"_R\"])')",
      "metadata": {
        "trusted": true
      },
      "outputs": [
        {
          "execution_count": 124,
          "output_type": "execute_result",
          "data": {
            "text/plain": "df8\n   name  rank\n0   Bob     1\n1  Jake     2\n2  Lisa     3\n3   Sue     4\n\ndf9\n   name  rank\n0   Bob     3\n1  Jake     1\n2  Lisa     4\n3   Sue     2\n\npd.merge(df8, df9, on=\"name\", suffixes=[\"_L\", \"_R\"])\n   name  rank_L  rank_R\n0   Bob       1       3\n1  Jake       2       1\n2  Lisa       3       4\n3   Sue       4       2",
            "text/html": "<div style=\"float: left; padding: 10px;\">\n    <p style='font-family:\"Courier New\", Courier, monospace'>df8</p><div>\n<style scoped>\n    .dataframe tbody tr th:only-of-type {\n        vertical-align: middle;\n    }\n\n    .dataframe tbody tr th {\n        vertical-align: top;\n    }\n\n    .dataframe thead th {\n        text-align: right;\n    }\n</style>\n<table border=\"1\" class=\"dataframe\">\n  <thead>\n    <tr style=\"text-align: right;\">\n      <th></th>\n      <th>name</th>\n      <th>rank</th>\n    </tr>\n  </thead>\n  <tbody>\n    <tr>\n      <th>0</th>\n      <td>Bob</td>\n      <td>1</td>\n    </tr>\n    <tr>\n      <th>1</th>\n      <td>Jake</td>\n      <td>2</td>\n    </tr>\n    <tr>\n      <th>2</th>\n      <td>Lisa</td>\n      <td>3</td>\n    </tr>\n    <tr>\n      <th>3</th>\n      <td>Sue</td>\n      <td>4</td>\n    </tr>\n  </tbody>\n</table>\n</div>\n    </div>\n<div style=\"float: left; padding: 10px;\">\n    <p style='font-family:\"Courier New\", Courier, monospace'>df9</p><div>\n<style scoped>\n    .dataframe tbody tr th:only-of-type {\n        vertical-align: middle;\n    }\n\n    .dataframe tbody tr th {\n        vertical-align: top;\n    }\n\n    .dataframe thead th {\n        text-align: right;\n    }\n</style>\n<table border=\"1\" class=\"dataframe\">\n  <thead>\n    <tr style=\"text-align: right;\">\n      <th></th>\n      <th>name</th>\n      <th>rank</th>\n    </tr>\n  </thead>\n  <tbody>\n    <tr>\n      <th>0</th>\n      <td>Bob</td>\n      <td>3</td>\n    </tr>\n    <tr>\n      <th>1</th>\n      <td>Jake</td>\n      <td>1</td>\n    </tr>\n    <tr>\n      <th>2</th>\n      <td>Lisa</td>\n      <td>4</td>\n    </tr>\n    <tr>\n      <th>3</th>\n      <td>Sue</td>\n      <td>2</td>\n    </tr>\n  </tbody>\n</table>\n</div>\n    </div>\n<div style=\"float: left; padding: 10px;\">\n    <p style='font-family:\"Courier New\", Courier, monospace'>pd.merge(df8, df9, on=\"name\", suffixes=[\"_L\", \"_R\"])</p><div>\n<style scoped>\n    .dataframe tbody tr th:only-of-type {\n        vertical-align: middle;\n    }\n\n    .dataframe tbody tr th {\n        vertical-align: top;\n    }\n\n    .dataframe thead th {\n        text-align: right;\n    }\n</style>\n<table border=\"1\" class=\"dataframe\">\n  <thead>\n    <tr style=\"text-align: right;\">\n      <th></th>\n      <th>name</th>\n      <th>rank_L</th>\n      <th>rank_R</th>\n    </tr>\n  </thead>\n  <tbody>\n    <tr>\n      <th>0</th>\n      <td>Bob</td>\n      <td>1</td>\n      <td>3</td>\n    </tr>\n    <tr>\n      <th>1</th>\n      <td>Jake</td>\n      <td>2</td>\n      <td>1</td>\n    </tr>\n    <tr>\n      <th>2</th>\n      <td>Lisa</td>\n      <td>3</td>\n      <td>4</td>\n    </tr>\n    <tr>\n      <th>3</th>\n      <td>Sue</td>\n      <td>4</td>\n      <td>2</td>\n    </tr>\n  </tbody>\n</table>\n</div>\n    </div>"
          },
          "metadata": {}
        }
      ],
      "execution_count": 124
    },
    {
      "cell_type": "code",
      "source": "import numpy as np\nimport pandas as pd\n\nclass display(object):\n    \"\"\"Display HTML representation of multiple objects\"\"\"\n    template = \"\"\"<div style=\"float: left; padding: 10px;\">\n    <p style='font-family:\"Courier New\", Courier, monospace'>{0}</p>{1}\n    </div>\"\"\"\n    def __init__(self, *args):\n        self.args = args\n        \n    def _repr_html_(self):\n        return '\\n'.join(self.template.format(a, eval(a)._repr_html_())\n                         for a in self.args)\n    \n    def __repr__(self):\n        return '\\n\\n'.join(a + '\\n' + repr(eval(a))\n                           for a in self.args)",
      "metadata": {
        "trusted": true
      },
      "outputs": [],
      "execution_count": 130
    },
    {
      "cell_type": "code",
      "source": "rng = np.random.RandomState(42)\nser = pd.Series(rng.rand(5))\nser",
      "metadata": {
        "trusted": true
      },
      "outputs": [
        {
          "execution_count": 133,
          "output_type": "execute_result",
          "data": {
            "text/plain": "0    0.374540\n1    0.950714\n2    0.731994\n3    0.598658\n4    0.156019\ndtype: float64"
          },
          "metadata": {}
        }
      ],
      "execution_count": 133
    },
    {
      "cell_type": "code",
      "source": "ser.sum()",
      "metadata": {
        "trusted": true
      },
      "outputs": [
        {
          "execution_count": 134,
          "output_type": "execute_result",
          "data": {
            "text/plain": "2.811925491708157"
          },
          "metadata": {}
        }
      ],
      "execution_count": 134
    },
    {
      "cell_type": "code",
      "source": "ser.mean()",
      "metadata": {
        "trusted": true
      },
      "outputs": [
        {
          "execution_count": 135,
          "output_type": "execute_result",
          "data": {
            "text/plain": "0.5623850983416314"
          },
          "metadata": {}
        }
      ],
      "execution_count": 135
    },
    {
      "cell_type": "code",
      "source": "df = pd.DataFrame({'A': rng.rand(5),\n                   'B': rng.rand(5)})\ndf",
      "metadata": {
        "trusted": true
      },
      "outputs": [
        {
          "execution_count": 136,
          "output_type": "execute_result",
          "data": {
            "text/plain": "          A         B\n0  0.155995  0.020584\n1  0.058084  0.969910\n2  0.866176  0.832443\n3  0.601115  0.212339\n4  0.708073  0.181825",
            "text/html": "<div>\n<style scoped>\n    .dataframe tbody tr th:only-of-type {\n        vertical-align: middle;\n    }\n\n    .dataframe tbody tr th {\n        vertical-align: top;\n    }\n\n    .dataframe thead th {\n        text-align: right;\n    }\n</style>\n<table border=\"1\" class=\"dataframe\">\n  <thead>\n    <tr style=\"text-align: right;\">\n      <th></th>\n      <th>A</th>\n      <th>B</th>\n    </tr>\n  </thead>\n  <tbody>\n    <tr>\n      <th>0</th>\n      <td>0.155995</td>\n      <td>0.020584</td>\n    </tr>\n    <tr>\n      <th>1</th>\n      <td>0.058084</td>\n      <td>0.969910</td>\n    </tr>\n    <tr>\n      <th>2</th>\n      <td>0.866176</td>\n      <td>0.832443</td>\n    </tr>\n    <tr>\n      <th>3</th>\n      <td>0.601115</td>\n      <td>0.212339</td>\n    </tr>\n    <tr>\n      <th>4</th>\n      <td>0.708073</td>\n      <td>0.181825</td>\n    </tr>\n  </tbody>\n</table>\n</div>"
          },
          "metadata": {}
        }
      ],
      "execution_count": 136
    },
    {
      "cell_type": "code",
      "source": "df.mean()",
      "metadata": {
        "trusted": true
      },
      "outputs": [
        {
          "execution_count": 137,
          "output_type": "execute_result",
          "data": {
            "text/plain": "A    0.477888\nB    0.443420\ndtype: float64"
          },
          "metadata": {}
        }
      ],
      "execution_count": 137
    },
    {
      "cell_type": "code",
      "source": "df.mean(axis='columns')",
      "metadata": {
        "trusted": true
      },
      "outputs": [
        {
          "execution_count": 138,
          "output_type": "execute_result",
          "data": {
            "text/plain": "0    0.088290\n1    0.513997\n2    0.849309\n3    0.406727\n4    0.444949\ndtype: float64"
          },
          "metadata": {}
        }
      ],
      "execution_count": 138
    },
    {
      "cell_type": "code",
      "source": "df = pd.DataFrame({'key': ['A', 'B', 'C', 'A', 'B', 'C'],\n                   'data': range(6)}, columns=['key', 'data'])\ndf",
      "metadata": {
        "trusted": true
      },
      "outputs": [
        {
          "execution_count": 140,
          "output_type": "execute_result",
          "data": {
            "text/plain": "  key  data\n0   A     0\n1   B     1\n2   C     2\n3   A     3\n4   B     4\n5   C     5",
            "text/html": "<div>\n<style scoped>\n    .dataframe tbody tr th:only-of-type {\n        vertical-align: middle;\n    }\n\n    .dataframe tbody tr th {\n        vertical-align: top;\n    }\n\n    .dataframe thead th {\n        text-align: right;\n    }\n</style>\n<table border=\"1\" class=\"dataframe\">\n  <thead>\n    <tr style=\"text-align: right;\">\n      <th></th>\n      <th>key</th>\n      <th>data</th>\n    </tr>\n  </thead>\n  <tbody>\n    <tr>\n      <th>0</th>\n      <td>A</td>\n      <td>0</td>\n    </tr>\n    <tr>\n      <th>1</th>\n      <td>B</td>\n      <td>1</td>\n    </tr>\n    <tr>\n      <th>2</th>\n      <td>C</td>\n      <td>2</td>\n    </tr>\n    <tr>\n      <th>3</th>\n      <td>A</td>\n      <td>3</td>\n    </tr>\n    <tr>\n      <th>4</th>\n      <td>B</td>\n      <td>4</td>\n    </tr>\n    <tr>\n      <th>5</th>\n      <td>C</td>\n      <td>5</td>\n    </tr>\n  </tbody>\n</table>\n</div>"
          },
          "metadata": {}
        }
      ],
      "execution_count": 140
    },
    {
      "cell_type": "code",
      "source": "df.groupby('key')",
      "metadata": {
        "trusted": true
      },
      "outputs": [
        {
          "execution_count": 141,
          "output_type": "execute_result",
          "data": {
            "text/plain": "<pandas.core.groupby.generic.DataFrameGroupBy object at 0x6190318>"
          },
          "metadata": {}
        }
      ],
      "execution_count": 141
    },
    {
      "cell_type": "code",
      "source": "df.groupby('key').sum()",
      "metadata": {
        "trusted": true
      },
      "outputs": [
        {
          "execution_count": 142,
          "output_type": "execute_result",
          "data": {
            "text/plain": "     data\nkey      \nA       3\nB       5\nC       7",
            "text/html": "<div>\n<style scoped>\n    .dataframe tbody tr th:only-of-type {\n        vertical-align: middle;\n    }\n\n    .dataframe tbody tr th {\n        vertical-align: top;\n    }\n\n    .dataframe thead th {\n        text-align: right;\n    }\n</style>\n<table border=\"1\" class=\"dataframe\">\n  <thead>\n    <tr style=\"text-align: right;\">\n      <th></th>\n      <th>data</th>\n    </tr>\n    <tr>\n      <th>key</th>\n      <th></th>\n    </tr>\n  </thead>\n  <tbody>\n    <tr>\n      <th>A</th>\n      <td>3</td>\n    </tr>\n    <tr>\n      <th>B</th>\n      <td>5</td>\n    </tr>\n    <tr>\n      <th>C</th>\n      <td>7</td>\n    </tr>\n  </tbody>\n</table>\n</div>"
          },
          "metadata": {}
        }
      ],
      "execution_count": 142
    },
    {
      "cell_type": "code",
      "source": "rng = np.random.RandomState(0)\ndf = pd.DataFrame({'key': ['A', 'B', 'C', 'A', 'B', 'C'],\n                   'data1': range(6),\n                   'data2': rng.randint(0, 10, 6)},\n                   columns = ['key', 'data1', 'data2'])\ndf",
      "metadata": {
        "trusted": true
      },
      "outputs": [
        {
          "execution_count": 145,
          "output_type": "execute_result",
          "data": {
            "text/plain": "  key  data1  data2\n0   A      0      5\n1   B      1      0\n2   C      2      3\n3   A      3      3\n4   B      4      7\n5   C      5      9",
            "text/html": "<div>\n<style scoped>\n    .dataframe tbody tr th:only-of-type {\n        vertical-align: middle;\n    }\n\n    .dataframe tbody tr th {\n        vertical-align: top;\n    }\n\n    .dataframe thead th {\n        text-align: right;\n    }\n</style>\n<table border=\"1\" class=\"dataframe\">\n  <thead>\n    <tr style=\"text-align: right;\">\n      <th></th>\n      <th>key</th>\n      <th>data1</th>\n      <th>data2</th>\n    </tr>\n  </thead>\n  <tbody>\n    <tr>\n      <th>0</th>\n      <td>A</td>\n      <td>0</td>\n      <td>5</td>\n    </tr>\n    <tr>\n      <th>1</th>\n      <td>B</td>\n      <td>1</td>\n      <td>0</td>\n    </tr>\n    <tr>\n      <th>2</th>\n      <td>C</td>\n      <td>2</td>\n      <td>3</td>\n    </tr>\n    <tr>\n      <th>3</th>\n      <td>A</td>\n      <td>3</td>\n      <td>3</td>\n    </tr>\n    <tr>\n      <th>4</th>\n      <td>B</td>\n      <td>4</td>\n      <td>7</td>\n    </tr>\n    <tr>\n      <th>5</th>\n      <td>C</td>\n      <td>5</td>\n      <td>9</td>\n    </tr>\n  </tbody>\n</table>\n</div>"
          },
          "metadata": {}
        }
      ],
      "execution_count": 145
    },
    {
      "cell_type": "code",
      "source": "df.groupby('key').aggregate(['min', np.median, max])",
      "metadata": {
        "trusted": true
      },
      "outputs": [
        {
          "execution_count": 146,
          "output_type": "execute_result",
          "data": {
            "text/plain": "    data1            data2           \n      min median max   min median max\nkey                                  \nA       0    1.5   3     3    4.0   5\nB       1    2.5   4     0    3.5   7\nC       2    3.5   5     3    6.0   9",
            "text/html": "<div>\n<style scoped>\n    .dataframe tbody tr th:only-of-type {\n        vertical-align: middle;\n    }\n\n    .dataframe tbody tr th {\n        vertical-align: top;\n    }\n\n    .dataframe thead tr th {\n        text-align: left;\n    }\n\n    .dataframe thead tr:last-of-type th {\n        text-align: right;\n    }\n</style>\n<table border=\"1\" class=\"dataframe\">\n  <thead>\n    <tr>\n      <th></th>\n      <th colspan=\"3\" halign=\"left\">data1</th>\n      <th colspan=\"3\" halign=\"left\">data2</th>\n    </tr>\n    <tr>\n      <th></th>\n      <th>min</th>\n      <th>median</th>\n      <th>max</th>\n      <th>min</th>\n      <th>median</th>\n      <th>max</th>\n    </tr>\n    <tr>\n      <th>key</th>\n      <th></th>\n      <th></th>\n      <th></th>\n      <th></th>\n      <th></th>\n      <th></th>\n    </tr>\n  </thead>\n  <tbody>\n    <tr>\n      <th>A</th>\n      <td>0</td>\n      <td>1.5</td>\n      <td>3</td>\n      <td>3</td>\n      <td>4.0</td>\n      <td>5</td>\n    </tr>\n    <tr>\n      <th>B</th>\n      <td>1</td>\n      <td>2.5</td>\n      <td>4</td>\n      <td>0</td>\n      <td>3.5</td>\n      <td>7</td>\n    </tr>\n    <tr>\n      <th>C</th>\n      <td>2</td>\n      <td>3.5</td>\n      <td>5</td>\n      <td>3</td>\n      <td>6.0</td>\n      <td>9</td>\n    </tr>\n  </tbody>\n</table>\n</div>"
          },
          "metadata": {}
        }
      ],
      "execution_count": 146
    },
    {
      "cell_type": "code",
      "source": "df.groupby('key').aggregate({'data1': 'min',\n                             'data2': 'max'})",
      "metadata": {
        "trusted": true
      },
      "outputs": [
        {
          "execution_count": 147,
          "output_type": "execute_result",
          "data": {
            "text/plain": "     data1  data2\nkey              \nA        0      5\nB        1      7\nC        2      9",
            "text/html": "<div>\n<style scoped>\n    .dataframe tbody tr th:only-of-type {\n        vertical-align: middle;\n    }\n\n    .dataframe tbody tr th {\n        vertical-align: top;\n    }\n\n    .dataframe thead th {\n        text-align: right;\n    }\n</style>\n<table border=\"1\" class=\"dataframe\">\n  <thead>\n    <tr style=\"text-align: right;\">\n      <th></th>\n      <th>data1</th>\n      <th>data2</th>\n    </tr>\n    <tr>\n      <th>key</th>\n      <th></th>\n      <th></th>\n    </tr>\n  </thead>\n  <tbody>\n    <tr>\n      <th>A</th>\n      <td>0</td>\n      <td>5</td>\n    </tr>\n    <tr>\n      <th>B</th>\n      <td>1</td>\n      <td>7</td>\n    </tr>\n    <tr>\n      <th>C</th>\n      <td>2</td>\n      <td>9</td>\n    </tr>\n  </tbody>\n</table>\n</div>"
          },
          "metadata": {}
        }
      ],
      "execution_count": 147
    },
    {
      "cell_type": "code",
      "source": "def filter_func(x):\n    return x['data2'].std() > 4\n\ndisplay('df', \"df.groupby('key').std()\", \"df.groupby('key').filter(filter_func)\")",
      "metadata": {
        "trusted": true
      },
      "outputs": [
        {
          "execution_count": 148,
          "output_type": "execute_result",
          "data": {
            "text/plain": "df\n  key  data1  data2\n0   A      0      5\n1   B      1      0\n2   C      2      3\n3   A      3      3\n4   B      4      7\n5   C      5      9\n\ndf.groupby('key').std()\n       data1     data2\nkey                   \nA    2.12132  1.414214\nB    2.12132  4.949747\nC    2.12132  4.242641\n\ndf.groupby('key').filter(filter_func)\n  key  data1  data2\n1   B      1      0\n2   C      2      3\n4   B      4      7\n5   C      5      9",
            "text/html": "<div style=\"float: left; padding: 10px;\">\n    <p style='font-family:\"Courier New\", Courier, monospace'>df</p><div>\n<style scoped>\n    .dataframe tbody tr th:only-of-type {\n        vertical-align: middle;\n    }\n\n    .dataframe tbody tr th {\n        vertical-align: top;\n    }\n\n    .dataframe thead th {\n        text-align: right;\n    }\n</style>\n<table border=\"1\" class=\"dataframe\">\n  <thead>\n    <tr style=\"text-align: right;\">\n      <th></th>\n      <th>key</th>\n      <th>data1</th>\n      <th>data2</th>\n    </tr>\n  </thead>\n  <tbody>\n    <tr>\n      <th>0</th>\n      <td>A</td>\n      <td>0</td>\n      <td>5</td>\n    </tr>\n    <tr>\n      <th>1</th>\n      <td>B</td>\n      <td>1</td>\n      <td>0</td>\n    </tr>\n    <tr>\n      <th>2</th>\n      <td>C</td>\n      <td>2</td>\n      <td>3</td>\n    </tr>\n    <tr>\n      <th>3</th>\n      <td>A</td>\n      <td>3</td>\n      <td>3</td>\n    </tr>\n    <tr>\n      <th>4</th>\n      <td>B</td>\n      <td>4</td>\n      <td>7</td>\n    </tr>\n    <tr>\n      <th>5</th>\n      <td>C</td>\n      <td>5</td>\n      <td>9</td>\n    </tr>\n  </tbody>\n</table>\n</div>\n    </div>\n<div style=\"float: left; padding: 10px;\">\n    <p style='font-family:\"Courier New\", Courier, monospace'>df.groupby('key').std()</p><div>\n<style scoped>\n    .dataframe tbody tr th:only-of-type {\n        vertical-align: middle;\n    }\n\n    .dataframe tbody tr th {\n        vertical-align: top;\n    }\n\n    .dataframe thead th {\n        text-align: right;\n    }\n</style>\n<table border=\"1\" class=\"dataframe\">\n  <thead>\n    <tr style=\"text-align: right;\">\n      <th></th>\n      <th>data1</th>\n      <th>data2</th>\n    </tr>\n    <tr>\n      <th>key</th>\n      <th></th>\n      <th></th>\n    </tr>\n  </thead>\n  <tbody>\n    <tr>\n      <th>A</th>\n      <td>2.12132</td>\n      <td>1.414214</td>\n    </tr>\n    <tr>\n      <th>B</th>\n      <td>2.12132</td>\n      <td>4.949747</td>\n    </tr>\n    <tr>\n      <th>C</th>\n      <td>2.12132</td>\n      <td>4.242641</td>\n    </tr>\n  </tbody>\n</table>\n</div>\n    </div>\n<div style=\"float: left; padding: 10px;\">\n    <p style='font-family:\"Courier New\", Courier, monospace'>df.groupby('key').filter(filter_func)</p><div>\n<style scoped>\n    .dataframe tbody tr th:only-of-type {\n        vertical-align: middle;\n    }\n\n    .dataframe tbody tr th {\n        vertical-align: top;\n    }\n\n    .dataframe thead th {\n        text-align: right;\n    }\n</style>\n<table border=\"1\" class=\"dataframe\">\n  <thead>\n    <tr style=\"text-align: right;\">\n      <th></th>\n      <th>key</th>\n      <th>data1</th>\n      <th>data2</th>\n    </tr>\n  </thead>\n  <tbody>\n    <tr>\n      <th>1</th>\n      <td>B</td>\n      <td>1</td>\n      <td>0</td>\n    </tr>\n    <tr>\n      <th>2</th>\n      <td>C</td>\n      <td>2</td>\n      <td>3</td>\n    </tr>\n    <tr>\n      <th>4</th>\n      <td>B</td>\n      <td>4</td>\n      <td>7</td>\n    </tr>\n    <tr>\n      <th>5</th>\n      <td>C</td>\n      <td>5</td>\n      <td>9</td>\n    </tr>\n  </tbody>\n</table>\n</div>\n    </div>"
          },
          "metadata": {}
        }
      ],
      "execution_count": 148
    },
    {
      "cell_type": "code",
      "source": "df.groupby('key').transform(lambda x: x - x.mean())",
      "metadata": {
        "trusted": true
      },
      "outputs": [
        {
          "execution_count": 149,
          "output_type": "execute_result",
          "data": {
            "text/plain": "   data1  data2\n0   -1.5    1.0\n1   -1.5   -3.5\n2   -1.5   -3.0\n3    1.5   -1.0\n4    1.5    3.5\n5    1.5    3.0",
            "text/html": "<div>\n<style scoped>\n    .dataframe tbody tr th:only-of-type {\n        vertical-align: middle;\n    }\n\n    .dataframe tbody tr th {\n        vertical-align: top;\n    }\n\n    .dataframe thead th {\n        text-align: right;\n    }\n</style>\n<table border=\"1\" class=\"dataframe\">\n  <thead>\n    <tr style=\"text-align: right;\">\n      <th></th>\n      <th>data1</th>\n      <th>data2</th>\n    </tr>\n  </thead>\n  <tbody>\n    <tr>\n      <th>0</th>\n      <td>-1.5</td>\n      <td>1.0</td>\n    </tr>\n    <tr>\n      <th>1</th>\n      <td>-1.5</td>\n      <td>-3.5</td>\n    </tr>\n    <tr>\n      <th>2</th>\n      <td>-1.5</td>\n      <td>-3.0</td>\n    </tr>\n    <tr>\n      <th>3</th>\n      <td>1.5</td>\n      <td>-1.0</td>\n    </tr>\n    <tr>\n      <th>4</th>\n      <td>1.5</td>\n      <td>3.5</td>\n    </tr>\n    <tr>\n      <th>5</th>\n      <td>1.5</td>\n      <td>3.0</td>\n    </tr>\n  </tbody>\n</table>\n</div>"
          },
          "metadata": {}
        }
      ],
      "execution_count": 149
    },
    {
      "cell_type": "code",
      "source": "def norm_by_data2(x):\n    x['data1'] /= x['data2'].sum()\n    return x\ndisplay('df', \"df.groupby('key').apply(norm_by_data2)\")",
      "metadata": {
        "trusted": true
      },
      "outputs": [
        {
          "name": "stderr",
          "text": "<string>:1: FutureWarning: Not prepending group keys to the result index of transform-like apply. In the future, the group keys will be included in the index, regardless of whether the applied function returns a like-indexed object.\nTo preserve the previous behavior, use\n\n\t>>> .groupby(..., group_keys=False)\n\nTo adopt the future behavior and silence this warning, use \n\n\t>>> .groupby(..., group_keys=True)\n<string>:1: FutureWarning: Not prepending group keys to the result index of transform-like apply. In the future, the group keys will be included in the index, regardless of whether the applied function returns a like-indexed object.\nTo preserve the previous behavior, use\n\n\t>>> .groupby(..., group_keys=False)\n\nTo adopt the future behavior and silence this warning, use \n\n\t>>> .groupby(..., group_keys=True)\n",
          "output_type": "stream"
        },
        {
          "execution_count": 150,
          "output_type": "execute_result",
          "data": {
            "text/plain": "df\n  key  data1  data2\n0   A      0      5\n1   B      1      0\n2   C      2      3\n3   A      3      3\n4   B      4      7\n5   C      5      9\n\ndf.groupby('key').apply(norm_by_data2)\n  key     data1  data2\n0   A  0.000000      5\n1   B  0.142857      0\n2   C  0.166667      3\n3   A  0.375000      3\n4   B  0.571429      7\n5   C  0.416667      9",
            "text/html": "<div style=\"float: left; padding: 10px;\">\n    <p style='font-family:\"Courier New\", Courier, monospace'>df</p><div>\n<style scoped>\n    .dataframe tbody tr th:only-of-type {\n        vertical-align: middle;\n    }\n\n    .dataframe tbody tr th {\n        vertical-align: top;\n    }\n\n    .dataframe thead th {\n        text-align: right;\n    }\n</style>\n<table border=\"1\" class=\"dataframe\">\n  <thead>\n    <tr style=\"text-align: right;\">\n      <th></th>\n      <th>key</th>\n      <th>data1</th>\n      <th>data2</th>\n    </tr>\n  </thead>\n  <tbody>\n    <tr>\n      <th>0</th>\n      <td>A</td>\n      <td>0</td>\n      <td>5</td>\n    </tr>\n    <tr>\n      <th>1</th>\n      <td>B</td>\n      <td>1</td>\n      <td>0</td>\n    </tr>\n    <tr>\n      <th>2</th>\n      <td>C</td>\n      <td>2</td>\n      <td>3</td>\n    </tr>\n    <tr>\n      <th>3</th>\n      <td>A</td>\n      <td>3</td>\n      <td>3</td>\n    </tr>\n    <tr>\n      <th>4</th>\n      <td>B</td>\n      <td>4</td>\n      <td>7</td>\n    </tr>\n    <tr>\n      <th>5</th>\n      <td>C</td>\n      <td>5</td>\n      <td>9</td>\n    </tr>\n  </tbody>\n</table>\n</div>\n    </div>\n<div style=\"float: left; padding: 10px;\">\n    <p style='font-family:\"Courier New\", Courier, monospace'>df.groupby('key').apply(norm_by_data2)</p><div>\n<style scoped>\n    .dataframe tbody tr th:only-of-type {\n        vertical-align: middle;\n    }\n\n    .dataframe tbody tr th {\n        vertical-align: top;\n    }\n\n    .dataframe thead th {\n        text-align: right;\n    }\n</style>\n<table border=\"1\" class=\"dataframe\">\n  <thead>\n    <tr style=\"text-align: right;\">\n      <th></th>\n      <th>key</th>\n      <th>data1</th>\n      <th>data2</th>\n    </tr>\n  </thead>\n  <tbody>\n    <tr>\n      <th>0</th>\n      <td>A</td>\n      <td>0.000000</td>\n      <td>5</td>\n    </tr>\n    <tr>\n      <th>1</th>\n      <td>B</td>\n      <td>0.142857</td>\n      <td>0</td>\n    </tr>\n    <tr>\n      <th>2</th>\n      <td>C</td>\n      <td>0.166667</td>\n      <td>3</td>\n    </tr>\n    <tr>\n      <th>3</th>\n      <td>A</td>\n      <td>0.375000</td>\n      <td>3</td>\n    </tr>\n    <tr>\n      <th>4</th>\n      <td>B</td>\n      <td>0.571429</td>\n      <td>7</td>\n    </tr>\n    <tr>\n      <th>5</th>\n      <td>C</td>\n      <td>0.416667</td>\n      <td>9</td>\n    </tr>\n  </tbody>\n</table>\n</div>\n    </div>"
          },
          "metadata": {}
        }
      ],
      "execution_count": 150
    },
    {
      "cell_type": "code",
      "source": "L = [0, 1, 0, 1, 2, 0]\ndisplay('df', 'df.groupby(L).sum()')",
      "metadata": {
        "trusted": true
      },
      "outputs": [
        {
          "name": "stderr",
          "text": "<string>:1: FutureWarning: The default value of numeric_only in DataFrameGroupBy.sum is deprecated. In a future version, numeric_only will default to False. Either specify numeric_only or select only columns which should be valid for the function.\n<string>:1: FutureWarning: The default value of numeric_only in DataFrameGroupBy.sum is deprecated. In a future version, numeric_only will default to False. Either specify numeric_only or select only columns which should be valid for the function.\n",
          "output_type": "stream"
        },
        {
          "execution_count": 151,
          "output_type": "execute_result",
          "data": {
            "text/plain": "df\n  key  data1  data2\n0   A      0      5\n1   B      1      0\n2   C      2      3\n3   A      3      3\n4   B      4      7\n5   C      5      9\n\ndf.groupby(L).sum()\n   data1  data2\n0      7     17\n1      4      3\n2      4      7",
            "text/html": "<div style=\"float: left; padding: 10px;\">\n    <p style='font-family:\"Courier New\", Courier, monospace'>df</p><div>\n<style scoped>\n    .dataframe tbody tr th:only-of-type {\n        vertical-align: middle;\n    }\n\n    .dataframe tbody tr th {\n        vertical-align: top;\n    }\n\n    .dataframe thead th {\n        text-align: right;\n    }\n</style>\n<table border=\"1\" class=\"dataframe\">\n  <thead>\n    <tr style=\"text-align: right;\">\n      <th></th>\n      <th>key</th>\n      <th>data1</th>\n      <th>data2</th>\n    </tr>\n  </thead>\n  <tbody>\n    <tr>\n      <th>0</th>\n      <td>A</td>\n      <td>0</td>\n      <td>5</td>\n    </tr>\n    <tr>\n      <th>1</th>\n      <td>B</td>\n      <td>1</td>\n      <td>0</td>\n    </tr>\n    <tr>\n      <th>2</th>\n      <td>C</td>\n      <td>2</td>\n      <td>3</td>\n    </tr>\n    <tr>\n      <th>3</th>\n      <td>A</td>\n      <td>3</td>\n      <td>3</td>\n    </tr>\n    <tr>\n      <th>4</th>\n      <td>B</td>\n      <td>4</td>\n      <td>7</td>\n    </tr>\n    <tr>\n      <th>5</th>\n      <td>C</td>\n      <td>5</td>\n      <td>9</td>\n    </tr>\n  </tbody>\n</table>\n</div>\n    </div>\n<div style=\"float: left; padding: 10px;\">\n    <p style='font-family:\"Courier New\", Courier, monospace'>df.groupby(L).sum()</p><div>\n<style scoped>\n    .dataframe tbody tr th:only-of-type {\n        vertical-align: middle;\n    }\n\n    .dataframe tbody tr th {\n        vertical-align: top;\n    }\n\n    .dataframe thead th {\n        text-align: right;\n    }\n</style>\n<table border=\"1\" class=\"dataframe\">\n  <thead>\n    <tr style=\"text-align: right;\">\n      <th></th>\n      <th>data1</th>\n      <th>data2</th>\n    </tr>\n  </thead>\n  <tbody>\n    <tr>\n      <th>0</th>\n      <td>7</td>\n      <td>17</td>\n    </tr>\n    <tr>\n      <th>1</th>\n      <td>4</td>\n      <td>3</td>\n    </tr>\n    <tr>\n      <th>2</th>\n      <td>4</td>\n      <td>7</td>\n    </tr>\n  </tbody>\n</table>\n</div>\n    </div>"
          },
          "metadata": {}
        }
      ],
      "execution_count": 151
    },
    {
      "cell_type": "code",
      "source": "display('df', \"df.groupby(df['key']).sum()\")",
      "metadata": {
        "trusted": true
      },
      "outputs": [
        {
          "execution_count": 152,
          "output_type": "execute_result",
          "data": {
            "text/plain": "df\n  key  data1  data2\n0   A      0      5\n1   B      1      0\n2   C      2      3\n3   A      3      3\n4   B      4      7\n5   C      5      9\n\ndf.groupby(df['key']).sum()\n     data1  data2\nkey              \nA        3      8\nB        5      7\nC        7     12",
            "text/html": "<div style=\"float: left; padding: 10px;\">\n    <p style='font-family:\"Courier New\", Courier, monospace'>df</p><div>\n<style scoped>\n    .dataframe tbody tr th:only-of-type {\n        vertical-align: middle;\n    }\n\n    .dataframe tbody tr th {\n        vertical-align: top;\n    }\n\n    .dataframe thead th {\n        text-align: right;\n    }\n</style>\n<table border=\"1\" class=\"dataframe\">\n  <thead>\n    <tr style=\"text-align: right;\">\n      <th></th>\n      <th>key</th>\n      <th>data1</th>\n      <th>data2</th>\n    </tr>\n  </thead>\n  <tbody>\n    <tr>\n      <th>0</th>\n      <td>A</td>\n      <td>0</td>\n      <td>5</td>\n    </tr>\n    <tr>\n      <th>1</th>\n      <td>B</td>\n      <td>1</td>\n      <td>0</td>\n    </tr>\n    <tr>\n      <th>2</th>\n      <td>C</td>\n      <td>2</td>\n      <td>3</td>\n    </tr>\n    <tr>\n      <th>3</th>\n      <td>A</td>\n      <td>3</td>\n      <td>3</td>\n    </tr>\n    <tr>\n      <th>4</th>\n      <td>B</td>\n      <td>4</td>\n      <td>7</td>\n    </tr>\n    <tr>\n      <th>5</th>\n      <td>C</td>\n      <td>5</td>\n      <td>9</td>\n    </tr>\n  </tbody>\n</table>\n</div>\n    </div>\n<div style=\"float: left; padding: 10px;\">\n    <p style='font-family:\"Courier New\", Courier, monospace'>df.groupby(df['key']).sum()</p><div>\n<style scoped>\n    .dataframe tbody tr th:only-of-type {\n        vertical-align: middle;\n    }\n\n    .dataframe tbody tr th {\n        vertical-align: top;\n    }\n\n    .dataframe thead th {\n        text-align: right;\n    }\n</style>\n<table border=\"1\" class=\"dataframe\">\n  <thead>\n    <tr style=\"text-align: right;\">\n      <th></th>\n      <th>data1</th>\n      <th>data2</th>\n    </tr>\n    <tr>\n      <th>key</th>\n      <th></th>\n      <th></th>\n    </tr>\n  </thead>\n  <tbody>\n    <tr>\n      <th>A</th>\n      <td>3</td>\n      <td>8</td>\n    </tr>\n    <tr>\n      <th>B</th>\n      <td>5</td>\n      <td>7</td>\n    </tr>\n    <tr>\n      <th>C</th>\n      <td>7</td>\n      <td>12</td>\n    </tr>\n  </tbody>\n</table>\n</div>\n    </div>"
          },
          "metadata": {}
        }
      ],
      "execution_count": 152
    },
    {
      "cell_type": "code",
      "source": "df2 = df.set_index('key')\nmapping = {'A': 'vowel', 'B': 'consonant', 'C': 'consonant'}\ndisplay('df2', 'df2.groupby(mapping).sum()')",
      "metadata": {
        "trusted": true
      },
      "outputs": [
        {
          "execution_count": 153,
          "output_type": "execute_result",
          "data": {
            "text/plain": "df2\n     data1  data2\nkey              \nA        0      5\nB        1      0\nC        2      3\nA        3      3\nB        4      7\nC        5      9\n\ndf2.groupby(mapping).sum()\n           data1  data2\nkey                    \nconsonant     12     19\nvowel          3      8",
            "text/html": "<div style=\"float: left; padding: 10px;\">\n    <p style='font-family:\"Courier New\", Courier, monospace'>df2</p><div>\n<style scoped>\n    .dataframe tbody tr th:only-of-type {\n        vertical-align: middle;\n    }\n\n    .dataframe tbody tr th {\n        vertical-align: top;\n    }\n\n    .dataframe thead th {\n        text-align: right;\n    }\n</style>\n<table border=\"1\" class=\"dataframe\">\n  <thead>\n    <tr style=\"text-align: right;\">\n      <th></th>\n      <th>data1</th>\n      <th>data2</th>\n    </tr>\n    <tr>\n      <th>key</th>\n      <th></th>\n      <th></th>\n    </tr>\n  </thead>\n  <tbody>\n    <tr>\n      <th>A</th>\n      <td>0</td>\n      <td>5</td>\n    </tr>\n    <tr>\n      <th>B</th>\n      <td>1</td>\n      <td>0</td>\n    </tr>\n    <tr>\n      <th>C</th>\n      <td>2</td>\n      <td>3</td>\n    </tr>\n    <tr>\n      <th>A</th>\n      <td>3</td>\n      <td>3</td>\n    </tr>\n    <tr>\n      <th>B</th>\n      <td>4</td>\n      <td>7</td>\n    </tr>\n    <tr>\n      <th>C</th>\n      <td>5</td>\n      <td>9</td>\n    </tr>\n  </tbody>\n</table>\n</div>\n    </div>\n<div style=\"float: left; padding: 10px;\">\n    <p style='font-family:\"Courier New\", Courier, monospace'>df2.groupby(mapping).sum()</p><div>\n<style scoped>\n    .dataframe tbody tr th:only-of-type {\n        vertical-align: middle;\n    }\n\n    .dataframe tbody tr th {\n        vertical-align: top;\n    }\n\n    .dataframe thead th {\n        text-align: right;\n    }\n</style>\n<table border=\"1\" class=\"dataframe\">\n  <thead>\n    <tr style=\"text-align: right;\">\n      <th></th>\n      <th>data1</th>\n      <th>data2</th>\n    </tr>\n    <tr>\n      <th>key</th>\n      <th></th>\n      <th></th>\n    </tr>\n  </thead>\n  <tbody>\n    <tr>\n      <th>consonant</th>\n      <td>12</td>\n      <td>19</td>\n    </tr>\n    <tr>\n      <th>vowel</th>\n      <td>3</td>\n      <td>8</td>\n    </tr>\n  </tbody>\n</table>\n</div>\n    </div>"
          },
          "metadata": {}
        }
      ],
      "execution_count": 153
    },
    {
      "cell_type": "code",
      "source": "display('df2', 'df2.groupby(str.lower).mean()')",
      "metadata": {
        "trusted": true
      },
      "outputs": [
        {
          "execution_count": 154,
          "output_type": "execute_result",
          "data": {
            "text/plain": "df2\n     data1  data2\nkey              \nA        0      5\nB        1      0\nC        2      3\nA        3      3\nB        4      7\nC        5      9\n\ndf2.groupby(str.lower).mean()\n     data1  data2\nkey              \na      1.5    4.0\nb      2.5    3.5\nc      3.5    6.0",
            "text/html": "<div style=\"float: left; padding: 10px;\">\n    <p style='font-family:\"Courier New\", Courier, monospace'>df2</p><div>\n<style scoped>\n    .dataframe tbody tr th:only-of-type {\n        vertical-align: middle;\n    }\n\n    .dataframe tbody tr th {\n        vertical-align: top;\n    }\n\n    .dataframe thead th {\n        text-align: right;\n    }\n</style>\n<table border=\"1\" class=\"dataframe\">\n  <thead>\n    <tr style=\"text-align: right;\">\n      <th></th>\n      <th>data1</th>\n      <th>data2</th>\n    </tr>\n    <tr>\n      <th>key</th>\n      <th></th>\n      <th></th>\n    </tr>\n  </thead>\n  <tbody>\n    <tr>\n      <th>A</th>\n      <td>0</td>\n      <td>5</td>\n    </tr>\n    <tr>\n      <th>B</th>\n      <td>1</td>\n      <td>0</td>\n    </tr>\n    <tr>\n      <th>C</th>\n      <td>2</td>\n      <td>3</td>\n    </tr>\n    <tr>\n      <th>A</th>\n      <td>3</td>\n      <td>3</td>\n    </tr>\n    <tr>\n      <th>B</th>\n      <td>4</td>\n      <td>7</td>\n    </tr>\n    <tr>\n      <th>C</th>\n      <td>5</td>\n      <td>9</td>\n    </tr>\n  </tbody>\n</table>\n</div>\n    </div>\n<div style=\"float: left; padding: 10px;\">\n    <p style='font-family:\"Courier New\", Courier, monospace'>df2.groupby(str.lower).mean()</p><div>\n<style scoped>\n    .dataframe tbody tr th:only-of-type {\n        vertical-align: middle;\n    }\n\n    .dataframe tbody tr th {\n        vertical-align: top;\n    }\n\n    .dataframe thead th {\n        text-align: right;\n    }\n</style>\n<table border=\"1\" class=\"dataframe\">\n  <thead>\n    <tr style=\"text-align: right;\">\n      <th></th>\n      <th>data1</th>\n      <th>data2</th>\n    </tr>\n    <tr>\n      <th>key</th>\n      <th></th>\n      <th></th>\n    </tr>\n  </thead>\n  <tbody>\n    <tr>\n      <th>a</th>\n      <td>1.5</td>\n      <td>4.0</td>\n    </tr>\n    <tr>\n      <th>b</th>\n      <td>2.5</td>\n      <td>3.5</td>\n    </tr>\n    <tr>\n      <th>c</th>\n      <td>3.5</td>\n      <td>6.0</td>\n    </tr>\n  </tbody>\n</table>\n</div>\n    </div>"
          },
          "metadata": {}
        }
      ],
      "execution_count": 154
    },
    {
      "cell_type": "code",
      "source": "df2.groupby([str.lower, mapping]).mean()",
      "metadata": {
        "trusted": true
      },
      "outputs": [
        {
          "execution_count": 155,
          "output_type": "execute_result",
          "data": {
            "text/plain": "               data1  data2\nkey key                    \na   vowel        1.5    4.0\nb   consonant    2.5    3.5\nc   consonant    3.5    6.0",
            "text/html": "<div>\n<style scoped>\n    .dataframe tbody tr th:only-of-type {\n        vertical-align: middle;\n    }\n\n    .dataframe tbody tr th {\n        vertical-align: top;\n    }\n\n    .dataframe thead th {\n        text-align: right;\n    }\n</style>\n<table border=\"1\" class=\"dataframe\">\n  <thead>\n    <tr style=\"text-align: right;\">\n      <th></th>\n      <th></th>\n      <th>data1</th>\n      <th>data2</th>\n    </tr>\n    <tr>\n      <th>key</th>\n      <th>key</th>\n      <th></th>\n      <th></th>\n    </tr>\n  </thead>\n  <tbody>\n    <tr>\n      <th>a</th>\n      <th>vowel</th>\n      <td>1.5</td>\n      <td>4.0</td>\n    </tr>\n    <tr>\n      <th>b</th>\n      <th>consonant</th>\n      <td>2.5</td>\n      <td>3.5</td>\n    </tr>\n    <tr>\n      <th>c</th>\n      <th>consonant</th>\n      <td>3.5</td>\n      <td>6.0</td>\n    </tr>\n  </tbody>\n</table>\n</div>"
          },
          "metadata": {}
        }
      ],
      "execution_count": 155
    },
    {
      "cell_type": "code",
      "source": "import numpy as np\nx = np.array([2, 3, 5, 7, 11, 13])\nx * 2",
      "metadata": {
        "trusted": true
      },
      "outputs": [
        {
          "execution_count": 161,
          "output_type": "execute_result",
          "data": {
            "text/plain": "array([ 4,  6, 10, 14, 22, 26])"
          },
          "metadata": {}
        }
      ],
      "execution_count": 161
    },
    {
      "cell_type": "code",
      "source": "data = ['peter', 'Paul', 'MARY', 'gUIDO']\n[s.capitalize() for s in data]",
      "metadata": {
        "trusted": true
      },
      "outputs": [
        {
          "execution_count": 162,
          "output_type": "execute_result",
          "data": {
            "text/plain": "['Peter', 'Paul', 'Mary', 'Guido']"
          },
          "metadata": {}
        }
      ],
      "execution_count": 162
    },
    {
      "cell_type": "code",
      "source": "data = ['peter', 'Paul', None, 'MARY', 'gUIDO']\n[s.capitalize() for s in data]",
      "metadata": {
        "trusted": true
      },
      "outputs": [
        {
          "ename": "<class 'AttributeError'>",
          "evalue": "'NoneType' object has no attribute 'capitalize'",
          "traceback": [
            "\u001b[0;31m---------------------------------------------------------------------------\u001b[0m",
            "\u001b[0;31mAttributeError\u001b[0m                            Traceback (most recent call last)",
            "Cell \u001b[0;32mIn[163], line 2\u001b[0m\n\u001b[1;32m      1\u001b[0m data \u001b[38;5;241m=\u001b[39m [\u001b[38;5;124m'\u001b[39m\u001b[38;5;124mpeter\u001b[39m\u001b[38;5;124m'\u001b[39m, \u001b[38;5;124m'\u001b[39m\u001b[38;5;124mPaul\u001b[39m\u001b[38;5;124m'\u001b[39m, \u001b[38;5;28;01mNone\u001b[39;00m, \u001b[38;5;124m'\u001b[39m\u001b[38;5;124mMARY\u001b[39m\u001b[38;5;124m'\u001b[39m, \u001b[38;5;124m'\u001b[39m\u001b[38;5;124mgUIDO\u001b[39m\u001b[38;5;124m'\u001b[39m]\n\u001b[0;32m----> 2\u001b[0m \u001b[43m[\u001b[49m\u001b[43ms\u001b[49m\u001b[38;5;241;43m.\u001b[39;49m\u001b[43mcapitalize\u001b[49m\u001b[43m(\u001b[49m\u001b[43m)\u001b[49m\u001b[43m \u001b[49m\u001b[38;5;28;43;01mfor\u001b[39;49;00m\u001b[43m \u001b[49m\u001b[43ms\u001b[49m\u001b[43m \u001b[49m\u001b[38;5;129;43;01min\u001b[39;49;00m\u001b[43m \u001b[49m\u001b[43mdata\u001b[49m\u001b[43m]\u001b[49m\n",
            "Cell \u001b[0;32mIn[163], line 2\u001b[0m, in \u001b[0;36m<listcomp>\u001b[0;34m(.0)\u001b[0m\n\u001b[1;32m      1\u001b[0m data \u001b[38;5;241m=\u001b[39m [\u001b[38;5;124m'\u001b[39m\u001b[38;5;124mpeter\u001b[39m\u001b[38;5;124m'\u001b[39m, \u001b[38;5;124m'\u001b[39m\u001b[38;5;124mPaul\u001b[39m\u001b[38;5;124m'\u001b[39m, \u001b[38;5;28;01mNone\u001b[39;00m, \u001b[38;5;124m'\u001b[39m\u001b[38;5;124mMARY\u001b[39m\u001b[38;5;124m'\u001b[39m, \u001b[38;5;124m'\u001b[39m\u001b[38;5;124mgUIDO\u001b[39m\u001b[38;5;124m'\u001b[39m]\n\u001b[0;32m----> 2\u001b[0m [\u001b[43ms\u001b[49m\u001b[38;5;241;43m.\u001b[39;49m\u001b[43mcapitalize\u001b[49m() \u001b[38;5;28;01mfor\u001b[39;00m s \u001b[38;5;129;01min\u001b[39;00m data]\n",
            "\u001b[0;31mAttributeError\u001b[0m: 'NoneType' object has no attribute 'capitalize'"
          ],
          "output_type": "error"
        }
      ],
      "execution_count": 163
    },
    {
      "cell_type": "code",
      "source": "import pandas as pd\nnames = pd.Series(data)\nnames",
      "metadata": {
        "trusted": true
      },
      "outputs": [
        {
          "execution_count": 164,
          "output_type": "execute_result",
          "data": {
            "text/plain": "0    peter\n1     Paul\n2     None\n3     MARY\n4    gUIDO\ndtype: object"
          },
          "metadata": {}
        }
      ],
      "execution_count": 164
    },
    {
      "cell_type": "code",
      "source": "names.str.capitalize()",
      "metadata": {
        "trusted": true
      },
      "outputs": [
        {
          "execution_count": 165,
          "output_type": "execute_result",
          "data": {
            "text/plain": "0    Peter\n1     Paul\n2     None\n3     Mary\n4    Guido\ndtype: object"
          },
          "metadata": {}
        }
      ],
      "execution_count": 165
    },
    {
      "cell_type": "code",
      "source": "monte = pd.Series(['Graham Chapman', 'John Cleese', 'Terry Gilliam',\n                   'Eric Idle', 'Terry Jones', 'Michael Palin'])",
      "metadata": {
        "trusted": true
      },
      "outputs": [],
      "execution_count": 166
    },
    {
      "cell_type": "code",
      "source": "monte.str.lower()",
      "metadata": {
        "trusted": true
      },
      "outputs": [
        {
          "execution_count": 167,
          "output_type": "execute_result",
          "data": {
            "text/plain": "0    graham chapman\n1       john cleese\n2     terry gilliam\n3         eric idle\n4       terry jones\n5     michael palin\ndtype: object"
          },
          "metadata": {}
        }
      ],
      "execution_count": 167
    },
    {
      "cell_type": "code",
      "source": "monte.str.len()",
      "metadata": {
        "trusted": true
      },
      "outputs": [
        {
          "execution_count": 168,
          "output_type": "execute_result",
          "data": {
            "text/plain": "0    14\n1    11\n2    13\n3     9\n4    11\n5    13\ndtype: int64"
          },
          "metadata": {}
        }
      ],
      "execution_count": 168
    },
    {
      "cell_type": "code",
      "source": "monte.str.startswith('T')",
      "metadata": {
        "trusted": true
      },
      "outputs": [
        {
          "execution_count": 169,
          "output_type": "execute_result",
          "data": {
            "text/plain": "0    False\n1    False\n2     True\n3    False\n4     True\n5    False\ndtype: bool"
          },
          "metadata": {}
        }
      ],
      "execution_count": 169
    },
    {
      "cell_type": "code",
      "source": "monte.str.split()",
      "metadata": {
        "trusted": true
      },
      "outputs": [
        {
          "execution_count": 170,
          "output_type": "execute_result",
          "data": {
            "text/plain": "0    [Graham, Chapman]\n1       [John, Cleese]\n2     [Terry, Gilliam]\n3         [Eric, Idle]\n4       [Terry, Jones]\n5     [Michael, Palin]\ndtype: object"
          },
          "metadata": {}
        }
      ],
      "execution_count": 170
    },
    {
      "cell_type": "code",
      "source": "monte.str.extract('([A-Za-z]+)', expand=False)",
      "metadata": {
        "trusted": true
      },
      "outputs": [
        {
          "execution_count": 171,
          "output_type": "execute_result",
          "data": {
            "text/plain": "0     Graham\n1       John\n2      Terry\n3       Eric\n4      Terry\n5    Michael\ndtype: object"
          },
          "metadata": {}
        }
      ],
      "execution_count": 171
    },
    {
      "cell_type": "code",
      "source": "monte.str.findall(r'^[^AEIOU].*[^aeiou]$')",
      "metadata": {
        "trusted": true
      },
      "outputs": [
        {
          "execution_count": 172,
          "output_type": "execute_result",
          "data": {
            "text/plain": "0    [Graham Chapman]\n1                  []\n2     [Terry Gilliam]\n3                  []\n4       [Terry Jones]\n5     [Michael Palin]\ndtype: object"
          },
          "metadata": {}
        }
      ],
      "execution_count": 172
    },
    {
      "cell_type": "code",
      "source": "monte.str[0:3]",
      "metadata": {
        "trusted": true
      },
      "outputs": [
        {
          "execution_count": 173,
          "output_type": "execute_result",
          "data": {
            "text/plain": "0    Gra\n1    Joh\n2    Ter\n3    Eri\n4    Ter\n5    Mic\ndtype: object"
          },
          "metadata": {}
        }
      ],
      "execution_count": 173
    },
    {
      "cell_type": "code",
      "source": "monte.str.split().str.get(-1)",
      "metadata": {
        "trusted": true
      },
      "outputs": [
        {
          "execution_count": 174,
          "output_type": "execute_result",
          "data": {
            "text/plain": "0    Chapman\n1     Cleese\n2    Gilliam\n3       Idle\n4      Jones\n5      Palin\ndtype: object"
          },
          "metadata": {}
        }
      ],
      "execution_count": 174
    },
    {
      "cell_type": "code",
      "source": "full_monte = pd.DataFrame({'name': monte,\n                           'info': ['B|C|D', 'B|D', 'A|C',\n                                    'B|D', 'B|C', 'B|C|D']})\nfull_monte",
      "metadata": {
        "trusted": true
      },
      "outputs": [
        {
          "execution_count": 175,
          "output_type": "execute_result",
          "data": {
            "text/plain": "             name   info\n0  Graham Chapman  B|C|D\n1     John Cleese    B|D\n2   Terry Gilliam    A|C\n3       Eric Idle    B|D\n4     Terry Jones    B|C\n5   Michael Palin  B|C|D",
            "text/html": "<div>\n<style scoped>\n    .dataframe tbody tr th:only-of-type {\n        vertical-align: middle;\n    }\n\n    .dataframe tbody tr th {\n        vertical-align: top;\n    }\n\n    .dataframe thead th {\n        text-align: right;\n    }\n</style>\n<table border=\"1\" class=\"dataframe\">\n  <thead>\n    <tr style=\"text-align: right;\">\n      <th></th>\n      <th>name</th>\n      <th>info</th>\n    </tr>\n  </thead>\n  <tbody>\n    <tr>\n      <th>0</th>\n      <td>Graham Chapman</td>\n      <td>B|C|D</td>\n    </tr>\n    <tr>\n      <th>1</th>\n      <td>John Cleese</td>\n      <td>B|D</td>\n    </tr>\n    <tr>\n      <th>2</th>\n      <td>Terry Gilliam</td>\n      <td>A|C</td>\n    </tr>\n    <tr>\n      <th>3</th>\n      <td>Eric Idle</td>\n      <td>B|D</td>\n    </tr>\n    <tr>\n      <th>4</th>\n      <td>Terry Jones</td>\n      <td>B|C</td>\n    </tr>\n    <tr>\n      <th>5</th>\n      <td>Michael Palin</td>\n      <td>B|C|D</td>\n    </tr>\n  </tbody>\n</table>\n</div>"
          },
          "metadata": {}
        }
      ],
      "execution_count": 175
    },
    {
      "cell_type": "code",
      "source": "full_monte['info'].str.get_dummies('|')",
      "metadata": {
        "trusted": true
      },
      "outputs": [
        {
          "execution_count": 176,
          "output_type": "execute_result",
          "data": {
            "text/plain": "   A  B  C  D\n0  0  1  1  1\n1  0  1  0  1\n2  1  0  1  0\n3  0  1  0  1\n4  0  1  1  0\n5  0  1  1  1",
            "text/html": "<div>\n<style scoped>\n    .dataframe tbody tr th:only-of-type {\n        vertical-align: middle;\n    }\n\n    .dataframe tbody tr th {\n        vertical-align: top;\n    }\n\n    .dataframe thead th {\n        text-align: right;\n    }\n</style>\n<table border=\"1\" class=\"dataframe\">\n  <thead>\n    <tr style=\"text-align: right;\">\n      <th></th>\n      <th>A</th>\n      <th>B</th>\n      <th>C</th>\n      <th>D</th>\n    </tr>\n  </thead>\n  <tbody>\n    <tr>\n      <th>0</th>\n      <td>0</td>\n      <td>1</td>\n      <td>1</td>\n      <td>1</td>\n    </tr>\n    <tr>\n      <th>1</th>\n      <td>0</td>\n      <td>1</td>\n      <td>0</td>\n      <td>1</td>\n    </tr>\n    <tr>\n      <th>2</th>\n      <td>1</td>\n      <td>0</td>\n      <td>1</td>\n      <td>0</td>\n    </tr>\n    <tr>\n      <th>3</th>\n      <td>0</td>\n      <td>1</td>\n      <td>0</td>\n      <td>1</td>\n    </tr>\n    <tr>\n      <th>4</th>\n      <td>0</td>\n      <td>1</td>\n      <td>1</td>\n      <td>0</td>\n    </tr>\n    <tr>\n      <th>5</th>\n      <td>0</td>\n      <td>1</td>\n      <td>1</td>\n      <td>1</td>\n    </tr>\n  </tbody>\n</table>\n</div>"
          },
          "metadata": {}
        }
      ],
      "execution_count": 176
    },
    {
      "cell_type": "code",
      "source": "from datetime import datetime\ndatetime(year=2015, month=7, day=4)",
      "metadata": {
        "trusted": true
      },
      "outputs": [
        {
          "execution_count": 182,
          "output_type": "execute_result",
          "data": {
            "text/plain": "datetime.datetime(2015, 7, 4, 0, 0)"
          },
          "metadata": {}
        }
      ],
      "execution_count": 182
    },
    {
      "cell_type": "code",
      "source": "from dateutil import parser\ndate = parser.parse(\"4th of July, 2015\")\ndate",
      "metadata": {
        "trusted": true
      },
      "outputs": [
        {
          "execution_count": 183,
          "output_type": "execute_result",
          "data": {
            "text/plain": "datetime.datetime(2015, 7, 4, 0, 0)"
          },
          "metadata": {}
        }
      ],
      "execution_count": 183
    },
    {
      "cell_type": "code",
      "source": "date.strftime('%A')",
      "metadata": {
        "trusted": true
      },
      "outputs": [
        {
          "execution_count": 184,
          "output_type": "execute_result",
          "data": {
            "text/plain": "'Saturday'"
          },
          "metadata": {}
        }
      ],
      "execution_count": 184
    },
    {
      "cell_type": "code",
      "source": "import numpy as np\ndate = np.array('2015-07-04', dtype=np.datetime64)\ndate",
      "metadata": {
        "trusted": true
      },
      "outputs": [
        {
          "execution_count": 185,
          "output_type": "execute_result",
          "data": {
            "text/plain": "array('2015-07-04', dtype='datetime64[D]')"
          },
          "metadata": {}
        }
      ],
      "execution_count": 185
    },
    {
      "cell_type": "code",
      "source": "date + np.arange(12)",
      "metadata": {
        "trusted": true
      },
      "outputs": [
        {
          "execution_count": 186,
          "output_type": "execute_result",
          "data": {
            "text/plain": "array(['2015-07-04', '2015-07-05', '2015-07-06', '2015-07-07',\n       '2015-07-08', '2015-07-09', '2015-07-10', '2015-07-11',\n       '2015-07-12', '2015-07-13', '2015-07-14', '2015-07-15'],\n      dtype='datetime64[D]')"
          },
          "metadata": {}
        }
      ],
      "execution_count": 186
    },
    {
      "cell_type": "code",
      "source": "np.datetime64('2015-07-04')",
      "metadata": {
        "trusted": true
      },
      "outputs": [
        {
          "execution_count": 187,
          "output_type": "execute_result",
          "data": {
            "text/plain": "numpy.datetime64('2015-07-04')"
          },
          "metadata": {}
        }
      ],
      "execution_count": 187
    },
    {
      "cell_type": "code",
      "source": "np.datetime64('2015-07-04 12:00')",
      "metadata": {
        "trusted": true
      },
      "outputs": [
        {
          "execution_count": 188,
          "output_type": "execute_result",
          "data": {
            "text/plain": "numpy.datetime64('2015-07-04T12:00')"
          },
          "metadata": {}
        }
      ],
      "execution_count": 188
    },
    {
      "cell_type": "code",
      "source": "np.datetime64('2015-07-04 12:59:59.50', 'ns')",
      "metadata": {
        "trusted": true
      },
      "outputs": [
        {
          "execution_count": 189,
          "output_type": "execute_result",
          "data": {
            "text/plain": "numpy.datetime64('2015-07-04T12:59:59.500000000')"
          },
          "metadata": {}
        }
      ],
      "execution_count": 189
    },
    {
      "cell_type": "code",
      "source": "import pandas as pd\ndate = pd.to_datetime(\"4th of July, 2015\")\ndate",
      "metadata": {
        "trusted": true
      },
      "outputs": [
        {
          "execution_count": 190,
          "output_type": "execute_result",
          "data": {
            "text/plain": "Timestamp('2015-07-04 00:00:00')"
          },
          "metadata": {}
        }
      ],
      "execution_count": 190
    },
    {
      "cell_type": "code",
      "source": "date.strftime('%A')",
      "metadata": {
        "trusted": true
      },
      "outputs": [
        {
          "execution_count": 191,
          "output_type": "execute_result",
          "data": {
            "text/plain": "'Saturday'"
          },
          "metadata": {}
        }
      ],
      "execution_count": 191
    },
    {
      "cell_type": "code",
      "source": "date + pd.to_timedelta(np.arange(12), 'D')",
      "metadata": {
        "trusted": true
      },
      "outputs": [
        {
          "execution_count": 192,
          "output_type": "execute_result",
          "data": {
            "text/plain": "DatetimeIndex(['2015-07-04', '2015-07-05', '2015-07-06', '2015-07-07',\n               '2015-07-08', '2015-07-09', '2015-07-10', '2015-07-11',\n               '2015-07-12', '2015-07-13', '2015-07-14', '2015-07-15'],\n              dtype='datetime64[ns]', freq=None)"
          },
          "metadata": {}
        }
      ],
      "execution_count": 192
    },
    {
      "cell_type": "code",
      "source": "index = pd.DatetimeIndex(['2014-07-04', '2014-08-04',\n                          '2015-07-04', '2015-08-04'])\ndata = pd.Series([0, 1, 2, 3], index=index)\ndata",
      "metadata": {
        "trusted": true
      },
      "outputs": [
        {
          "execution_count": 193,
          "output_type": "execute_result",
          "data": {
            "text/plain": "2014-07-04    0\n2014-08-04    1\n2015-07-04    2\n2015-08-04    3\ndtype: int64"
          },
          "metadata": {}
        }
      ],
      "execution_count": 193
    },
    {
      "cell_type": "code",
      "source": "data['2014-07-04':'2015-07-04']",
      "metadata": {
        "trusted": true
      },
      "outputs": [
        {
          "execution_count": 194,
          "output_type": "execute_result",
          "data": {
            "text/plain": "2014-07-04    0\n2014-08-04    1\n2015-07-04    2\ndtype: int64"
          },
          "metadata": {}
        }
      ],
      "execution_count": 194
    },
    {
      "cell_type": "code",
      "source": "data['2015']",
      "metadata": {
        "trusted": true
      },
      "outputs": [
        {
          "execution_count": 195,
          "output_type": "execute_result",
          "data": {
            "text/plain": "2015-07-04    2\n2015-08-04    3\ndtype: int64"
          },
          "metadata": {}
        }
      ],
      "execution_count": 195
    },
    {
      "cell_type": "code",
      "source": "dates = pd.to_datetime([datetime(2015, 7, 3), '4th of July, 2015',\n                       '2015-Jul-6', '07-07-2015', '20150708'])\ndates",
      "metadata": {
        "trusted": true
      },
      "outputs": [
        {
          "execution_count": 196,
          "output_type": "execute_result",
          "data": {
            "text/plain": "DatetimeIndex(['2015-07-03', '2015-07-04', '2015-07-06', '2015-07-07',\n               '2015-07-08'],\n              dtype='datetime64[ns]', freq=None)"
          },
          "metadata": {}
        }
      ],
      "execution_count": 196
    },
    {
      "cell_type": "code",
      "source": "dates.to_period('D')",
      "metadata": {
        "trusted": true
      },
      "outputs": [
        {
          "execution_count": 197,
          "output_type": "execute_result",
          "data": {
            "text/plain": "PeriodIndex(['2015-07-03', '2015-07-04', '2015-07-06', '2015-07-07',\n             '2015-07-08'],\n            dtype='period[D]')"
          },
          "metadata": {}
        }
      ],
      "execution_count": 197
    },
    {
      "cell_type": "code",
      "source": "dates - dates[0]",
      "metadata": {
        "trusted": true
      },
      "outputs": [
        {
          "execution_count": 198,
          "output_type": "execute_result",
          "data": {
            "text/plain": "TimedeltaIndex(['0 days', '1 days', '3 days', '4 days', '5 days'], dtype='timedelta64[ns]', freq=None)"
          },
          "metadata": {}
        }
      ],
      "execution_count": 198
    },
    {
      "cell_type": "code",
      "source": "pd.date_range('2015-07-03', '2015-07-10')",
      "metadata": {
        "trusted": true
      },
      "outputs": [
        {
          "execution_count": 199,
          "output_type": "execute_result",
          "data": {
            "text/plain": "DatetimeIndex(['2015-07-03', '2015-07-04', '2015-07-05', '2015-07-06',\n               '2015-07-07', '2015-07-08', '2015-07-09', '2015-07-10'],\n              dtype='datetime64[ns]', freq='D')"
          },
          "metadata": {}
        }
      ],
      "execution_count": 199
    },
    {
      "cell_type": "code",
      "source": "pd.date_range('2015-07-03', periods=8)",
      "metadata": {
        "trusted": true
      },
      "outputs": [
        {
          "execution_count": 200,
          "output_type": "execute_result",
          "data": {
            "text/plain": "DatetimeIndex(['2015-07-03', '2015-07-04', '2015-07-05', '2015-07-06',\n               '2015-07-07', '2015-07-08', '2015-07-09', '2015-07-10'],\n              dtype='datetime64[ns]', freq='D')"
          },
          "metadata": {}
        }
      ],
      "execution_count": 200
    },
    {
      "cell_type": "code",
      "source": "pd.date_range('2015-07-03', periods=8, freq='H')",
      "metadata": {
        "trusted": true
      },
      "outputs": [
        {
          "execution_count": 201,
          "output_type": "execute_result",
          "data": {
            "text/plain": "DatetimeIndex(['2015-07-03 00:00:00', '2015-07-03 01:00:00',\n               '2015-07-03 02:00:00', '2015-07-03 03:00:00',\n               '2015-07-03 04:00:00', '2015-07-03 05:00:00',\n               '2015-07-03 06:00:00', '2015-07-03 07:00:00'],\n              dtype='datetime64[ns]', freq='H')"
          },
          "metadata": {}
        }
      ],
      "execution_count": 201
    },
    {
      "cell_type": "code",
      "source": "pd.period_range('2015-07', periods=8, freq='M')",
      "metadata": {
        "trusted": true
      },
      "outputs": [
        {
          "execution_count": 202,
          "output_type": "execute_result",
          "data": {
            "text/plain": "PeriodIndex(['2015-07', '2015-08', '2015-09', '2015-10', '2015-11', '2015-12',\n             '2016-01', '2016-02'],\n            dtype='period[M]')"
          },
          "metadata": {}
        }
      ],
      "execution_count": 202
    },
    {
      "cell_type": "code",
      "source": "pd.timedelta_range(0, periods=10, freq='H')",
      "metadata": {
        "trusted": true
      },
      "outputs": [
        {
          "execution_count": 203,
          "output_type": "execute_result",
          "data": {
            "text/plain": "TimedeltaIndex(['0 days 00:00:00', '0 days 01:00:00', '0 days 02:00:00',\n                '0 days 03:00:00', '0 days 04:00:00', '0 days 05:00:00',\n                '0 days 06:00:00', '0 days 07:00:00', '0 days 08:00:00',\n                '0 days 09:00:00'],\n               dtype='timedelta64[ns]', freq='H')"
          },
          "metadata": {}
        }
      ],
      "execution_count": 203
    },
    {
      "cell_type": "code",
      "source": "pd.timedelta_range(0, periods=9, freq=\"2H30T\")",
      "metadata": {
        "trusted": true
      },
      "outputs": [
        {
          "execution_count": 204,
          "output_type": "execute_result",
          "data": {
            "text/plain": "TimedeltaIndex(['0 days 00:00:00', '0 days 02:30:00', '0 days 05:00:00',\n                '0 days 07:30:00', '0 days 10:00:00', '0 days 12:30:00',\n                '0 days 15:00:00', '0 days 17:30:00', '0 days 20:00:00'],\n               dtype='timedelta64[ns]', freq='150T')"
          },
          "metadata": {}
        }
      ],
      "execution_count": 204
    },
    {
      "cell_type": "code",
      "source": "from pandas.tseries.offsets import BDay\npd.date_range('2015-07-01', periods=5, freq=BDay())",
      "metadata": {
        "trusted": true
      },
      "outputs": [
        {
          "execution_count": 205,
          "output_type": "execute_result",
          "data": {
            "text/plain": "DatetimeIndex(['2015-07-01', '2015-07-02', '2015-07-03', '2015-07-06',\n               '2015-07-07'],\n              dtype='datetime64[ns]', freq='B')"
          },
          "metadata": {}
        }
      ],
      "execution_count": 205
    },
    {
      "cell_type": "code",
      "source": "import numpy as np\nrng = np.random.RandomState(42)\nx = rng.rand(1000000)\ny = rng.rand(1000000)\n%timeit x + y",
      "metadata": {
        "trusted": true
      },
      "outputs": [
        {
          "name": "stdout",
          "text": "1.62 ms ± 91.1 μs per loop (mean ± std. dev. of 7 runs, 1,000 loops each)\n",
          "output_type": "stream"
        }
      ],
      "execution_count": 210
    },
    {
      "cell_type": "code",
      "source": "%timeit np.fromiter((xi + yi for xi, yi in zip(x, y)), dtype=x.dtype, count=len(x))",
      "metadata": {
        "trusted": true
      },
      "outputs": [
        {
          "name": "stdout",
          "text": "550 ms ± 44.6 ms per loop (mean ± std. dev. of 7 runs, 1 loop each)\n",
          "output_type": "stream"
        }
      ],
      "execution_count": 211
    },
    {
      "cell_type": "code",
      "source": "mask = (x > 0.5) & (y < 0.5)",
      "metadata": {
        "trusted": true
      },
      "outputs": [],
      "execution_count": 212
    },
    {
      "cell_type": "code",
      "source": "tmp1 = (x > 0.5)\ntmp2 = (y < 0.5)\nmask = tmp1 & tmp2",
      "metadata": {
        "trusted": true
      },
      "outputs": [],
      "execution_count": 213
    },
    {
      "cell_type": "code",
      "source": "import pandas as pd\nnrows, ncols = 100000, 100\nrng = np.random.RandomState(42)\ndf1, df2, df3, df4 = (pd.DataFrame(rng.rand(nrows, ncols))\n                      for i in range(4))",
      "metadata": {
        "trusted": true
      },
      "outputs": [],
      "execution_count": 215
    },
    {
      "cell_type": "code",
      "source": "%timeit df1 + df2 + df3 + df4",
      "metadata": {
        "trusted": true
      },
      "outputs": [
        {
          "name": "stdout",
          "text": "50.4 ms ± 1.46 ms per loop (mean ± std. dev. of 7 runs, 10 loops each)\n",
          "output_type": "stream"
        }
      ],
      "execution_count": 216
    },
    {
      "cell_type": "code",
      "source": "%timeit pd.eval('df1 + df2 + df3 + df4')",
      "metadata": {
        "trusted": true
      },
      "outputs": [
        {
          "name": "stdout",
          "text": "54.6 ms ± 2.49 ms per loop (mean ± std. dev. of 7 runs, 10 loops each)\n",
          "output_type": "stream"
        }
      ],
      "execution_count": 217
    },
    {
      "cell_type": "code",
      "source": "np.allclose(df1 + df2 + df3 + df4,\n            pd.eval('df1 + df2 + df3 + df4'))",
      "metadata": {
        "trusted": true
      },
      "outputs": [
        {
          "execution_count": 218,
          "output_type": "execute_result",
          "data": {
            "text/plain": "True"
          },
          "metadata": {}
        }
      ],
      "execution_count": 218
    },
    {
      "cell_type": "code",
      "source": "df1, df2, df3, df4, df5 = (pd.DataFrame(rng.randint(0, 1000, (100, 3)))\n                           for i in range(5))",
      "metadata": {
        "trusted": true
      },
      "outputs": [],
      "execution_count": 219
    },
    {
      "cell_type": "code",
      "source": "result1 = -df1 * df2 / (df3 + df4) - df5\nresult2 = pd.eval('-df1 * df2 / (df3 + df4) - df5')\nnp.allclose(result1, result2)",
      "metadata": {
        "trusted": true
      },
      "outputs": [
        {
          "execution_count": 220,
          "output_type": "execute_result",
          "data": {
            "text/plain": "True"
          },
          "metadata": {}
        }
      ],
      "execution_count": 220
    },
    {
      "cell_type": "code",
      "source": "result1 = (df1 < df2) & (df2 <= df3) & (df3 != df4)\nresult2 = pd.eval('df1 < df2 <= df3 != df4')\nnp.allclose(result1, result2)",
      "metadata": {
        "trusted": true
      },
      "outputs": [
        {
          "execution_count": 221,
          "output_type": "execute_result",
          "data": {
            "text/plain": "True"
          },
          "metadata": {}
        }
      ],
      "execution_count": 221
    },
    {
      "cell_type": "code",
      "source": "result1 = (df1 < 0.5) & (df2 < 0.5) | (df3 < df4)\nresult2 = pd.eval('(df1 < 0.5) & (df2 < 0.5) | (df3 < df4)')\nnp.allclose(result1, result2)",
      "metadata": {
        "trusted": true
      },
      "outputs": [
        {
          "execution_count": 222,
          "output_type": "execute_result",
          "data": {
            "text/plain": "True"
          },
          "metadata": {}
        }
      ],
      "execution_count": 222
    },
    {
      "cell_type": "code",
      "source": "result3 = pd.eval('(df1 < 0.5) and (df2 < 0.5) or (df3 < df4)')\nnp.allclose(result1, result3)",
      "metadata": {
        "trusted": true
      },
      "outputs": [
        {
          "execution_count": 223,
          "output_type": "execute_result",
          "data": {
            "text/plain": "True"
          },
          "metadata": {}
        }
      ],
      "execution_count": 223
    },
    {
      "cell_type": "code",
      "source": "result1 = df2.T[0] + df3.iloc[1]\nresult2 = pd.eval('df2.T[0] + df3.iloc[1]')\nnp.allclose(result1, result2)",
      "metadata": {
        "trusted": true
      },
      "outputs": [
        {
          "execution_count": 224,
          "output_type": "execute_result",
          "data": {
            "text/plain": "True"
          },
          "metadata": {}
        }
      ],
      "execution_count": 224
    },
    {
      "cell_type": "code",
      "source": "df = pd.DataFrame(rng.rand(1000, 3), columns=['A', 'B', 'C'])\ndf.head()",
      "metadata": {
        "trusted": true
      },
      "outputs": [
        {
          "execution_count": 225,
          "output_type": "execute_result",
          "data": {
            "text/plain": "          A         B         C\n0  0.375506  0.406939  0.069938\n1  0.069087  0.235615  0.154374\n2  0.677945  0.433839  0.652324\n3  0.264038  0.808055  0.347197\n4  0.589161  0.252418  0.557789",
            "text/html": "<div>\n<style scoped>\n    .dataframe tbody tr th:only-of-type {\n        vertical-align: middle;\n    }\n\n    .dataframe tbody tr th {\n        vertical-align: top;\n    }\n\n    .dataframe thead th {\n        text-align: right;\n    }\n</style>\n<table border=\"1\" class=\"dataframe\">\n  <thead>\n    <tr style=\"text-align: right;\">\n      <th></th>\n      <th>A</th>\n      <th>B</th>\n      <th>C</th>\n    </tr>\n  </thead>\n  <tbody>\n    <tr>\n      <th>0</th>\n      <td>0.375506</td>\n      <td>0.406939</td>\n      <td>0.069938</td>\n    </tr>\n    <tr>\n      <th>1</th>\n      <td>0.069087</td>\n      <td>0.235615</td>\n      <td>0.154374</td>\n    </tr>\n    <tr>\n      <th>2</th>\n      <td>0.677945</td>\n      <td>0.433839</td>\n      <td>0.652324</td>\n    </tr>\n    <tr>\n      <th>3</th>\n      <td>0.264038</td>\n      <td>0.808055</td>\n      <td>0.347197</td>\n    </tr>\n    <tr>\n      <th>4</th>\n      <td>0.589161</td>\n      <td>0.252418</td>\n      <td>0.557789</td>\n    </tr>\n  </tbody>\n</table>\n</div>"
          },
          "metadata": {}
        }
      ],
      "execution_count": 225
    },
    {
      "cell_type": "code",
      "source": "result1 = (df['A'] + df['B']) / (df['C'] - 1)\nresult2 = pd.eval(\"(df.A + df.B) / (df.C - 1)\")\nnp.allclose(result1, result2)",
      "metadata": {
        "trusted": true
      },
      "outputs": [
        {
          "execution_count": 226,
          "output_type": "execute_result",
          "data": {
            "text/plain": "True"
          },
          "metadata": {}
        }
      ],
      "execution_count": 226
    },
    {
      "cell_type": "code",
      "source": "result3 = df.eval('(A + B) / (C - 1)')\nnp.allclose(result1, result3)",
      "metadata": {
        "trusted": true
      },
      "outputs": [
        {
          "execution_count": 227,
          "output_type": "execute_result",
          "data": {
            "text/plain": "True"
          },
          "metadata": {}
        }
      ],
      "execution_count": 227
    },
    {
      "cell_type": "code",
      "source": "df.head()",
      "metadata": {
        "trusted": true
      },
      "outputs": [
        {
          "execution_count": 228,
          "output_type": "execute_result",
          "data": {
            "text/plain": "          A         B         C\n0  0.375506  0.406939  0.069938\n1  0.069087  0.235615  0.154374\n2  0.677945  0.433839  0.652324\n3  0.264038  0.808055  0.347197\n4  0.589161  0.252418  0.557789",
            "text/html": "<div>\n<style scoped>\n    .dataframe tbody tr th:only-of-type {\n        vertical-align: middle;\n    }\n\n    .dataframe tbody tr th {\n        vertical-align: top;\n    }\n\n    .dataframe thead th {\n        text-align: right;\n    }\n</style>\n<table border=\"1\" class=\"dataframe\">\n  <thead>\n    <tr style=\"text-align: right;\">\n      <th></th>\n      <th>A</th>\n      <th>B</th>\n      <th>C</th>\n    </tr>\n  </thead>\n  <tbody>\n    <tr>\n      <th>0</th>\n      <td>0.375506</td>\n      <td>0.406939</td>\n      <td>0.069938</td>\n    </tr>\n    <tr>\n      <th>1</th>\n      <td>0.069087</td>\n      <td>0.235615</td>\n      <td>0.154374</td>\n    </tr>\n    <tr>\n      <th>2</th>\n      <td>0.677945</td>\n      <td>0.433839</td>\n      <td>0.652324</td>\n    </tr>\n    <tr>\n      <th>3</th>\n      <td>0.264038</td>\n      <td>0.808055</td>\n      <td>0.347197</td>\n    </tr>\n    <tr>\n      <th>4</th>\n      <td>0.589161</td>\n      <td>0.252418</td>\n      <td>0.557789</td>\n    </tr>\n  </tbody>\n</table>\n</div>"
          },
          "metadata": {}
        }
      ],
      "execution_count": 228
    },
    {
      "cell_type": "code",
      "source": "df.eval('D = (A + B) / C', inplace=True)\ndf.head()",
      "metadata": {
        "trusted": true
      },
      "outputs": [
        {
          "execution_count": 229,
          "output_type": "execute_result",
          "data": {
            "text/plain": "          A         B         C          D\n0  0.375506  0.406939  0.069938  11.187620\n1  0.069087  0.235615  0.154374   1.973796\n2  0.677945  0.433839  0.652324   1.704344\n3  0.264038  0.808055  0.347197   3.087857\n4  0.589161  0.252418  0.557789   1.508776",
            "text/html": "<div>\n<style scoped>\n    .dataframe tbody tr th:only-of-type {\n        vertical-align: middle;\n    }\n\n    .dataframe tbody tr th {\n        vertical-align: top;\n    }\n\n    .dataframe thead th {\n        text-align: right;\n    }\n</style>\n<table border=\"1\" class=\"dataframe\">\n  <thead>\n    <tr style=\"text-align: right;\">\n      <th></th>\n      <th>A</th>\n      <th>B</th>\n      <th>C</th>\n      <th>D</th>\n    </tr>\n  </thead>\n  <tbody>\n    <tr>\n      <th>0</th>\n      <td>0.375506</td>\n      <td>0.406939</td>\n      <td>0.069938</td>\n      <td>11.187620</td>\n    </tr>\n    <tr>\n      <th>1</th>\n      <td>0.069087</td>\n      <td>0.235615</td>\n      <td>0.154374</td>\n      <td>1.973796</td>\n    </tr>\n    <tr>\n      <th>2</th>\n      <td>0.677945</td>\n      <td>0.433839</td>\n      <td>0.652324</td>\n      <td>1.704344</td>\n    </tr>\n    <tr>\n      <th>3</th>\n      <td>0.264038</td>\n      <td>0.808055</td>\n      <td>0.347197</td>\n      <td>3.087857</td>\n    </tr>\n    <tr>\n      <th>4</th>\n      <td>0.589161</td>\n      <td>0.252418</td>\n      <td>0.557789</td>\n      <td>1.508776</td>\n    </tr>\n  </tbody>\n</table>\n</div>"
          },
          "metadata": {}
        }
      ],
      "execution_count": 229
    },
    {
      "cell_type": "code",
      "source": "df.eval('D = (A - B) / C', inplace=True)\ndf.head()",
      "metadata": {
        "trusted": true
      },
      "outputs": [
        {
          "execution_count": 230,
          "output_type": "execute_result",
          "data": {
            "text/plain": "          A         B         C         D\n0  0.375506  0.406939  0.069938 -0.449425\n1  0.069087  0.235615  0.154374 -1.078728\n2  0.677945  0.433839  0.652324  0.374209\n3  0.264038  0.808055  0.347197 -1.566886\n4  0.589161  0.252418  0.557789  0.603708",
            "text/html": "<div>\n<style scoped>\n    .dataframe tbody tr th:only-of-type {\n        vertical-align: middle;\n    }\n\n    .dataframe tbody tr th {\n        vertical-align: top;\n    }\n\n    .dataframe thead th {\n        text-align: right;\n    }\n</style>\n<table border=\"1\" class=\"dataframe\">\n  <thead>\n    <tr style=\"text-align: right;\">\n      <th></th>\n      <th>A</th>\n      <th>B</th>\n      <th>C</th>\n      <th>D</th>\n    </tr>\n  </thead>\n  <tbody>\n    <tr>\n      <th>0</th>\n      <td>0.375506</td>\n      <td>0.406939</td>\n      <td>0.069938</td>\n      <td>-0.449425</td>\n    </tr>\n    <tr>\n      <th>1</th>\n      <td>0.069087</td>\n      <td>0.235615</td>\n      <td>0.154374</td>\n      <td>-1.078728</td>\n    </tr>\n    <tr>\n      <th>2</th>\n      <td>0.677945</td>\n      <td>0.433839</td>\n      <td>0.652324</td>\n      <td>0.374209</td>\n    </tr>\n    <tr>\n      <th>3</th>\n      <td>0.264038</td>\n      <td>0.808055</td>\n      <td>0.347197</td>\n      <td>-1.566886</td>\n    </tr>\n    <tr>\n      <th>4</th>\n      <td>0.589161</td>\n      <td>0.252418</td>\n      <td>0.557789</td>\n      <td>0.603708</td>\n    </tr>\n  </tbody>\n</table>\n</div>"
          },
          "metadata": {}
        }
      ],
      "execution_count": 230
    },
    {
      "cell_type": "code",
      "source": "column_mean = df.mean(1)\nresult1 = df['A'] + column_mean\nresult2 = df.eval('A + @column_mean')\nnp.allclose(result1, result2)",
      "metadata": {
        "trusted": true
      },
      "outputs": [
        {
          "execution_count": 231,
          "output_type": "execute_result",
          "data": {
            "text/plain": "True"
          },
          "metadata": {}
        }
      ],
      "execution_count": 231
    },
    {
      "cell_type": "code",
      "source": "result1 = df[(df.A < 0.5) & (df.B < 0.5)]\nresult2 = pd.eval('df[(df.A < 0.5) & (df.B < 0.5)]')\nnp.allclose(result1, result2)",
      "metadata": {
        "trusted": true
      },
      "outputs": [
        {
          "execution_count": 232,
          "output_type": "execute_result",
          "data": {
            "text/plain": "True"
          },
          "metadata": {}
        }
      ],
      "execution_count": 232
    },
    {
      "cell_type": "code",
      "source": "result2 = df.query('A < 0.5 and B < 0.5')\nnp.allclose(result1, result2)",
      "metadata": {
        "trusted": true
      },
      "outputs": [
        {
          "execution_count": 233,
          "output_type": "execute_result",
          "data": {
            "text/plain": "True"
          },
          "metadata": {}
        }
      ],
      "execution_count": 233
    },
    {
      "cell_type": "code",
      "source": "Cmean = df['C'].mean()\nresult1 = df[(df.A < Cmean) & (df.B < Cmean)]\nresult2 = df.query('A < @Cmean and B < @Cmean')\nnp.allclose(result1, result2)",
      "metadata": {
        "trusted": true
      },
      "outputs": [
        {
          "execution_count": 234,
          "output_type": "execute_result",
          "data": {
            "text/plain": "True"
          },
          "metadata": {}
        }
      ],
      "execution_count": 234
    },
    {
      "cell_type": "code",
      "source": "x = df[(df.A < 0.5) & (df.B < 0.5)]",
      "metadata": {
        "trusted": true
      },
      "outputs": [],
      "execution_count": 235
    },
    {
      "cell_type": "code",
      "source": "tmp1 = df.A < 0.5\ntmp2 = df.B < 0.5\ntmp3 = tmp1 & tmp2\nx = df[tmp3]",
      "metadata": {
        "trusted": true
      },
      "outputs": [],
      "execution_count": 236
    },
    {
      "cell_type": "code",
      "source": "df.values.nbytes",
      "metadata": {
        "trusted": true
      },
      "outputs": [
        {
          "execution_count": 237,
          "output_type": "execute_result",
          "data": {
            "text/plain": "32000"
          },
          "metadata": {}
        }
      ],
      "execution_count": 237
    },
    {
      "cell_type": "code",
      "source": "",
      "metadata": {
        "trusted": true
      },
      "outputs": [],
      "execution_count": null
    }
  ]
}